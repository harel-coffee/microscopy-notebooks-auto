{
 "cells": [
  {
   "cell_type": "markdown",
   "metadata": {},
   "source": [
    "# Dimension Reduction of Single-Cell Coculture Data\n",
    "Morphological feature space is high-dimensional, often with hundreds of features. In order to explore the structure of the data, one can use dimensionality reduction methodst to embed data in lower dimensions (in 2D)\n",
    "\n",
    "## DMSO Control Wells\n",
    "We will start with DMSO control wells and we will also use these for feature standardization:"
   ]
  },
  {
   "cell_type": "code",
   "execution_count": null,
   "metadata": {},
   "outputs": [],
   "source": [
    "# load third-party Python modules\n",
    "import javabridge\n",
    "import bioformats as bf\n",
    "import skimage\n",
    "import numpy as np\n",
    "import matplotlib.pyplot as plt\n",
    "import seaborn as sn\n",
    "import pandas as pd\n",
    "import re\n",
    "import os\n",
    "import sys\n",
    "import h5py\n",
    "import json\n",
    "from sklearn.manifold import TSNE\n",
    "\n",
    "javabridge.start_vm(class_path=bf.JARS)"
   ]
  },
  {
   "cell_type": "markdown",
   "metadata": {},
   "source": [
    "Simple function for loading pre-computed morphological features:"
   ]
  },
  {
   "cell_type": "code",
   "execution_count": null,
   "metadata": {},
   "outputs": [],
   "source": [
    "def load_cells(platedir, wells, annot, which=[1,2]):\n",
    "    imgdf = []\n",
    "    for w in wells:\n",
    "        df = pd.read_csv(os.path.join(platedir, w+'.csv'))\n",
    "        imgdf.append(df[np.isin(df['class'], which)])\n",
    "    imgdf = pd.concat(imgdf).reset_index(drop=True)\n",
    "    labels = imgdf[['class', 'file']]\n",
    "    imgdf = imgdf.drop(['class', 'file'], axis=1)\n",
    "    labels['well'] = labels['file'].replace(regex=r'f[0-9].+', value='') \n",
    "    labels = pd.merge(labels, annot, on='well')\n",
    "    return imgdf, labels"
   ]
  },
  {
   "cell_type": "markdown",
   "metadata": {},
   "source": [
    "Choose a plate and load the plate map:"
   ]
  },
  {
   "cell_type": "code",
   "execution_count": null,
   "metadata": {},
   "outputs": [],
   "source": [
    "platedir = '../imgdata/180528_Plate3/'\n",
    "# load plate annotation\n",
    "annot_df = pd.read_csv('../data/AML_trainset/drugannot.txt',\n",
    "                      sep='\\t')"
   ]
  },
  {
   "cell_type": "markdown",
   "metadata": {},
   "source": [
    "Load only control wells:"
   ]
  },
  {
   "cell_type": "code",
   "execution_count": null,
   "metadata": {},
   "outputs": [],
   "source": [
    "dmso = annot_df[annot_df.Drug == 'DMSO'].reset_index(drop=True)\n",
    "dmso_wells = dmso['well'].unique()"
   ]
  },
  {
   "cell_type": "code",
   "execution_count": null,
   "metadata": {},
   "outputs": [],
   "source": [
    "imgdf, labels = load_cells(platedir=platedir, wells=dmso_wells, annot=annot_df)"
   ]
  },
  {
   "cell_type": "markdown",
   "metadata": {},
   "source": [
    "Map integer classes to their names:"
   ]
  },
  {
   "cell_type": "code",
   "execution_count": null,
   "metadata": {},
   "outputs": [],
   "source": [
    "labels['class'] = labels['class'].apply(lambda x: 'Viable' if x == 2 else 'Apoptotic')"
   ]
  },
  {
   "cell_type": "code",
   "execution_count": null,
   "metadata": {},
   "outputs": [],
   "source": [
    "from sklearn.feature_selection import VarianceThreshold\n",
    "from bioimg.singlecell import preprocess_data\n",
    "sel = VarianceThreshold(threshold=1e-12).fit(imgdf)\n",
    "imgdf = preprocess_data(df=imgdf, sel=sel, glog=True)"
   ]
  },
  {
   "cell_type": "markdown",
   "metadata": {},
   "source": [
    "Standardize data (center and scale):"
   ]
  },
  {
   "cell_type": "code",
   "execution_count": null,
   "metadata": {},
   "outputs": [],
   "source": [
    "from sklearn.preprocessing import StandardScaler\n",
    "from bioimg.singlecell import scale_data, check_data\n",
    "scaler = StandardScaler().fit(X=imgdf)\n",
    "imgdf_scaled = scale_data(imgdf, scaler=scaler)"
   ]
  },
  {
   "cell_type": "code",
   "execution_count": null,
   "metadata": {},
   "outputs": [],
   "source": [
    "check_data(imgdf_scaled)"
   ]
  },
  {
   "cell_type": "code",
   "execution_count": null,
   "metadata": {},
   "outputs": [],
   "source": [
    "def subset_ncells(imgdf, labels, n):\n",
    "    subset = np.random.choice(imgdf.index, size=n)\n",
    "    imgdf_s = imgdf.loc[subset,:].reset_index(drop=True)\n",
    "    labels_s = labels.loc[subset,:].reset_index(drop=True)\n",
    "    return imgdf_s, labels_s"
   ]
  },
  {
   "cell_type": "markdown",
   "metadata": {},
   "source": [
    "Subset to $\\approx$ 2000 cells to speed up embedding:"
   ]
  },
  {
   "cell_type": "code",
   "execution_count": null,
   "metadata": {},
   "outputs": [],
   "source": [
    "np.random.seed(2906)\n",
    "imgdf_sub, labels_sub = subset_ncells(imgdf=imgdf_scaled, labels=labels, n=2000)"
   ]
  },
  {
   "cell_type": "markdown",
   "metadata": {},
   "source": [
    "Run t-SNE on the first 20 principal components:"
   ]
  },
  {
   "cell_type": "code",
   "execution_count": null,
   "metadata": {},
   "outputs": [],
   "source": [
    "from sklearn.decomposition import PCA\n",
    "pcs = PCA(n_components=20).fit_transform(imgdf_sub)\n",
    "X_tsne = TSNE(n_components=2, random_state=21, perplexity=50).fit_transform(pcs)"
   ]
  },
  {
   "cell_type": "code",
   "execution_count": null,
   "metadata": {},
   "outputs": [],
   "source": [
    "X_df = pd.concat([pd.DataFrame(X_tsne, columns=['tsne1', 'tsne2']), labels_sub], axis=1)"
   ]
  },
  {
   "cell_type": "code",
   "execution_count": null,
   "metadata": {},
   "outputs": [],
   "source": [
    "from bioimg.singlecell import plot_dimred\n",
    "plot_dimred(X_df, \n",
    "            hue='Culture',\n",
    "            style='class',\n",
    "            title='DMSO control wells',\n",
    "            style_order=['Viable', 'Apoptotic'])\n",
    "plt.legend(loc='lower right',\n",
    "           bbox_to_anchor=(1.3,0.3))"
   ]
  },
  {
   "cell_type": "markdown",
   "metadata": {},
   "source": [
    "## Dimension reduction in viable leukemia cells\n",
    "We are not interested in coculture-monoculture difference in apoptotic cell population. Load only viable cells from DMSO wells:"
   ]
  },
  {
   "cell_type": "code",
   "execution_count": null,
   "metadata": {},
   "outputs": [],
   "source": [
    "# which=2 selects only 'Viable' cancer cells\n",
    "ctrl_df, ctrl_annot = load_cells(platedir=platedir, wells=dmso_wells, annot=annot_df, which=2)"
   ]
  },
  {
   "cell_type": "code",
   "execution_count": null,
   "metadata": {},
   "outputs": [],
   "source": [
    "sel = VarianceThreshold(threshold=1e-12).fit(ctrl_df)\n",
    "ctrl_df = preprocess_data(df=ctrl_df, sel=sel, glog=True)"
   ]
  },
  {
   "cell_type": "code",
   "execution_count": null,
   "metadata": {},
   "outputs": [],
   "source": [
    "scaler = StandardScaler().fit(X=ctrl_df)\n",
    "ctrl_scaled = scale_data(ctrl_df, scaler=scaler)"
   ]
  },
  {
   "cell_type": "markdown",
   "metadata": {},
   "source": [
    "Run t-SNE on the first 20 principal components:"
   ]
  },
  {
   "cell_type": "code",
   "execution_count": null,
   "metadata": {},
   "outputs": [],
   "source": [
    "pcs = PCA(n_components=20).fit_transform(ctrl_scaled)\n",
    "X_tsne = TSNE(n_components=2, random_state=34, perplexity=30).fit_transform(pcs)"
   ]
  },
  {
   "cell_type": "code",
   "execution_count": null,
   "metadata": {},
   "outputs": [],
   "source": [
    "X_ctrl = pd.concat([pd.DataFrame(X_tsne, columns=['tsne1', 'tsne2']),\n",
    "                    ctrl_annot], axis=1)"
   ]
  },
  {
   "cell_type": "code",
   "execution_count": null,
   "metadata": {},
   "outputs": [],
   "source": [
    "plot_dimred(X_ctrl, hue='Culture',\n",
    "           title='Viable cells in control wells')\n",
    "plt.legend(loc='lower right',\n",
    "           bbox_to_anchor=(1.2,0.05))"
   ]
  },
  {
   "cell_type": "markdown",
   "metadata": {},
   "source": [
    "## Load Feature Selection Dictionary\n",
    "In `feature-selection.ipynb` we applied a number of methods to identify reproducible, non-redundant morphological features. Let's read in the feature sets:"
   ]
  },
  {
   "cell_type": "code",
   "execution_count": null,
   "metadata": {},
   "outputs": [],
   "source": [
    "with open('featselect.json') as file:\n",
    "    featdict = json.load(file)"
   ]
  },
  {
   "cell_type": "code",
   "execution_count": null,
   "metadata": {},
   "outputs": [],
   "source": [
    "{k : len(v) for k,v in featdict.items()}"
   ]
  },
  {
   "cell_type": "markdown",
   "metadata": {},
   "source": [
    "+ `repcor` features: reproducible features with biological replicate correlation > 0.6\n",
    "+ `residcor`: non-redundant feature set determined by correlation of regression residuals\n",
    "+ `rfe`: recursive feature elimination (RFE) with top 9 features that separate coculture from monoculture\n",
    "+ `uncorr`: uncorrelated features by greedy search\n",
    "+ `uncorr_rfe`: RFE on the uncorrelated feature set (`uncorr`) with top 6 features that separate coculture from monoculture\n",
    "\n",
    "A robust method of identifying non-redundant features is based on correlation of regression residuals: an initial feature set is used to fit linear models to predict all other features, the correlation between replicate residuals is computed and in each iteration a feature with the highest residual correlation is added into the feature set.\n",
    "\n",
    "We will use the `residcor` features to identify what morphological variables separate viable cells in coculture from those in monoculture."
   ]
  },
  {
   "cell_type": "code",
   "execution_count": null,
   "metadata": {},
   "outputs": [],
   "source": [
    "from bioimg.singlecell import plot_heatmap\n",
    "# feature correlation\n",
    "X_subset = ctrl_scaled[featdict['residcor']]\n",
    "featcor = pd.DataFrame(np.corrcoef(X_subset.T),\n",
    "                       index=X_subset.columns,\n",
    "                       columns=X_subset.columns )\n",
    "plot_heatmap(featcor, xticklabels=True, size=(12,14))"
   ]
  },
  {
   "cell_type": "markdown",
   "metadata": {},
   "source": [
    "Use recursive feature elimination (RFE) to identify top 9 features that separate leukemia cells in coculture from those in monoculture:"
   ]
  },
  {
   "cell_type": "code",
   "execution_count": null,
   "metadata": {},
   "outputs": [],
   "source": [
    "from bioimg.singlecell import recursive_elim, select_features\n",
    "\n",
    "y=np.copy(ctrl_annot['Culture'].values)\n",
    "y[y=='Mono-culture'] = 0\n",
    "y[y=='Co-culture'] = 1\n",
    "y = y.astype(int)\n",
    "\n",
    "rfe = recursive_elim(df=X_subset, y=y, n_feat=9, elim_step=1)\n",
    "X_rfe = select_features(df=X_subset, sel=rfe)\n",
    "feat_subset = X_rfe.columns.values"
   ]
  },
  {
   "cell_type": "markdown",
   "metadata": {},
   "source": [
    "Top 9 features that differentiate coculture from monoculture cancer cells are:"
   ]
  },
  {
   "cell_type": "code",
   "execution_count": null,
   "metadata": {},
   "outputs": [],
   "source": [
    "feat_subset"
   ]
  },
  {
   "cell_type": "markdown",
   "metadata": {},
   "source": [
    "Some of these features are difficult to interpret. However, looking at the correlation heatmap we see that\n",
    "+ `ch-Calcein-moments_hu-1` is highly correlated with and can be replaced by `Calcein-eccentricity`\n",
    "+ `ch-Calcein-moments_central-2-2` can be replaced by `Calcein-convex_area`\n",
    "+ `ch-Lysosomal-InfoMeas2-d5-0` can be replaced by `ch-Lysosomal-mean_intensity`"
   ]
  },
  {
   "cell_type": "code",
   "execution_count": null,
   "metadata": {},
   "outputs": [],
   "source": [
    "feat_subset[feat_subset == 'ch-Calcein-moments_hu-1'] = 'ch-Calcein-eccentricity'\n",
    "feat_subset[feat_subset == 'ch-Calcein-moments_central-2-2'] = 'ch-Calcein-convex_area'\n",
    "feat_subset[feat_subset == 'ch-Lysosomal-InfoMeas2-d5-0'] = 'ch-Lysosomal-mean_intensity'"
   ]
  },
  {
   "cell_type": "code",
   "execution_count": null,
   "metadata": {},
   "outputs": [],
   "source": [
    "X_ctrl = pd.concat([X_ctrl, ctrl_scaled.loc[:,feat_subset]], axis=1)"
   ]
  },
  {
   "cell_type": "code",
   "execution_count": null,
   "metadata": {},
   "outputs": [],
   "source": [
    "plot_dimred(X_ctrl, hue='Culture',\n",
    "           title='Viable cells in control wells')\n",
    "plt.legend(loc='lower right',\n",
    "           bbox_to_anchor=(1.2,0.05))"
   ]
  },
  {
   "cell_type": "code",
   "execution_count": null,
   "metadata": {},
   "outputs": [],
   "source": [
    "from bioimg.singlecell import facet_dimred\n",
    "facet_dimred(X_ctrl, feat_subset=feat_subset,\n",
    "            nrows=3, ncols=3)"
   ]
  },
  {
   "cell_type": "code",
   "execution_count": null,
   "metadata": {},
   "outputs": [],
   "source": [
    "colsub = ['Culture'] + feat_subset.tolist()\n",
    "X_long = pd.melt(X_ctrl[colsub], \n",
    "                 id_vars=['Culture'], \n",
    "                 value_vars=feat_subset,\n",
    "                 var_name='feature', \n",
    "                 value_name='val')"
   ]
  },
  {
   "cell_type": "code",
   "execution_count": null,
   "metadata": {},
   "outputs": [],
   "source": [
    "from bioimg.singlecell import facet_density\n",
    "facet_density(X_long, feat_column='feature',\n",
    "             ncols=3, hue='Culture',\n",
    "             sharey=False, size=(10,8),\n",
    "             aspect=1.4)"
   ]
  },
  {
   "cell_type": "markdown",
   "metadata": {},
   "source": [
    "Embed using UMAP:"
   ]
  },
  {
   "cell_type": "code",
   "execution_count": null,
   "metadata": {},
   "outputs": [],
   "source": [
    "'''\n",
    "import umap\n",
    "X_umap = umap.UMAP(random_state=29,\n",
    "                   n_neighbors=30,\n",
    "                   min_dist=0.2,\n",
    "                   metric='correlation').fit_transform(pcs)\n",
    "X_ctrl = pd.concat([pd.DataFrame(X_umap, columns=['umap1', 'umap2']), ctrl_annot], axis=1)\n",
    "plot_dimred(X_ctrl, dims='umap', hue='Culture',\n",
    "           title='Viable cells in control wells')\n",
    "plt.legend(loc='lower right',\n",
    "           bbox_to_anchor=(1.2,0.05))\n",
    "'''"
   ]
  },
  {
   "cell_type": "markdown",
   "metadata": {},
   "source": [
    "## Dimension Reduction on Drug Wells"
   ]
  },
  {
   "cell_type": "markdown",
   "metadata": {},
   "source": [
    "Now load some drug wells:"
   ]
  },
  {
   "cell_type": "code",
   "execution_count": null,
   "metadata": {},
   "outputs": [],
   "source": [
    "drug_sel = ['Tofacitinib', 'Midostaurin',\n",
    "                   'Ganetespib', 'Lenalidomide',\n",
    "                   'Pyridone 6', 'UMI-77',\n",
    "                   'Bafilomycin A1', \n",
    "                   'Quizartinib', 'Hydroxychloroquine',\n",
    "                   'Fludarabine', 'Vorinostat',\n",
    "                   'Thioguanine', 'Nutlin 3a',\n",
    "                   'Palbociclib', 'Carfilzomib',\n",
    "                   'JQ1', 'Cytarabine',\n",
    "                   'BAY61-3606', 'Venetoclax',\n",
    "                   'Ixazomib']"
   ]
  },
  {
   "cell_type": "code",
   "execution_count": null,
   "metadata": {},
   "outputs": [],
   "source": [
    "drugs = annot_df[np.isin(annot_df.Drug, drug_sel) ].reset_index(drop=True)\n",
    "drug_wells = drugs['well'].unique()"
   ]
  },
  {
   "cell_type": "code",
   "execution_count": null,
   "metadata": {},
   "outputs": [],
   "source": [
    "# which=2 selects only 'Viable' cancer cells\n",
    "drug_df, drug_annot = load_cells(platedir=platedir, wells=drug_wells, annot=annot_df, which=2)"
   ]
  },
  {
   "cell_type": "code",
   "execution_count": null,
   "metadata": {
    "scrolled": true
   },
   "outputs": [],
   "source": [
    "drug_df = preprocess_data(df=drug_df, sel=sel, glog=True)\n",
    "# scale by control wells\n",
    "drug_scaled = scale_data(drug_df, scaler=scaler)"
   ]
  },
  {
   "cell_type": "code",
   "execution_count": null,
   "metadata": {},
   "outputs": [],
   "source": [
    "pcs = PCA(n_components=20).fit_transform(drug_scaled)\n",
    "X_tsne = TSNE(n_components=2, random_state=21, perplexity=50).fit_transform(pcs)"
   ]
  },
  {
   "cell_type": "code",
   "execution_count": null,
   "metadata": {},
   "outputs": [],
   "source": [
    "X_df = pd.concat([pd.DataFrame(X_tsne, columns=['tsne1', 'tsne2']), drug_annot], axis=1)\n",
    "X_df = pd.concat([X_df, drug_scaled.loc[:,feat_subset]], axis=1)\n",
    "#X_df = pd.concat([X_df, Xfeat], axis=1)"
   ]
  },
  {
   "cell_type": "code",
   "execution_count": null,
   "metadata": {},
   "outputs": [],
   "source": [
    "plot_dimred(X_df, hue='Culture',\n",
    "           title='Viable cells in drug-treated wells')"
   ]
  },
  {
   "cell_type": "code",
   "execution_count": null,
   "metadata": {},
   "outputs": [],
   "source": [
    "facet_dimred(X_df, feat_subset=feat_subset,\n",
    "            nrows=3, ncols=3)"
   ]
  },
  {
   "cell_type": "code",
   "execution_count": null,
   "metadata": {},
   "outputs": [],
   "source": [
    "colsub = ['Culture'] + feat_subset.tolist()\n",
    "X_long = pd.melt(X_df[colsub], \n",
    "                 id_vars=['Culture'], \n",
    "                 value_vars=feat_subset,\n",
    "                 var_name='feature', \n",
    "                 value_name='val')"
   ]
  },
  {
   "cell_type": "code",
   "execution_count": null,
   "metadata": {},
   "outputs": [],
   "source": [
    "from bioimg.singlecell import facet_density\n",
    "facet_density(X_long, feat_column='feature',\n",
    "             ncols=3, hue='Culture', sharey=False,\n",
    "             aspect=1.4)"
   ]
  },
  {
   "cell_type": "code",
   "execution_count": null,
   "metadata": {},
   "outputs": [],
   "source": [
    "colsub = ['Drug', 'Culture'] + feat_subset.tolist()\n",
    "X_long = pd.melt(X_df[colsub], \n",
    "                 id_vars=['Drug', 'Culture'], \n",
    "                 value_vars=feat_subset,\n",
    "                 var_name='feature', \n",
    "                 value_name='val')"
   ]
  },
  {
   "cell_type": "code",
   "execution_count": null,
   "metadata": {},
   "outputs": [],
   "source": [
    "from bioimg.singlecell import facet_boxplot\n",
    "facet_boxplot(X_long, x='Drug',\n",
    "              y='val', feat_column='feature',\n",
    "              ncols=3,\n",
    "              nrows=3, hue='Culture')"
   ]
  },
  {
   "cell_type": "code",
   "execution_count": null,
   "metadata": {},
   "outputs": [],
   "source": [
    "drug_chunks = [drug_sel[i:i + 5] for i in range(0, len(drug_sel), 5)]"
   ]
  },
  {
   "cell_type": "code",
   "execution_count": null,
   "metadata": {},
   "outputs": [],
   "source": [
    "fig, ax = plt.subplots(ncols=2, nrows=2,\n",
    "                       figsize = (14,12))\n",
    "sn.set(font_scale=1.2)\n",
    "sn.set_style('white')\n",
    "sn.despine()\n",
    "for r in range(2):\n",
    "    for c in range(2):\n",
    "        sn.scatterplot(x = 'tsne1', y = 'tsne2', data=X_df[np.isin(X_df['Drug'], drug_chunks[r*2+c])],\n",
    "               hue = 'Drug',\n",
    "               s = 40, alpha = 0.8, ax=ax[r,c])\n",
    "        ax[r,c].legend(loc='lower right', bbox_to_anchor=(1.4,0.7))\n",
    "        ax[r,c].set_xlabel('TSNE 1')\n",
    "        ax[r,c].set_ylabel('TSNE 2')\n",
    "fig.subplots_adjust(wspace=0.5)"
   ]
  },
  {
   "cell_type": "code",
   "execution_count": null,
   "metadata": {},
   "outputs": [],
   "source": []
  }
 ],
 "metadata": {
  "kernelspec": {
   "display_name": "Python 3",
   "language": "python",
   "name": "python3"
  },
  "language_info": {
   "codemirror_mode": {
    "name": "ipython",
    "version": 3
   },
   "file_extension": ".py",
   "mimetype": "text/x-python",
   "name": "python",
   "nbconvert_exporter": "python",
   "pygments_lexer": "ipython3",
   "version": "3.8.3"
  }
 },
 "nbformat": 4,
 "nbformat_minor": 2
}

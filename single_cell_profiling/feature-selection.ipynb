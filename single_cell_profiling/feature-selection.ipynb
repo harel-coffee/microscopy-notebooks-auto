{
 "cells": [
  {
   "cell_type": "markdown",
   "metadata": {},
   "source": [
    "## Morphological Feature Selection"
   ]
  },
  {
   "cell_type": "code",
   "execution_count": null,
   "metadata": {},
   "outputs": [],
   "source": [
    "# load third-party Python modules\n",
    "import javabridge\n",
    "import bioformats as bf\n",
    "import skimage\n",
    "import numpy as np\n",
    "import matplotlib.pyplot as plt\n",
    "import seaborn as sn\n",
    "import pandas as pd\n",
    "import re\n",
    "import os\n",
    "import sys\n",
    "import h5py\n",
    "from sklearn.manifold import TSNE\n",
    "\n",
    "javabridge.start_vm(class_path=bf.JARS)"
   ]
  },
  {
   "cell_type": "markdown",
   "metadata": {},
   "source": [
    "Function for loading viable cancer cells (`class = 2` output by the object detection model):"
   ]
  },
  {
   "cell_type": "code",
   "execution_count": null,
   "metadata": {},
   "outputs": [],
   "source": [
    "def load_viable_cells(platedir, wells, annot):\n",
    "    imgdf = []\n",
    "    for w in wells:\n",
    "        df = pd.read_csv(os.path.join(platedir, w+'.csv'))\n",
    "        imgdf.append(df[df['class'] == 2])\n",
    "    imgdf = pd.concat(imgdf).reset_index(drop=True)\n",
    "    labels = imgdf[['class', 'file']]\n",
    "    imgdf = imgdf.drop(['class', 'file'], axis=1)\n",
    "    labels['well'] = labels['file'].replace(regex=r'f[0-9].+', value='')\n",
    "    labels['class'] = labels['class'].apply(lambda x: 'Viable' if x == 2 else 'Apoptotic')    \n",
    "    labels = pd.merge(labels, annot, on='well')\n",
    "    return imgdf, labels"
   ]
  },
  {
   "cell_type": "markdown",
   "metadata": {},
   "source": [
    "Load plate annotation file:"
   ]
  },
  {
   "cell_type": "code",
   "execution_count": null,
   "metadata": {},
   "outputs": [],
   "source": [
    "# load plate annotation\n",
    "annot_df = pd.read_csv('../data/AML_trainset/drugannot.txt',\n",
    "                      sep='\\t')"
   ]
  },
  {
   "cell_type": "code",
   "execution_count": null,
   "metadata": {},
   "outputs": [],
   "source": [
    "annot_df.head()"
   ]
  },
  {
   "cell_type": "code",
   "execution_count": null,
   "metadata": {},
   "outputs": [],
   "source": [
    "dmso = annot_df[annot_df.Drug == 'DMSO'].reset_index(drop=True)\n",
    "dmso_wells = dmso['well'].unique()"
   ]
  },
  {
   "cell_type": "markdown",
   "metadata": {},
   "source": [
    "Load viable cells from DMSO control wells:"
   ]
  },
  {
   "cell_type": "code",
   "execution_count": null,
   "metadata": {},
   "outputs": [],
   "source": [
    "ctrl_df, ctrl_annot = load_viable_cells(platedir='../imgdata/181109_Plate1',\n",
    "                            wells=dmso_wells, annot=dmso)"
   ]
  },
  {
   "cell_type": "markdown",
   "metadata": {},
   "source": [
    "Remove features with near-zero variance, choose `thresh=1e-12`:"
   ]
  },
  {
   "cell_type": "code",
   "execution_count": null,
   "metadata": {},
   "outputs": [],
   "source": [
    "from bioimg.singlecell import select_features\n",
    "from sklearn.feature_selection import VarianceThreshold\n",
    "sel = VarianceThreshold(threshold=1e-12).fit(ctrl_df)"
   ]
  },
  {
   "cell_type": "code",
   "execution_count": null,
   "metadata": {},
   "outputs": [],
   "source": [
    "ctrl_df = select_features(df=ctrl_df, sel=sel)"
   ]
  },
  {
   "cell_type": "markdown",
   "metadata": {},
   "source": [
    "Apply generalized logarithm-transform:\n",
    "\n",
    "$$g(x) =  \\log{\\left(\\frac{x+\\sqrt{x^2+c^2}}{2}+ \\varepsilon\\right) }$$\n",
    "\n",
    "with $c$, minimum value of each feature, and $\\varepsilon$, a small number that prevents from taking log of zero."
   ]
  },
  {
   "cell_type": "code",
   "execution_count": null,
   "metadata": {},
   "outputs": [],
   "source": [
    "eps = 1e-8\n",
    "ctrl_df = ctrl_df.apply(lambda x: np.log((x + np.sqrt(x**2 + x.min()**2))/2 + eps))"
   ]
  },
  {
   "cell_type": "code",
   "execution_count": null,
   "metadata": {},
   "outputs": [],
   "source": [
    "from sklearn.preprocessing import StandardScaler\n",
    "from bioimg.singlecell import scale_data, check_data"
   ]
  },
  {
   "cell_type": "code",
   "execution_count": null,
   "metadata": {},
   "outputs": [],
   "source": [
    "scaler = StandardScaler().fit(ctrl_df)\n",
    "ctrl_scaled = scale_data(ctrl_df, scaler=scaler).reset_index(drop=True)"
   ]
  },
  {
   "cell_type": "code",
   "execution_count": null,
   "metadata": {},
   "outputs": [],
   "source": [
    "check_data(ctrl_scaled)"
   ]
  },
  {
   "cell_type": "code",
   "execution_count": null,
   "metadata": {},
   "outputs": [],
   "source": [
    "# feature correlation\n",
    "featcor = pd.DataFrame(np.corrcoef(ctrl_scaled.T),\n",
    "                       index=ctrl_scaled.columns,\n",
    "                       columns=ctrl_scaled.columns )"
   ]
  },
  {
   "cell_type": "code",
   "execution_count": null,
   "metadata": {},
   "outputs": [],
   "source": [
    "from bioimg.singlecell import plot_heatmap\n",
    "plot_heatmap(featcor)"
   ]
  },
  {
   "cell_type": "markdown",
   "metadata": {},
   "source": [
    "Check out features with few correlations:"
   ]
  },
  {
   "cell_type": "code",
   "execution_count": null,
   "metadata": {},
   "outputs": [],
   "source": [
    "featcor.columns[featcor.abs().sum(axis=1) < 30].values[:30]"
   ]
  },
  {
   "cell_type": "markdown",
   "metadata": {},
   "source": [
    "## Feature selection based on replicate correlation\n",
    "Load all wells from 2 biological replicate plates:"
   ]
  },
  {
   "cell_type": "code",
   "execution_count": null,
   "metadata": {},
   "outputs": [],
   "source": [
    "all_wells = annot_df['well'].values"
   ]
  },
  {
   "cell_type": "code",
   "execution_count": null,
   "metadata": {},
   "outputs": [],
   "source": [
    "rep1_df, rep1_annot = load_viable_cells(platedir='../imgdata/181109_Plate1', \n",
    "                                        wells=all_wells,\n",
    "                                       annot=annot_df)"
   ]
  },
  {
   "cell_type": "markdown",
   "metadata": {},
   "source": [
    "Remove zero-variance features:"
   ]
  },
  {
   "cell_type": "code",
   "execution_count": null,
   "metadata": {},
   "outputs": [],
   "source": [
    "rep1_df = select_features(rep1_df, sel=sel)"
   ]
  },
  {
   "cell_type": "code",
   "execution_count": null,
   "metadata": {},
   "outputs": [],
   "source": [
    "rep1_df = rep1_df.apply(lambda x: np.log((x + np.sqrt(x**2 + x.min()**2))/2 + eps))"
   ]
  },
  {
   "cell_type": "code",
   "execution_count": null,
   "metadata": {},
   "outputs": [],
   "source": [
    "scaler = StandardScaler().fit(rep1_df[rep1_annot['Drug']=='DMSO'])\n",
    "rep1_scaled = scale_data(rep1_df, scaler=scaler).reset_index(drop=True)"
   ]
  },
  {
   "cell_type": "code",
   "execution_count": null,
   "metadata": {},
   "outputs": [],
   "source": [
    "rep2_df, rep2_annot = load_viable_cells(platedir='../imgdata/181109_Plate4', \n",
    "                                        wells=all_wells,\n",
    "                                       annot=annot_df)"
   ]
  },
  {
   "cell_type": "markdown",
   "metadata": {},
   "source": [
    "Also remove zero-variance features from the second biological replicate:"
   ]
  },
  {
   "cell_type": "code",
   "execution_count": null,
   "metadata": {},
   "outputs": [],
   "source": [
    "rep2_df = select_features(rep2_df, sel=sel)"
   ]
  },
  {
   "cell_type": "code",
   "execution_count": null,
   "metadata": {},
   "outputs": [],
   "source": [
    "rep2_df = rep2_df.apply(lambda x: np.log((x + np.sqrt(x**2 + x.min()**2))/2 + eps))"
   ]
  },
  {
   "cell_type": "code",
   "execution_count": null,
   "metadata": {},
   "outputs": [],
   "source": [
    "scaler = StandardScaler().fit(rep2_df[rep2_annot['Drug']=='DMSO'])\n",
    "rep2_scaled = scale_data(rep2_df, scaler=scaler).reset_index(drop=True)"
   ]
  },
  {
   "cell_type": "code",
   "execution_count": null,
   "metadata": {},
   "outputs": [],
   "source": [
    "rep1_df.shape[1] == rep2_df.shape[1]"
   ]
  },
  {
   "cell_type": "code",
   "execution_count": null,
   "metadata": {},
   "outputs": [],
   "source": [
    "rep1_scaled.shape[1] == rep2_scaled.shape[1]"
   ]
  },
  {
   "cell_type": "code",
   "execution_count": null,
   "metadata": {},
   "outputs": [],
   "source": [
    "from bioimg.singlecell import aggregate_profiles"
   ]
  },
  {
   "cell_type": "markdown",
   "metadata": {},
   "source": [
    "Compute mean well profiles for both replicate plates:"
   ]
  },
  {
   "cell_type": "code",
   "execution_count": null,
   "metadata": {},
   "outputs": [],
   "source": [
    "'''prof_rep1 = aggregate_profiles(rep1_df, rep1_annot)\n",
    "prof_rep2 = aggregate_profiles(rep2_df, rep2_annot)'''\n",
    "prof_rep1 = aggregate_profiles(rep1_scaled, rep1_annot)\n",
    "prof_rep2 = aggregate_profiles(rep2_scaled, rep2_annot)"
   ]
  },
  {
   "cell_type": "markdown",
   "metadata": {},
   "source": [
    "Make sure that the same wells are present in both biological replicates:"
   ]
  },
  {
   "cell_type": "code",
   "execution_count": null,
   "metadata": {},
   "outputs": [],
   "source": [
    "prof_rep1 = prof_rep1[np.isin(prof_rep1['well'], prof_rep2['well'])]\n",
    "prof_rep2 = prof_rep2[np.isin(prof_rep2['well'], prof_rep1['well'])]"
   ]
  },
  {
   "cell_type": "code",
   "execution_count": null,
   "metadata": {},
   "outputs": [],
   "source": [
    "repcor = prof_rep1.sort_values(by='well').corrwith(prof_rep2.sort_values(by='well'))"
   ]
  },
  {
   "cell_type": "code",
   "execution_count": null,
   "metadata": {},
   "outputs": [],
   "source": [
    "sel_feats = repcor[repcor >= 0.6].index.values\n",
    "X_subset = ctrl_scaled[sel_feats]"
   ]
  },
  {
   "cell_type": "code",
   "execution_count": null,
   "metadata": {},
   "outputs": [],
   "source": [
    "# feature correlation\n",
    "featcor = pd.DataFrame(np.corrcoef(X_subset.T),\n",
    "                       index=X_subset.columns,\n",
    "                       columns=X_subset.columns )\n",
    "plot_heatmap(featcor)"
   ]
  },
  {
   "cell_type": "code",
   "execution_count": null,
   "metadata": {},
   "outputs": [],
   "source": [
    "repcor[[f for f in sel_feats if 'Calcein' in f]]"
   ]
  },
  {
   "cell_type": "code",
   "execution_count": null,
   "metadata": {},
   "outputs": [],
   "source": [
    "repcor[[f for f in sel_feats if 'Hoechst' in f]]"
   ]
  },
  {
   "cell_type": "code",
   "execution_count": null,
   "metadata": {},
   "outputs": [],
   "source": [
    "repcor[[f for f in sel_feats if 'Lysosomal' in f]]"
   ]
  },
  {
   "cell_type": "markdown",
   "metadata": {},
   "source": [
    "## Feature Selection Based on Residuals\n",
    "Select initial feature set:"
   ]
  },
  {
   "cell_type": "code",
   "execution_count": null,
   "metadata": {},
   "outputs": [],
   "source": [
    "import statsmodels.api as sm\n",
    "\n",
    "def get_residuals(df, y):\n",
    "    X = sm.add_constant(df)\n",
    "    lm = sm.OLS(y, X).fit()\n",
    "    return lm.resid.values\n",
    "\n",
    "def get_cor_residuals(rep1, rep2, sel, col):\n",
    "    resid1 = get_residuals(df=rep1[sel], y=rep1[col])\n",
    "    resid2 = get_residuals(df=rep2[sel], y=rep2[col])\n",
    "    return np.corrcoef(x=resid1, y=resid2)[0,1]"
   ]
  },
  {
   "cell_type": "code",
   "execution_count": null,
   "metadata": {},
   "outputs": [],
   "source": [
    "sel = ['ch-Calcein-eccentricity', \n",
    "       'ch-Hoechst-mean_intensity',\n",
    "       'ch-Lysosomal-mean_intensity']\n",
    "feats_to_check = np.setdiff1d(sel_feats, sel)\n",
    "stop_criterion = 1\n",
    "while stop_criterion > 0.5:\n",
    "    feats_to_check = np.setdiff1d(sel_feats, sel)\n",
    "    # correlations of residuals\n",
    "    resid_cor = np.array([get_cor_residuals(rep1=prof_rep1, rep2=prof_rep2,\n",
    "                      sel=sel, col=col) for col in feats_to_check])\n",
    "    sel = sel + [feats_to_check[np.argmax(resid_cor)]]\n",
    "    stop_criterion = np.sum(resid_cor > 0) / len(resid_cor)"
   ]
  },
  {
   "cell_type": "code",
   "execution_count": null,
   "metadata": {},
   "outputs": [],
   "source": [
    "print(\"Number of selected features: %d\" % len(sel))"
   ]
  },
  {
   "cell_type": "code",
   "execution_count": null,
   "metadata": {},
   "outputs": [],
   "source": [
    "X_subset = ctrl_scaled[sel]\n",
    "# feature correlation\n",
    "featcor = pd.DataFrame(np.corrcoef(X_subset.T),\n",
    "                       index=X_subset.columns,\n",
    "                       columns=X_subset.columns )\n",
    "plot_heatmap(featcor, xticklabels=True, size=(12,12))"
   ]
  },
  {
   "cell_type": "markdown",
   "metadata": {},
   "source": [
    "## Further Feature Selection"
   ]
  },
  {
   "cell_type": "code",
   "execution_count": null,
   "metadata": {},
   "outputs": [],
   "source": [
    "y=np.copy(ctrl_annot['Culture'].values)\n",
    "y[y=='Mono-culture'] = 0\n",
    "y[y=='Co-culture'] = 1\n",
    "y = y.astype(int)"
   ]
  },
  {
   "cell_type": "markdown",
   "metadata": {},
   "source": [
    "Univariate feature selection method:"
   ]
  },
  {
   "cell_type": "code",
   "execution_count": null,
   "metadata": {},
   "outputs": [],
   "source": [
    "from sklearn.feature_selection import SelectKBest, SelectFdr, f_classif\n",
    "from bioimg.singlecell import select_features\n",
    "sel = SelectKBest(f_classif, k=20).fit(X=X_subset, y=y)\n",
    "X_kbest = select_features(df=X_subset, sel=sel)"
   ]
  },
  {
   "cell_type": "code",
   "execution_count": null,
   "metadata": {},
   "outputs": [],
   "source": [
    "X_kbest.columns"
   ]
  },
  {
   "cell_type": "code",
   "execution_count": null,
   "metadata": {},
   "outputs": [],
   "source": [
    "sel = SelectFdr(f_classif, alpha=0.01).fit(X=X_subset, y=y)\n",
    "X_fdr = select_features(df=X_subset, sel=sel)"
   ]
  },
  {
   "cell_type": "code",
   "execution_count": null,
   "metadata": {},
   "outputs": [],
   "source": [
    "X_fdr.shape"
   ]
  },
  {
   "cell_type": "code",
   "execution_count": null,
   "metadata": {},
   "outputs": [],
   "source": [
    "X_subset.columns[:20]"
   ]
  },
  {
   "cell_type": "code",
   "execution_count": null,
   "metadata": {},
   "outputs": [],
   "source": [
    "from bioimg.singlecell import recursive_elim"
   ]
  },
  {
   "cell_type": "code",
   "execution_count": null,
   "metadata": {},
   "outputs": [],
   "source": [
    "rfe = recursive_elim(df=X_subset, y=y, n_feat=9, elim_step=1)"
   ]
  },
  {
   "cell_type": "code",
   "execution_count": null,
   "metadata": {},
   "outputs": [],
   "source": [
    "X_rfe = select_features(df=X_subset, sel=rfe)"
   ]
  },
  {
   "cell_type": "code",
   "execution_count": null,
   "metadata": {},
   "outputs": [],
   "source": [
    "X_rfe.columns"
   ]
  },
  {
   "cell_type": "markdown",
   "metadata": {},
   "source": [
    "## Visualize Single Cells Based on Selected Features"
   ]
  },
  {
   "cell_type": "code",
   "execution_count": null,
   "metadata": {},
   "outputs": [],
   "source": [
    "X_tsne = TSNE(n_components=2, random_state=21, perplexity=50).fit_transform(X_subset)"
   ]
  },
  {
   "cell_type": "code",
   "execution_count": null,
   "metadata": {},
   "outputs": [],
   "source": [
    "X_df = pd.concat([pd.DataFrame(X_tsne, columns=['tsne1', 'tsne2']), ctrl_annot], axis=1)"
   ]
  },
  {
   "cell_type": "code",
   "execution_count": null,
   "metadata": {},
   "outputs": [],
   "source": [
    "feat_subset =X_rfe.columns.values\n",
    "Xfeat = ctrl_scaled.loc[:,feat_subset]\n",
    "X_df = pd.concat([X_df, Xfeat], axis=1)"
   ]
  },
  {
   "cell_type": "code",
   "execution_count": null,
   "metadata": {},
   "outputs": [],
   "source": [
    "from bioimg.singlecell import plot_dimred\n",
    "plot_dimred(X_df, \n",
    "            hue='Culture',\n",
    "            title='DMSO control wells')"
   ]
  },
  {
   "cell_type": "code",
   "execution_count": null,
   "metadata": {},
   "outputs": [],
   "source": [
    "from bioimg.singlecell import facet_dimred\n",
    "facet_dimred(X_df, feat_subset=feat_subset,\n",
    "            nrows=3, ncols=3)"
   ]
  },
  {
   "cell_type": "code",
   "execution_count": null,
   "metadata": {},
   "outputs": [],
   "source": [
    "colsub = ['Culture'] + feat_subset.tolist()\n",
    "X_long = pd.melt(X_df[colsub], \n",
    "                 id_vars=['Culture'], \n",
    "                 value_vars=feat_subset,\n",
    "                 var_name='feature', \n",
    "                 value_name='val')"
   ]
  },
  {
   "cell_type": "code",
   "execution_count": null,
   "metadata": {},
   "outputs": [],
   "source": [
    "from bioimg.singlecell import facet_density\n",
    "facet_density(X_long, feat_column='feature',\n",
    "             ncols=3, hue='Culture',\n",
    "             sharey=False)"
   ]
  },
  {
   "cell_type": "markdown",
   "metadata": {},
   "source": [
    "## Constructing Non-Redundant Set of Features"
   ]
  },
  {
   "cell_type": "code",
   "execution_count": null,
   "metadata": {},
   "outputs": [],
   "source": [
    "sel = ['ch-Calcein-eccentricity', \n",
    "       'ch-Hoechst-mean_intensity',\n",
    "       'ch-Lysosomal-mean_intensity']\n",
    "stop_criterion = 0\n",
    "both = pd.concat([rep1_scaled, rep2_scaled], axis=0)\n",
    "candidate_feats = both[sel_feats]\n",
    "cor_df = candidate_feats.corr()"
   ]
  },
  {
   "cell_type": "code",
   "execution_count": null,
   "metadata": {},
   "outputs": [],
   "source": [
    "while stop_criterion < 0.5:\n",
    "    feats_to_check = np.setdiff1d(sel_feats, sel)\n",
    "    cand_cor = cor_df[sel]\n",
    "    cand_cor = cand_cor[np.isin(cand_cor.index, feats_to_check)]\n",
    "    max_cor = cand_cor.max(axis=1).abs()\n",
    "    stop_criterion = np.min(max_cor)\n",
    "    sel = sel + [cand_cor.index[np.argmin(max_cor)]]"
   ]
  },
  {
   "cell_type": "code",
   "execution_count": null,
   "metadata": {},
   "outputs": [],
   "source": [
    "X_subset = ctrl_scaled[sel]\n",
    "# feature correlation\n",
    "featcor = pd.DataFrame(np.corrcoef(X_subset.T),\n",
    "                       index=X_subset.columns,\n",
    "                       columns=X_subset.columns )\n",
    "plot_heatmap(featcor, vmax=1, vmin=-1,\n",
    "             xticklabels=True, size=(10,12))"
   ]
  },
  {
   "cell_type": "code",
   "execution_count": null,
   "metadata": {},
   "outputs": [],
   "source": [
    "print(\"Number of non-redundant features: %d\" % len(sel))"
   ]
  },
  {
   "cell_type": "code",
   "execution_count": null,
   "metadata": {},
   "outputs": [],
   "source": [
    "rfe = recursive_elim(df=X_subset, y=y, n_feat=9, elim_step=1)\n",
    "X_rfe = select_features(df=X_subset, sel=rfe)"
   ]
  },
  {
   "cell_type": "code",
   "execution_count": null,
   "metadata": {},
   "outputs": [],
   "source": [
    "X_tsne = TSNE(n_components=2, random_state=21, perplexity=50).fit_transform(X_subset)"
   ]
  },
  {
   "cell_type": "code",
   "execution_count": null,
   "metadata": {},
   "outputs": [],
   "source": [
    "X_df = pd.concat([pd.DataFrame(X_tsne, columns=['tsne1', 'tsne2']), ctrl_annot], axis=1)"
   ]
  },
  {
   "cell_type": "code",
   "execution_count": null,
   "metadata": {},
   "outputs": [],
   "source": [
    "feat_subset =X_rfe.columns.values\n",
    "Xfeat = ctrl_scaled.loc[:,feat_subset]\n",
    "X_df = pd.concat([X_df, Xfeat], axis=1)"
   ]
  },
  {
   "cell_type": "code",
   "execution_count": null,
   "metadata": {},
   "outputs": [],
   "source": [
    "from bioimg.singlecell import plot_dimred\n",
    "plot_dimred(X_df, \n",
    "            hue='Culture',\n",
    "            title='DMSO control wells')"
   ]
  },
  {
   "cell_type": "code",
   "execution_count": null,
   "metadata": {},
   "outputs": [],
   "source": [
    "from bioimg.singlecell import facet_dimred\n",
    "facet_dimred(X_df, feat_subset=feat_subset,\n",
    "            nrows=3, ncols=3)"
   ]
  },
  {
   "cell_type": "code",
   "execution_count": null,
   "metadata": {},
   "outputs": [],
   "source": [
    "colsub = ['Culture'] + feat_subset.tolist()\n",
    "X_long = pd.melt(X_df[colsub], \n",
    "                 id_vars=['Culture'], \n",
    "                 value_vars=feat_subset,\n",
    "                 var_name='feature', \n",
    "                 value_name='val')"
   ]
  },
  {
   "cell_type": "code",
   "execution_count": null,
   "metadata": {},
   "outputs": [],
   "source": [
    "from bioimg.singlecell import facet_density\n",
    "facet_density(X_long, feat_column='feature',\n",
    "             ncols=3,  hue='Culture', sharey=False)"
   ]
  },
  {
   "cell_type": "code",
   "execution_count": null,
   "metadata": {},
   "outputs": [],
   "source": []
  }
 ],
 "metadata": {
  "kernelspec": {
   "display_name": "Python 3",
   "language": "python",
   "name": "python3"
  },
  "language_info": {
   "codemirror_mode": {
    "name": "ipython",
    "version": 3
   },
   "file_extension": ".py",
   "mimetype": "text/x-python",
   "name": "python",
   "nbconvert_exporter": "python",
   "pygments_lexer": "ipython3",
   "version": "3.8.3"
  }
 },
 "nbformat": 4,
 "nbformat_minor": 4
}

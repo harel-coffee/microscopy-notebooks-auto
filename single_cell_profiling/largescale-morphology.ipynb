{
 "cells": [
  {
   "cell_type": "markdown",
   "metadata": {},
   "source": [
    "# Large-Scale Morphology Analysis"
   ]
  },
  {
   "cell_type": "code",
   "execution_count": null,
   "metadata": {},
   "outputs": [],
   "source": [
    "# load third-party Python modules\n",
    "import javabridge\n",
    "import bioformats as bf\n",
    "import skimage\n",
    "import numpy as np\n",
    "import matplotlib.pyplot as plt\n",
    "import seaborn as sn\n",
    "import pandas as pd\n",
    "import re\n",
    "import os\n",
    "import sys\n",
    "import h5py\n",
    "from sklearn.manifold import TSNE\n",
    "\n",
    "javabridge.start_vm(class_path=bf.JARS)"
   ]
  },
  {
   "cell_type": "code",
   "execution_count": null,
   "metadata": {},
   "outputs": [],
   "source": [
    "# load plate annotation\n",
    "annot_df = pd.read_csv('../data/AML_trainset/drugannot.txt',\n",
    "                      sep='\\t')"
   ]
  },
  {
   "cell_type": "code",
   "execution_count": null,
   "metadata": {},
   "outputs": [],
   "source": [
    "#plates = [f for f in os.listdir('../imgdata') if 'Plate' in f]\n",
    "plates = ['180528_Plate3', '180528_Plate5',\n",
    "          '180625_Plate3', '181109_Plate1',\n",
    "          '181109_Plate3']"
   ]
  },
  {
   "cell_type": "code",
   "execution_count": null,
   "metadata": {},
   "outputs": [],
   "source": [
    "platedir = os.path.join('../imgdata/', plates[0])"
   ]
  },
  {
   "cell_type": "code",
   "execution_count": null,
   "metadata": {},
   "outputs": [],
   "source": [
    "dmso = annot_df[annot_df.Drug == 'DMSO'].reset_index(drop=True)\n",
    "dmso_wells = dmso['well'].unique()"
   ]
  },
  {
   "cell_type": "code",
   "execution_count": null,
   "metadata": {},
   "outputs": [],
   "source": [
    "imgdf = []\n",
    "for w in dmso_wells:\n",
    "    imgdf.append(pd.read_csv(os.path.join(platedir, w+'.csv')))"
   ]
  },
  {
   "cell_type": "code",
   "execution_count": null,
   "metadata": {},
   "outputs": [],
   "source": [
    "imgdf = pd.concat(imgdf).reset_index(drop=True)\n",
    "labels = imgdf[['class', 'file']]\n",
    "imgdf = imgdf.drop(['class', 'file'], axis=1)\n",
    "labels['well'] = labels['file'].replace(regex=r'f[0-9].+', value='')\n",
    "labels['class'] = labels['class'].apply(lambda x: 'Viable' if x == 2 else 'Apoptotic')\n",
    "labels = pd.merge(labels, dmso, on='well')"
   ]
  },
  {
   "cell_type": "code",
   "execution_count": null,
   "metadata": {},
   "outputs": [],
   "source": [
    "from sklearn.preprocessing import StandardScaler\n",
    "scaler = StandardScaler().fit(X=imgdf)"
   ]
  },
  {
   "cell_type": "code",
   "execution_count": null,
   "metadata": {},
   "outputs": [],
   "source": [
    "from bioimg.singlecell import scale_data, check_data\n",
    "imgdf_scaled = scale_data(imgdf, scaler=scaler)"
   ]
  },
  {
   "cell_type": "code",
   "execution_count": null,
   "metadata": {},
   "outputs": [],
   "source": [
    "check_data(imgdf_scaled)"
   ]
  },
  {
   "cell_type": "code",
   "execution_count": null,
   "metadata": {},
   "outputs": [],
   "source": [
    "feat_subset = ['ch-Calcein-area',\n",
    "               'ch-Calcein-eccentricity',\n",
    "               'ch-Calcein-mean_intensity',\n",
    "               'ch-Hoechst-area',\n",
    "               'ch-Hoechst-eccentricity',\n",
    "               'ch-Hoechst-mean_intensity',\n",
    "               'ch-Lysosomal-area',\n",
    "               'ch-Lysosomal-eccentricity',\n",
    "               'ch-Lysosomal-mean_intensity']"
   ]
  },
  {
   "cell_type": "code",
   "execution_count": null,
   "metadata": {},
   "outputs": [],
   "source": [
    "Xfeat = imgdf_scaled.loc[:,feat_subset]"
   ]
  },
  {
   "cell_type": "code",
   "execution_count": null,
   "metadata": {},
   "outputs": [],
   "source": [
    "X_tsne = TSNE(n_components=2, random_state=21, perplexity=50).fit_transform(imgdf_scaled)"
   ]
  },
  {
   "cell_type": "code",
   "execution_count": null,
   "metadata": {},
   "outputs": [],
   "source": [
    "X_df = pd.concat([pd.DataFrame(X_tsne, columns=['tsne1', 'tsne2']), labels], axis=1)"
   ]
  },
  {
   "cell_type": "code",
   "execution_count": null,
   "metadata": {},
   "outputs": [],
   "source": [
    "X_df = pd.concat([X_df, Xfeat], axis=1)"
   ]
  },
  {
   "cell_type": "code",
   "execution_count": null,
   "metadata": {},
   "outputs": [],
   "source": [
    "from bioimg.singlecell import plot_dimred\n",
    "plot_dimred(X_df, \n",
    "            hue='Culture',\n",
    "            style='class',\n",
    "            title='DMSO control wells')"
   ]
  },
  {
   "cell_type": "markdown",
   "metadata": {},
   "source": [
    "## Morphology analysis for viable cells\n",
    "Subset only to viable cells:"
   ]
  },
  {
   "cell_type": "code",
   "execution_count": null,
   "metadata": {},
   "outputs": [],
   "source": [
    "img_viab = imgdf.iloc[np.where(labels['class'] == 'Viable')[0],:]\n",
    "scaler = StandardScaler().fit(img_viab)\n",
    "img_viab = scale_data(img_viab, scaler=scaler).reset_index(drop=True)\n",
    "labels_viab = (labels[labels['class'] == 'Viable'].\n",
    "              reset_index(drop=True))"
   ]
  },
  {
   "cell_type": "code",
   "execution_count": null,
   "metadata": {},
   "outputs": [],
   "source": [
    "X_tsne = TSNE(n_components=2, random_state=21, perplexity=30).fit_transform(img_viab)"
   ]
  },
  {
   "cell_type": "code",
   "execution_count": null,
   "metadata": {},
   "outputs": [],
   "source": [
    "X_viab = pd.concat([pd.DataFrame(X_tsne, columns=['tsne1', 'tsne2']), labels_viab], axis=1)"
   ]
  },
  {
   "cell_type": "code",
   "execution_count": null,
   "metadata": {},
   "outputs": [],
   "source": [
    "X_viab = pd.concat([X_viab, img_viab.loc[:,feat_subset]], axis=1)"
   ]
  },
  {
   "cell_type": "code",
   "execution_count": null,
   "metadata": {},
   "outputs": [],
   "source": [
    "plot_dimred(X_viab, hue='Culture',\n",
    "           title='Viable cells in control wells')\n",
    "plt.legend(loc='lower right',\n",
    "           bbox_to_anchor=(1.2,0.05))"
   ]
  },
  {
   "cell_type": "code",
   "execution_count": null,
   "metadata": {},
   "outputs": [],
   "source": [
    "from bioimg.singlecell import facet_dimred\n",
    "facet_dimred(X_viab, feat_subset=feat_subset,\n",
    "            nrows=3, ncols=3)"
   ]
  },
  {
   "cell_type": "markdown",
   "metadata": {},
   "source": [
    "Save the viable cells of DMSO wells before loading drug-treated wells:"
   ]
  },
  {
   "cell_type": "code",
   "execution_count": null,
   "metadata": {},
   "outputs": [],
   "source": [
    "img_viab = imgdf.iloc[np.where(labels['class'] == 'Viable')[0],:]\n",
    "X_ctrl = img_viab"
   ]
  },
  {
   "cell_type": "markdown",
   "metadata": {},
   "source": [
    "Now load some drug wells:"
   ]
  },
  {
   "cell_type": "code",
   "execution_count": null,
   "metadata": {},
   "outputs": [],
   "source": [
    "drug_sel = ['Tofacitinib', 'Midostaurin',\n",
    "                   'Ganetespib', 'Lenalidomide',\n",
    "                   'Pyridone 6', 'UMI-77',\n",
    "                   'Bafilomycin A1', \n",
    "                   'Quizartinib', 'Hydroxychloroquine',\n",
    "                   'Fludarabine', 'Vorinostat',\n",
    "                   'Thioguanine', 'Nutlin 3a',\n",
    "                   'Palbociclib', 'Carfilzomib',\n",
    "                   'JQ1', 'Cytarabine',\n",
    "                   'BAY61-3606', 'Venetoclax',\n",
    "                   'Ixazomib']"
   ]
  },
  {
   "cell_type": "code",
   "execution_count": null,
   "metadata": {},
   "outputs": [],
   "source": [
    "drugs = annot_df[np.isin(annot_df.Drug, drug_sel) ].reset_index(drop=True)\n",
    "drug_wells = drugs['well'].unique()"
   ]
  },
  {
   "cell_type": "code",
   "execution_count": null,
   "metadata": {},
   "outputs": [],
   "source": [
    "imgdf = []\n",
    "for w in drug_wells:\n",
    "    df = pd.read_csv(os.path.join(platedir, w+'.csv'))\n",
    "    imgdf.append(df[df['class'] == 2])"
   ]
  },
  {
   "cell_type": "code",
   "execution_count": null,
   "metadata": {},
   "outputs": [],
   "source": [
    "imgdf = pd.concat(imgdf).reset_index(drop=True)\n",
    "labels = imgdf[['class', 'file']]\n",
    "imgdf = imgdf.drop(['class', 'file'], axis=1)\n",
    "labels['well'] = labels['file'].replace(regex=r'f[0-9].+', value='')\n",
    "labels['class'] = labels['class'].apply(lambda x: 'Viable' if x == 2 else 'Apoptotic')\n",
    "labels = pd.merge(labels, drugs, on='well')"
   ]
  },
  {
   "cell_type": "code",
   "execution_count": null,
   "metadata": {
    "scrolled": true
   },
   "outputs": [],
   "source": [
    "X_drug = scale_data(imgdf, scaler=scaler)\n",
    "Xfeat = X_drug.loc[:,feat_subset]"
   ]
  },
  {
   "cell_type": "code",
   "execution_count": null,
   "metadata": {},
   "outputs": [],
   "source": [
    "X_tsne = TSNE(n_components=2, random_state=21, perplexity=50).fit_transform(X_drug)"
   ]
  },
  {
   "cell_type": "code",
   "execution_count": null,
   "metadata": {},
   "outputs": [],
   "source": [
    "X_df = pd.concat([pd.DataFrame(X_tsne, columns=['tsne1', 'tsne2']), labels], axis=1)\n",
    "X_df = pd.concat([X_df, Xfeat], axis=1)"
   ]
  },
  {
   "cell_type": "code",
   "execution_count": null,
   "metadata": {},
   "outputs": [],
   "source": [
    "plot_dimred(X_df, hue='Culture',\n",
    "           title='Viable cells in drug-treated wells')"
   ]
  },
  {
   "cell_type": "code",
   "execution_count": null,
   "metadata": {},
   "outputs": [],
   "source": [
    "drug_chunks = [drug_sel[i:i + 5] for i in range(0, len(drug_sel), 5)]"
   ]
  },
  {
   "cell_type": "code",
   "execution_count": null,
   "metadata": {},
   "outputs": [],
   "source": [
    "fig, ax = plt.subplots(ncols=2, nrows=2,\n",
    "                       figsize = (14,12))\n",
    "sn.set(font_scale=1.2)\n",
    "sn.set_style('white')\n",
    "sn.despine()\n",
    "for r in range(2):\n",
    "    for c in range(2):\n",
    "        sn.scatterplot(x = 'tsne1', y = 'tsne2', data=X_df[np.isin(X_df['Drug'], drug_chunks[r*2+c])],\n",
    "               hue = 'Drug',\n",
    "               s = 40, alpha = 0.8, ax=ax[r,c])\n",
    "        ax[r,c].legend(loc='lower right', bbox_to_anchor=(1.4,0.7))\n",
    "        ax[r,c].set_xlabel('TSNE 1')\n",
    "        ax[r,c].set_ylabel('TSNE 2')\n",
    "fig.subplots_adjust(wspace=0.5)"
   ]
  },
  {
   "cell_type": "code",
   "execution_count": null,
   "metadata": {},
   "outputs": [],
   "source": [
    "facet_dimred(X_df, feat_subset=feat_subset,\n",
    "            nrows=3, ncols=3)"
   ]
  },
  {
   "cell_type": "code",
   "execution_count": null,
   "metadata": {},
   "outputs": [],
   "source": [
    "X_df.columns"
   ]
  },
  {
   "cell_type": "code",
   "execution_count": null,
   "metadata": {},
   "outputs": [],
   "source": [
    "colsub = ['Culture'] +feat_subset\n",
    "X_long = pd.melt(X_df[colsub], \n",
    "                 id_vars=['Culture'], \n",
    "                 value_vars=feat_subset,\n",
    "                 var_name='feature', \n",
    "                 value_name='val')"
   ]
  },
  {
   "cell_type": "code",
   "execution_count": null,
   "metadata": {},
   "outputs": [],
   "source": [
    "from bioimg.singlecell import facet_density\n",
    "facet_density(X_long, feat_column='feature',\n",
    "             ncols=3, hue='Culture')"
   ]
  },
  {
   "cell_type": "code",
   "execution_count": null,
   "metadata": {},
   "outputs": [],
   "source": [
    "colsub = ['Drug', 'Culture'] +feat_subset\n",
    "X_long = pd.melt(X_df[colsub], \n",
    "                 id_vars=['Drug', 'Culture'], \n",
    "                 value_vars=feat_subset,\n",
    "                 var_name='feature', \n",
    "                 value_name='val')"
   ]
  },
  {
   "cell_type": "code",
   "execution_count": null,
   "metadata": {},
   "outputs": [],
   "source": [
    "from bioimg.singlecell import facet_boxplot\n",
    "facet_boxplot(X_long, x='Drug',\n",
    "              y='val', feat_column='feature',\n",
    "              ncols=3,\n",
    "              nrows=3, hue='Culture')"
   ]
  },
  {
   "cell_type": "code",
   "execution_count": null,
   "metadata": {},
   "outputs": [],
   "source": [
    "X_ctrl = X_ctrl.reset_index(drop=True)                     "
   ]
  },
  {
   "cell_type": "code",
   "execution_count": null,
   "metadata": {},
   "outputs": [],
   "source": [
    "labels_viab = labels_viab.reset_index(drop=True)"
   ]
  },
  {
   "cell_type": "code",
   "execution_count": null,
   "metadata": {},
   "outputs": [],
   "source": [
    "Xfeat = pd.concat([labels_viab['Culture'], X_ctrl], axis=1)"
   ]
  },
  {
   "cell_type": "markdown",
   "metadata": {},
   "source": [
    "Check correlation structure of the features:"
   ]
  },
  {
   "cell_type": "code",
   "execution_count": null,
   "metadata": {},
   "outputs": [],
   "source": [
    "from scipy.spatial.distance import pdist, squareform\n",
    "def cordf(X):\n",
    "    return squareform(1. - pdist(X, 'correlation'))"
   ]
  },
  {
   "cell_type": "code",
   "execution_count": null,
   "metadata": {},
   "outputs": [],
   "source": [
    "# feature correlation\n",
    "featcor = pd.DataFrame(cordf(X_ctrl.T),\n",
    "                       index=X_ctrl.columns,\n",
    "                       columns=X_ctrl.columns )"
   ]
  },
  {
   "cell_type": "code",
   "execution_count": null,
   "metadata": {},
   "outputs": [],
   "source": [
    "from bioimg.singlecell import plot_heatmap\n",
    "plot_heatmap(featcor)"
   ]
  },
  {
   "cell_type": "code",
   "execution_count": null,
   "metadata": {},
   "outputs": [],
   "source": [
    "from sklearn.svm import SVC\n",
    "from sklearn.ensemble import RandomForestClassifier\n",
    "from sklearn.feature_selection import RFE"
   ]
  },
  {
   "cell_type": "code",
   "execution_count": null,
   "metadata": {},
   "outputs": [],
   "source": [
    "y=labels_viab['Culture'].values\n",
    "y[y=='Mono-culture'] = 0\n",
    "y[y=='Co-culture'] = 1\n",
    "y = y.astype(int)"
   ]
  },
  {
   "cell_type": "code",
   "execution_count": null,
   "metadata": {},
   "outputs": [],
   "source": [
    "clf = RandomForestClassifier(n_estimators=500,\n",
    "                             max_depth=7,\n",
    "                             random_state=3,\n",
    "                             n_jobs=-1)\n",
    "rfe = RFE(estimator=clf, n_features_to_select=500, step=50)\n",
    "rfe.fit(X_ctrl, y)"
   ]
  },
  {
   "cell_type": "code",
   "execution_count": null,
   "metadata": {},
   "outputs": [],
   "source": [
    "sel_features = X_ctrl.columns[rfe.get_support()].values"
   ]
  },
  {
   "cell_type": "markdown",
   "metadata": {},
   "source": [
    "Run Mann-Whitney-Wilcoxon test:"
   ]
  },
  {
   "cell_type": "code",
   "execution_count": null,
   "metadata": {},
   "outputs": [],
   "source": [
    "from scipy.stats import mannwhitneyu"
   ]
  },
  {
   "cell_type": "code",
   "execution_count": null,
   "metadata": {},
   "outputs": [],
   "source": [
    "plt.hist((X_ctrl.apply(lambda x: mannwhitneyu(x[labels_viab.Culture == 'Mono-culture'],\n",
    "                                     x[labels_viab.Culture == 'Co-culture'])[1])).values)"
   ]
  },
  {
   "cell_type": "code",
   "execution_count": null,
   "metadata": {},
   "outputs": [],
   "source": [
    "pvaldf = pd.DataFrame(X_ctrl.apply(lambda x: mannwhitneyu(x[labels_viab.Culture == 'Mono-culture'],\n",
    "                                     x[labels_viab.Culture == 'Co-culture'])[1]), columns=['pval'])"
   ]
  },
  {
   "cell_type": "code",
   "execution_count": null,
   "metadata": {},
   "outputs": [],
   "source": [
    "pvaldf.head()"
   ]
  },
  {
   "cell_type": "code",
   "execution_count": null,
   "metadata": {},
   "outputs": [],
   "source": []
  }
 ],
 "metadata": {
  "kernelspec": {
   "display_name": "Python 3",
   "language": "python",
   "name": "python3"
  },
  "language_info": {
   "codemirror_mode": {
    "name": "ipython",
    "version": 3
   },
   "file_extension": ".py",
   "mimetype": "text/x-python",
   "name": "python",
   "nbconvert_exporter": "python",
   "pygments_lexer": "ipython3",
   "version": "3.8.3"
  }
 },
 "nbformat": 4,
 "nbformat_minor": 2
}

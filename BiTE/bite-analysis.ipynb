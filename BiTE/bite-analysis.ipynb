{
 "cells": [
  {
   "cell_type": "markdown",
   "metadata": {},
   "source": [
    "# Morphological profiling of BiTE coculture images"
   ]
  },
  {
   "cell_type": "code",
   "execution_count": null,
   "metadata": {},
   "outputs": [],
   "source": [
    "import matplotlib.pyplot as plt\n",
    "import numpy as np\n",
    "import javabridge\n",
    "import bioformats as bf\n",
    "import pandas as pd\n",
    "import seaborn as sn\n",
    "import random\n",
    "import sys\n",
    "import os\n",
    "import re\n",
    "import csv\n",
    "\n",
    "from bioimg import load_image_series\n",
    "\n",
    "javabridge.start_vm(class_path=bf.JARS)"
   ]
  },
  {
   "cell_type": "code",
   "execution_count": null,
   "metadata": {},
   "outputs": [],
   "source": [
    "path = '/Volumes/gitlab/microscopy/data/Tobias/newscreen/'\n",
    "plate = 'Tag3'\n",
    "for f in os.listdir(path):\n",
    "    if re.search(plate + \"_\", f):\n",
    "        screen_id = f\n",
    "platedir = os.path.join(path, screen_id, 'Images')"
   ]
  },
  {
   "cell_type": "code",
   "execution_count": null,
   "metadata": {},
   "outputs": [],
   "source": [
    "fnames = [f for f in os.listdir(platedir) if '.tiff' in f]"
   ]
  },
  {
   "cell_type": "code",
   "execution_count": null,
   "metadata": {},
   "outputs": [],
   "source": [
    "all_wells = list(set([re.search('r[0-9]+c[0-9]+',f).group(0) for f in fnames]))\n",
    "all_wells.sort()"
   ]
  },
  {
   "cell_type": "code",
   "execution_count": null,
   "metadata": {},
   "outputs": [],
   "source": [
    "well_id = 0\n",
    "well = all_wells[well_id]\n",
    "well_imgs = [f for f in fnames if well in f and 'ch2' not in f]"
   ]
  },
  {
   "cell_type": "code",
   "execution_count": null,
   "metadata": {},
   "outputs": [],
   "source": [
    "imglist = []\n",
    "for i in range(1,5):\n",
    "    wellpos = [f for f in well_imgs if 'f0' + str(i)+ 'p' in f]\n",
    "    imgseries = load_image_series(path=platedir, imgfiles=wellpos)\n",
    "    imgseries = imgseries.reshape((8, 4, 2160,2160))\n",
    "    mipseries = np.amax(imgseries, axis=0)\n",
    "    imglist.append(mipseries)"
   ]
  },
  {
   "cell_type": "code",
   "execution_count": null,
   "metadata": {},
   "outputs": [],
   "source": [
    "len(imglist)"
   ]
  },
  {
   "cell_type": "code",
   "execution_count": null,
   "metadata": {},
   "outputs": [],
   "source": [
    "imglist[0].shape"
   ]
  },
  {
   "cell_type": "code",
   "execution_count": null,
   "metadata": {},
   "outputs": [],
   "source": [
    "col_params = dict(colors=['blue', 'red', \n",
    "                          'yellow', 'green'],\n",
    "                             blend = [2, 0.8, 0.8, 0.8],\n",
    "                             gamma = [0.4, 0.3, 0.3, 0.3])"
   ]
  },
  {
   "cell_type": "code",
   "execution_count": null,
   "metadata": {},
   "outputs": [],
   "source": [
    "from bioimg import combine_channels\n",
    "mip_color = combine_channels([imglist[3][i] for i in range(4)],\n",
    "                             **col_params)"
   ]
  },
  {
   "cell_type": "code",
   "execution_count": null,
   "metadata": {},
   "outputs": [],
   "source": [
    "plt.figure(figsize=(10,10))\n",
    "plt.imshow(mip_color[:1000,:1000,:])\n",
    "plt.axis('off')"
   ]
  },
  {
   "cell_type": "markdown",
   "metadata": {},
   "source": [
    "## Segment B and T cell nuclei"
   ]
  },
  {
   "cell_type": "code",
   "execution_count": null,
   "metadata": {},
   "outputs": [],
   "source": [
    "hoechst = imglist[3][0]"
   ]
  },
  {
   "cell_type": "code",
   "execution_count": null,
   "metadata": {},
   "outputs": [],
   "source": [
    "from skimage.feature import shape_index, blob_log\n",
    "from bioimg import threshold_img\n",
    "\n",
    "def nantonum(img, pad=-1):\n",
    "    img_r = np.copy(img)\n",
    "    img_r[np.isnan(img_r)] = pad\n",
    "    return img_r"
   ]
  },
  {
   "cell_type": "code",
   "execution_count": null,
   "metadata": {},
   "outputs": [],
   "source": [
    "gamma = 0.5\n",
    "img_th = threshold_img(hoechst**gamma, method='otsu', binary=False)\n",
    "img_s = shape_index(img_th)\n",
    "img_enh = nantonum(img_s, pad=-1)"
   ]
  },
  {
   "cell_type": "code",
   "execution_count": null,
   "metadata": {},
   "outputs": [],
   "source": [
    "# run LoG blob detection on the shape-index enhanced image\n",
    "blobs_enh = blob_log(img_enh,\n",
    "                 min_sigma=10, max_sigma=14, threshold=0.05)"
   ]
  },
  {
   "cell_type": "code",
   "execution_count": null,
   "metadata": {},
   "outputs": [],
   "source": [
    "'''fig, ax = plt.subplots(figsize=(10,10))\n",
    "for blob in blobs_enh:\n",
    "    y, x, r = blob\n",
    "    c = plt.Circle((x, y), r+2, color='magenta', linewidth=1.4, fill=False)\n",
    "    ax.add_patch(c)\n",
    "ax.imshow(hoechst**0.5, cmap='gray')\n",
    "ax.axis('off')'''"
   ]
  },
  {
   "cell_type": "markdown",
   "metadata": {},
   "source": [
    "Convert \"blobs\" to bounding boxes:"
   ]
  },
  {
   "cell_type": "code",
   "execution_count": null,
   "metadata": {},
   "outputs": [],
   "source": [
    "pad = 5\n",
    "bbox = np.stack([np.array([bl[1] - bl[2] - pad,\n",
    "                           bl[1] + bl[2] + pad,\n",
    "                           bl[0] - bl[2] - pad,\n",
    "                           bl[0] + bl[2] + pad]) for bl in blobs_enh])"
   ]
  },
  {
   "cell_type": "code",
   "execution_count": null,
   "metadata": {},
   "outputs": [],
   "source": [
    "imax = hoechst.shape[0] - 1"
   ]
  },
  {
   "cell_type": "code",
   "execution_count": null,
   "metadata": {},
   "outputs": [],
   "source": [
    "bbox[bbox < 0] = 0\n",
    "bbox[bbox > imax ] = imax"
   ]
  },
  {
   "cell_type": "code",
   "execution_count": null,
   "metadata": {},
   "outputs": [],
   "source": [
    "bbox = bbox.astype(int)"
   ]
  },
  {
   "cell_type": "code",
   "execution_count": null,
   "metadata": {},
   "outputs": [],
   "source": [
    "from bioimg import show_bbox\n",
    "show_bbox(img=mip_color[:1000,:1000,:], bbox=bbox)"
   ]
  },
  {
   "cell_type": "code",
   "execution_count": null,
   "metadata": {},
   "outputs": [],
   "source": [
    "from bioimg import ImgX\n",
    "# initialize 'ImgX' class\n",
    "imgx = ImgX(img=imglist[3].swapaxes(0,-1), \n",
    "            bbox=bbox,\n",
    "            n_chan=['Hoechst', 'PE',\n",
    "                    'APC', 'Calcein'])"
   ]
  },
  {
   "cell_type": "code",
   "execution_count": null,
   "metadata": {},
   "outputs": [],
   "source": [
    "imgx.params['texture'] = 'both'\n",
    "imgx.compute_props()\n",
    "img_df = imgx.get_df().copy()"
   ]
  },
  {
   "cell_type": "code",
   "execution_count": null,
   "metadata": {},
   "outputs": [],
   "source": [
    "img_df.shape"
   ]
  },
  {
   "cell_type": "code",
   "execution_count": null,
   "metadata": {},
   "outputs": [],
   "source": [
    "img_df.head()"
   ]
  },
  {
   "cell_type": "code",
   "execution_count": null,
   "metadata": {},
   "outputs": [],
   "source": [
    "sn.distplot(img_df['ch-Calcein-mean_intensity'], kde=False)"
   ]
  },
  {
   "cell_type": "markdown",
   "metadata": {},
   "source": [
    "## Spatial Cluster Quantification\n",
    "Threshold Calcein channel and perform morphological dilation to find clusters:"
   ]
  },
  {
   "cell_type": "code",
   "execution_count": null,
   "metadata": {},
   "outputs": [],
   "source": [
    "# get calcein channel\n",
    "ca = imglist[3][3]\n",
    "\n",
    "plt.figure(figsize=(8,8))\n",
    "plt.imshow(ca**0.7)\n",
    "plt.axis('off')"
   ]
  },
  {
   "cell_type": "markdown",
   "metadata": {},
   "source": [
    "This well image doesn't have any clusters. However, apply morphological dilation and check the behavior:"
   ]
  },
  {
   "cell_type": "code",
   "execution_count": null,
   "metadata": {},
   "outputs": [],
   "source": [
    "# threshold the Calcein channel\n",
    "ca_th = threshold_img(ca, method='otsu', binary=True)\n",
    "\n",
    "plt.figure(figsize=(8,8))\n",
    "plt.imshow(ca_th)\n",
    "plt.axis('off')"
   ]
  },
  {
   "cell_type": "code",
   "execution_count": null,
   "metadata": {},
   "outputs": [],
   "source": [
    "from skimage.morphology import binary_dilation, disk\n",
    "\n",
    "ca_dil = binary_dilation(ca_th, disk(5))\n",
    "plt.figure(figsize=(8,8))\n",
    "plt.imshow(ca_dil)\n",
    "plt.axis('off')"
   ]
  },
  {
   "cell_type": "markdown",
   "metadata": {},
   "source": [
    "Next only select objects with Calcein area > 100, i.e. the identified \"clusters\" have to be at least larger than a typical viable cell"
   ]
  },
  {
   "cell_type": "code",
   "execution_count": null,
   "metadata": {},
   "outputs": [],
   "source": [
    "from skimage.measure import label\n",
    "from skimage.color import label2rgb\n",
    "from bioimg.segment.cv_methods import filter_segm"
   ]
  },
  {
   "cell_type": "code",
   "execution_count": null,
   "metadata": {},
   "outputs": [],
   "source": [
    "bounds = {'area': (1400, np.inf)}\n",
    "segm = filter_segm(img=ca,\n",
    "                    labels=label(ca_dil, connectivity=1),\n",
    "                    bounds=bounds)"
   ]
  },
  {
   "cell_type": "code",
   "execution_count": null,
   "metadata": {},
   "outputs": [],
   "source": [
    "fig, ax = plt.subplots(figsize=(8, 8))\n",
    "ax.imshow(label2rgb(segm, image=ca, bg_label=0))\n",
    "ax.axis('off')"
   ]
  },
  {
   "cell_type": "markdown",
   "metadata": {},
   "source": [
    "Now load a different well -- the one that has some clusters:"
   ]
  },
  {
   "cell_type": "code",
   "execution_count": null,
   "metadata": {},
   "outputs": [],
   "source": [
    "well_id = 10\n",
    "well = all_wells[well_id]\n",
    "well_imgs = [f for f in fnames if well in f and 'ch2' not in f]\n",
    "\n",
    "wellpos = [f for f in well_imgs if 'f02' + 'p' in f]\n",
    "imgseries = load_image_series(path=platedir, imgfiles=wellpos)\n",
    "imgseries = imgseries.reshape((8, 4, 2160,2160))\n",
    "mip = np.amax(imgseries, axis=0)"
   ]
  },
  {
   "cell_type": "code",
   "execution_count": null,
   "metadata": {},
   "outputs": [],
   "source": [
    "# get calcein channel\n",
    "ca = mip[3]\n",
    "\n",
    "plt.figure(figsize=(8,8))\n",
    "plt.imshow(ca**0.7)\n",
    "plt.axis('off')"
   ]
  },
  {
   "cell_type": "code",
   "execution_count": null,
   "metadata": {},
   "outputs": [],
   "source": [
    "# threshold the Calcein channel\n",
    "ca_th = threshold_img(ca, method='otsu', binary=True)\n",
    "\n",
    "plt.figure(figsize=(8,8))\n",
    "plt.imshow(ca_th)\n",
    "plt.axis('off')"
   ]
  },
  {
   "cell_type": "code",
   "execution_count": null,
   "metadata": {},
   "outputs": [],
   "source": [
    "ca_dil = binary_dilation(ca_th, disk(2))\n",
    "plt.figure(figsize=(8,8))\n",
    "plt.imshow(ca_dil)\n",
    "plt.axis('off')"
   ]
  },
  {
   "cell_type": "code",
   "execution_count": null,
   "metadata": {},
   "outputs": [],
   "source": [
    "bounds = {'area': (600, np.inf)}\n",
    "segm = filter_segm(img=ca,\n",
    "                    labels=label(ca_dil, connectivity=1),\n",
    "                    bounds=bounds)"
   ]
  },
  {
   "cell_type": "code",
   "execution_count": null,
   "metadata": {},
   "outputs": [],
   "source": [
    "fig, ax = plt.subplots(figsize=(8, 8))\n",
    "ax.imshow(label2rgb(segm, image=ca, bg_label=0))\n",
    "ax.axis('off')"
   ]
  },
  {
   "cell_type": "code",
   "execution_count": null,
   "metadata": {},
   "outputs": [],
   "source": [
    "from skimage.measure import regionprops_table\n",
    "feats = regionprops_table(segm,\n",
    "                       intensity_image=ca,\n",
    "                      properties=['bbox'])"
   ]
  },
  {
   "cell_type": "code",
   "execution_count": null,
   "metadata": {},
   "outputs": [],
   "source": [
    "df = pd.DataFrame(feats)\n",
    "df = df.rename(columns={'bbox-0': 'ymin',\n",
    "                   'bbox-1': 'xmin',\n",
    "                   'bbox-2': 'ymax',\n",
    "                   'bbox-3': 'xmax'})"
   ]
  },
  {
   "cell_type": "code",
   "execution_count": null,
   "metadata": {},
   "outputs": [],
   "source": [
    "df.head()"
   ]
  },
  {
   "cell_type": "code",
   "execution_count": null,
   "metadata": {},
   "outputs": [],
   "source": [
    "rmax, cmax = ca.shape"
   ]
  },
  {
   "cell_type": "code",
   "execution_count": null,
   "metadata": {},
   "outputs": [],
   "source": [
    "from bioimg import read_bbox, show_bbox\n",
    "bbox = read_bbox(df=df, rmax=rmax, cmax=cmax, pad=0)"
   ]
  },
  {
   "cell_type": "code",
   "execution_count": null,
   "metadata": {},
   "outputs": [],
   "source": [
    "show_bbox(ca, bbox)"
   ]
  },
  {
   "cell_type": "code",
   "execution_count": null,
   "metadata": {},
   "outputs": [],
   "source": [
    "imgx = ImgX(img=mip.swapaxes(0,-1), \n",
    "            bbox=bbox,\n",
    "            n_chan=['Hoechst', 'PE',\n",
    "                    'APC', 'Calcein'])"
   ]
  },
  {
   "cell_type": "code",
   "execution_count": null,
   "metadata": {},
   "outputs": [],
   "source": [
    "imgx.compute_props()"
   ]
  },
  {
   "cell_type": "code",
   "execution_count": null,
   "metadata": {},
   "outputs": [],
   "source": [
    "img_df = imgx.get_df().copy()"
   ]
  },
  {
   "cell_type": "code",
   "execution_count": null,
   "metadata": {},
   "outputs": [],
   "source": [
    "img_df.shape"
   ]
  },
  {
   "cell_type": "code",
   "execution_count": null,
   "metadata": {},
   "outputs": [],
   "source": []
  }
 ],
 "metadata": {
  "kernelspec": {
   "display_name": "Python 3",
   "language": "python",
   "name": "python3"
  },
  "language_info": {
   "codemirror_mode": {
    "name": "ipython",
    "version": 3
   },
   "file_extension": ".py",
   "mimetype": "text/x-python",
   "name": "python",
   "nbconvert_exporter": "python",
   "pygments_lexer": "ipython3",
   "version": "3.8.5"
  }
 },
 "nbformat": 4,
 "nbformat_minor": 4
}

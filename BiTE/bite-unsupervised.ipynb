{
 "cells": [
  {
   "cell_type": "markdown",
   "metadata": {},
   "source": [
    "## Unsupervised Clustering of Single-Cell BiTE Screen Profiles"
   ]
  },
  {
   "cell_type": "code",
   "execution_count": null,
   "metadata": {},
   "outputs": [],
   "source": [
    "import javabridge\n",
    "import bioformats as bf\n",
    "import skimage\n",
    "import numpy as np\n",
    "import matplotlib.pyplot as plt\n",
    "import seaborn as sn\n",
    "import pandas as pd\n",
    "import os\n",
    "import re\n",
    "import sys\n",
    "import h5py\n",
    "\n",
    "javabridge.start_vm(class_path=bf.JARS)"
   ]
  },
  {
   "cell_type": "code",
   "execution_count": null,
   "metadata": {},
   "outputs": [],
   "source": [
    "def load_bite(platedir, wells, annot):\n",
    "    imgdf = []\n",
    "    for w in wells:\n",
    "        if os.path.isfile(os.path.join(platedir, w+'.csv')):\n",
    "            df = pd.read_csv(os.path.join(platedir, w+'.csv'))\n",
    "            df['well'] = w\n",
    "            imgdf.append(df)\n",
    "    imgdf = pd.concat(imgdf).reset_index(drop=True)\n",
    "    labels = imgdf[['well']]\n",
    "    imgdf = imgdf.drop(['well'], axis=1) \n",
    "    labels = pd.merge(labels, annot, on='well')\n",
    "    return imgdf, labels"
   ]
  },
  {
   "cell_type": "code",
   "execution_count": null,
   "metadata": {},
   "outputs": [],
   "source": [
    "path = '../data/BiTE-profiles/'\n",
    "plates = ['BiTE-Tag1',\n",
    "          'BiTE-Tag2',\n",
    "          'BiTE-Tag12']"
   ]
  },
  {
   "cell_type": "code",
   "execution_count": null,
   "metadata": {},
   "outputs": [],
   "source": [
    "# load plate annotation\n",
    "annot_df = pd.read_csv('../data/BiTE/bite_annot.csv')\n",
    "annot_df = annot_df[np.isin(annot_df['plate'], plates)]"
   ]
  },
  {
   "cell_type": "code",
   "execution_count": null,
   "metadata": {},
   "outputs": [],
   "source": [
    "annot_df.head()"
   ]
  },
  {
   "cell_type": "code",
   "execution_count": null,
   "metadata": {},
   "outputs": [],
   "source": [
    "dmso = annot_df[annot_df['BiTE']=='DMSO']\n",
    "dmso = dmso[dmso['Drug']=='DMSO'].reset_index(drop=True)"
   ]
  },
  {
   "cell_type": "code",
   "execution_count": null,
   "metadata": {},
   "outputs": [],
   "source": [
    "dmso.head()"
   ]
  },
  {
   "cell_type": "code",
   "execution_count": null,
   "metadata": {},
   "outputs": [],
   "source": [
    "plate = plates[0]\n",
    "\n",
    "platedir = os.path.join(path, plate)\n",
    "annot = dmso[dmso['plate']==plate]\n",
    "wells = annot['well'].values\n",
    "\n",
    "ctrl_df, ctrl_annot = load_bite(platedir=platedir,\n",
    "                                wells=wells,\n",
    "                                annot=annot)"
   ]
  },
  {
   "cell_type": "code",
   "execution_count": null,
   "metadata": {},
   "outputs": [],
   "source": [
    "sn.distplot(ctrl_df['ch-Calcein-area'])"
   ]
  },
  {
   "cell_type": "code",
   "execution_count": null,
   "metadata": {},
   "outputs": [],
   "source": [
    "# in this case we have only one patient\n",
    "ctrl_annot['PatientID'].unique()"
   ]
  },
  {
   "cell_type": "code",
   "execution_count": null,
   "metadata": {},
   "outputs": [],
   "source": [
    "thresh = 300\n",
    "viab = (ctrl_df['ch-Calcein-area'] > thresh).values"
   ]
  },
  {
   "cell_type": "code",
   "execution_count": null,
   "metadata": {},
   "outputs": [],
   "source": [
    "ctrl_df = ctrl_df[viab]\n",
    "ctrl_annot = ctrl_annot[viab]"
   ]
  },
  {
   "cell_type": "code",
   "execution_count": null,
   "metadata": {},
   "outputs": [],
   "source": [
    "from bioimg.singlecell import select_features, preprocess_data\n",
    "sel = ['ch-Calcein-area', \n",
    "       'ch-Calcein-mean_intensity',\n",
    "       'ch-Calcein-solidity',\n",
    "       'ch-Calcein-extent',\n",
    "       'ch-Calcein-filled_area',\n",
    "       'ch-PE-mean_intensity',\n",
    "       'ch-PE-area',\n",
    "       'ch-PE-solidity',\n",
    "       'ch-PE-extent',\n",
    "       'ch-PE-filled_area',\n",
    "       'ch-APC-area',\n",
    "       'ch-APC-mean_intensity',\n",
    "       'ch-APC-solidity',\n",
    "       'ch-APC-extent',\n",
    "       'ch-APC-filled_area',\n",
    "       'ch-Hoechst-area',\n",
    "       'ch-Hoechst-mean_intensity',\n",
    "       'ch-Hoechst-solidity',\n",
    "       'ch-Hoechst-extent',\n",
    "       'ch-Hoechst-filled_area']\n",
    "imgdf = preprocess_data(df=ctrl_df, sel=sel, glog=True)"
   ]
  },
  {
   "cell_type": "code",
   "execution_count": null,
   "metadata": {},
   "outputs": [],
   "source": [
    "from sklearn.preprocessing import StandardScaler\n",
    "from bioimg.singlecell import scale_data, check_data\n",
    "'''scaler = StandardScaler().fit(X=imgdf)\n",
    "imgdf_scaled = scale_data(imgdf, scaler=scaler)'''\n",
    "\n",
    "sample_ids = ctrl_annot['PatientID'].unique()\n",
    "imgdf_scaled = []\n",
    "ctrl_both = []\n",
    "for samp in sample_ids:\n",
    "    ctrl_s = ctrl_df[ctrl_annot['PatientID']==samp]\n",
    "    imgdf = preprocess_data(df=ctrl_s, sel=sel, glog=True)\n",
    "    scaler = StandardScaler().fit(X=imgdf)\n",
    "    imgdf_samp = scale_data(imgdf, scaler=scaler)\n",
    "    imgdf_scaled.append(imgdf_samp)\n",
    "    ctrl_both.append(ctrl_annot[ctrl_annot['PatientID']==samp])"
   ]
  },
  {
   "cell_type": "code",
   "execution_count": null,
   "metadata": {},
   "outputs": [],
   "source": [
    "imgdf_scaled = pd.concat(imgdf_scaled).reset_index(drop=True)\n",
    "ctrl_both = pd.concat(ctrl_both).reset_index(drop=True)"
   ]
  },
  {
   "cell_type": "code",
   "execution_count": null,
   "metadata": {},
   "outputs": [],
   "source": [
    "from sklearn.decomposition import PCA\n",
    "from sklearn.manifold import TSNE\n",
    "pca = PCA(n_components=8)\n",
    "pcs = pca.fit_transform(imgdf_scaled)\n",
    "X_tsne = TSNE(n_components=2, random_state=21, perplexity=50).fit_transform(pcs)"
   ]
  },
  {
   "cell_type": "code",
   "execution_count": null,
   "metadata": {},
   "outputs": [],
   "source": [
    "'''plt.plot(np.cumsum(pca.explained_variance_ratio_), linewidth=3)\n",
    "sn.despine()\n",
    "plt.axhline(y=1, color='black', linestyle=':')\n",
    "plt.xlabel('Number of principal components')\n",
    "plt.ylabel('Cumulative explained variance')'''"
   ]
  },
  {
   "cell_type": "code",
   "execution_count": null,
   "metadata": {},
   "outputs": [],
   "source": [
    "from bioimg.singlecell import plot_dimred\n",
    "X_df = pd.concat([pd.DataFrame(X_tsne, columns=['tsne1', 'tsne2']), ctrl_both], axis=1)\n",
    "\n",
    "plot_dimred(X_df,\n",
    "            hue='PatientID',\n",
    "            title='DMSO control wells')\n",
    "plt.legend(loc='lower right',\n",
    "           bbox_to_anchor=(1.3,0.3))"
   ]
  },
  {
   "cell_type": "code",
   "execution_count": null,
   "metadata": {},
   "outputs": [],
   "source": [
    "X_df = pd.DataFrame(X_tsne, columns=['tsne1', 'tsne2'])\n",
    "feat_subset = ['ch-Calcein-area', \n",
    "               'ch-Calcein-mean_intensity',\n",
    "               'ch-PE-mean_intensity',\n",
    "               'ch-APC-mean_intensity',\n",
    "               'ch-PE-area',\n",
    "               'ch-APC-area',\n",
    "               'ch-PE-solidity',\n",
    "               'ch-APC-solidity',\n",
    "               'ch-Hoechst-area']\n",
    "Xfeat = imgdf_scaled.loc[:,feat_subset]\n",
    "X_df = pd.concat([X_df, Xfeat], axis=1)"
   ]
  },
  {
   "cell_type": "code",
   "execution_count": null,
   "metadata": {},
   "outputs": [],
   "source": [
    "from bioimg.singlecell import facet_dimred\n",
    "facet_dimred(X_df, \n",
    "             feat_subset=feat_subset,\n",
    "            nrows=3, ncols=3)"
   ]
  },
  {
   "cell_type": "markdown",
   "metadata": {},
   "source": [
    "Try a different plate with 2 biological samples:"
   ]
  },
  {
   "cell_type": "code",
   "execution_count": null,
   "metadata": {},
   "outputs": [],
   "source": [
    "plate = plates[1]\n",
    "\n",
    "platedir = os.path.join(path, plate)\n",
    "annot = dmso[dmso['plate']==plate]\n",
    "wells = annot['well'].values\n",
    "\n",
    "ctrl_df, ctrl_annot = load_bite(platedir=platedir,\n",
    "                                wells=wells,\n",
    "                                annot=annot)\n",
    "\n",
    "thresh = 300\n",
    "viab = (ctrl_df['ch-Calcein-area'] > thresh).values"
   ]
  },
  {
   "cell_type": "code",
   "execution_count": null,
   "metadata": {},
   "outputs": [],
   "source": [
    "ctrl_df = ctrl_df[viab].reset_index(drop=True)\n",
    "ctrl_annot = ctrl_annot[viab].reset_index(drop=True)"
   ]
  },
  {
   "cell_type": "code",
   "execution_count": null,
   "metadata": {},
   "outputs": [],
   "source": [
    "sample_ids = ctrl_annot['PatientID'].unique()\n",
    "imgdf_scaled = []\n",
    "ctrl_both = []\n",
    "for samp in sample_ids:\n",
    "    ctrl_s = ctrl_df[ctrl_annot['PatientID']==samp]\n",
    "    imgdf = preprocess_data(df=ctrl_s, sel=sel, glog=True)\n",
    "    scaler = StandardScaler().fit(X=imgdf)\n",
    "    imgdf_samp = scale_data(imgdf, scaler=scaler)\n",
    "    imgdf_scaled.append(imgdf_samp)\n",
    "    ctrl_both.append(ctrl_annot[ctrl_annot['PatientID']==samp])"
   ]
  },
  {
   "cell_type": "code",
   "execution_count": null,
   "metadata": {},
   "outputs": [],
   "source": [
    "imgdf_scaled = pd.concat(imgdf_scaled).reset_index(drop=True)\n",
    "ctrl_both = pd.concat(ctrl_both).reset_index(drop=True)"
   ]
  },
  {
   "cell_type": "code",
   "execution_count": null,
   "metadata": {},
   "outputs": [],
   "source": [
    "'''imgdf = preprocess_data(df=ctrl_df, sel=sel, glog=True)\n",
    "scaler = StandardScaler().fit(X=imgdf)\n",
    "imgdf_scaled = scale_data(imgdf, scaler=scaler)'''"
   ]
  },
  {
   "cell_type": "code",
   "execution_count": null,
   "metadata": {},
   "outputs": [],
   "source": [
    "pca = PCA(n_components=8)\n",
    "pcs = pca.fit_transform(imgdf_scaled)\n",
    "X_tsne = TSNE(n_components=2, random_state=21, perplexity=50).fit_transform(pcs)"
   ]
  },
  {
   "cell_type": "code",
   "execution_count": null,
   "metadata": {},
   "outputs": [],
   "source": [
    "X_df = pd.concat([pd.DataFrame(X_tsne, columns=['tsne1', 'tsne2']), ctrl_both], axis=1)\n",
    "\n",
    "plot_dimred(X_df,\n",
    "            hue='PatientID',\n",
    "            title='DMSO control wells')\n",
    "plt.legend(loc='lower right',\n",
    "           bbox_to_anchor=(1.3,0.3))"
   ]
  },
  {
   "cell_type": "code",
   "execution_count": null,
   "metadata": {},
   "outputs": [],
   "source": [
    "X_df = pd.DataFrame(X_tsne, columns=['tsne1', 'tsne2'])\n",
    "feat_subset = ['ch-Calcein-area', \n",
    "               'ch-Calcein-mean_intensity',\n",
    "               'ch-PE-mean_intensity',\n",
    "               'ch-APC-mean_intensity',\n",
    "               'ch-PE-area',\n",
    "               'ch-APC-area',\n",
    "               'ch-PE-solidity',\n",
    "               'ch-APC-solidity',\n",
    "               'ch-Hoechst-area']\n",
    "Xfeat = imgdf_scaled.loc[:,feat_subset]\n",
    "X_df = pd.concat([X_df, Xfeat], axis=1)"
   ]
  },
  {
   "cell_type": "code",
   "execution_count": null,
   "metadata": {},
   "outputs": [],
   "source": [
    "from bioimg.singlecell import facet_dimred\n",
    "facet_dimred(X_df, \n",
    "             feat_subset=feat_subset,\n",
    "            nrows=3, ncols=3)"
   ]
  },
  {
   "cell_type": "code",
   "execution_count": null,
   "metadata": {},
   "outputs": [],
   "source": []
  }
 ],
 "metadata": {
  "kernelspec": {
   "display_name": "Python 3",
   "language": "python",
   "name": "python3"
  },
  "language_info": {
   "codemirror_mode": {
    "name": "ipython",
    "version": 3
   },
   "file_extension": ".py",
   "mimetype": "text/x-python",
   "name": "python",
   "nbconvert_exporter": "python",
   "pygments_lexer": "ipython3",
   "version": "3.8.3"
  }
 },
 "nbformat": 4,
 "nbformat_minor": 4
}

{
 "cells": [
  {
   "cell_type": "markdown",
   "metadata": {},
   "source": [
    "# Aggregated BiTE profiles"
   ]
  },
  {
   "cell_type": "code",
   "execution_count": null,
   "metadata": {},
   "outputs": [],
   "source": [
    "# load third-party Python modules\n",
    "import javabridge\n",
    "import bioformats as bf\n",
    "import skimage\n",
    "import numpy as np\n",
    "import matplotlib.pyplot as plt\n",
    "import seaborn as sn\n",
    "import pandas as pd\n",
    "import re\n",
    "import os\n",
    "import sys\n",
    "import h5py\n",
    "import json\n",
    "from sklearn.manifold import TSNE\n"
   ]
  },
  {
   "cell_type": "code",
   "execution_count": null,
   "metadata": {},
   "outputs": [],
   "source": [
    "annot_df = pd.read_csv('../data/BiTE/bite_annot.csv')"
   ]
  },
  {
   "cell_type": "code",
   "execution_count": null,
   "metadata": {},
   "outputs": [],
   "source": [
    "prof_dir = '../data/bite_mean_profiles/'"
   ]
  },
  {
   "cell_type": "code",
   "execution_count": null,
   "metadata": {},
   "outputs": [],
   "source": [
    "plates = os.listdir(prof_dir)"
   ]
  },
  {
   "cell_type": "code",
   "execution_count": null,
   "metadata": {},
   "outputs": [],
   "source": [
    "data_all = []\n",
    "for plate in plates:\n",
    "    imgdf = pd.read_csv(os.path.join(prof_dir, plate))\n",
    "    annot_plate = annot_df[annot_df['plate']==plate.replace('.csv', '')]\n",
    "    plate_df = pd.merge(imgdf, annot_plate[['well', 'PatientID', 'comb']],on='well')\n",
    "    plate_df = plate_df.groupby(['PatientID', 'comb'], as_index=False).agg('mean')\n",
    "    plate_df.index = plate_df['comb']\n",
    "    plate_df = plate_df.drop('comb', axis=1)\n",
    "    data_all.append(plate_df)"
   ]
  },
  {
   "cell_type": "code",
   "execution_count": null,
   "metadata": {},
   "outputs": [],
   "source": [
    "df_all = pd.concat(data_all)"
   ]
  },
  {
   "cell_type": "code",
   "execution_count": null,
   "metadata": {},
   "outputs": [],
   "source": [
    "df_all"
   ]
  },
  {
   "cell_type": "code",
   "execution_count": null,
   "metadata": {},
   "outputs": [],
   "source": [
    "df_wide = pd.pivot_table(df_all, index=df_all.index, columns='PatientID')"
   ]
  },
  {
   "cell_type": "code",
   "execution_count": null,
   "metadata": {},
   "outputs": [],
   "source": [
    "df_wide.shape"
   ]
  },
  {
   "cell_type": "code",
   "execution_count": null,
   "metadata": {},
   "outputs": [],
   "source": [
    "from bioimg.singlecell import plot_heatmap\n",
    "plot_heatmap(df_wide.fillna(0), xticklabels=False, size=(10,14),\n",
    "            yticklabels=True, vmin=-3, vmax=3)"
   ]
  },
  {
   "cell_type": "code",
   "execution_count": null,
   "metadata": {},
   "outputs": [],
   "source": [
    "df_wide.columns = df_wide.columns.map('|'.join)"
   ]
  },
  {
   "cell_type": "code",
   "execution_count": null,
   "metadata": {},
   "outputs": [],
   "source": [
    "df_wide.head()"
   ]
  },
  {
   "cell_type": "code",
   "execution_count": null,
   "metadata": {},
   "outputs": [],
   "source": [
    "df_wide.to_csv('../data/all_bite_profiles.csv')"
   ]
  },
  {
   "cell_type": "markdown",
   "metadata": {},
   "source": [
    "Collapse concentrations:"
   ]
  },
  {
   "cell_type": "code",
   "execution_count": null,
   "metadata": {},
   "outputs": [],
   "source": [
    "combs = annot_df.apply(lambda x: '_'.join([x['BiTE'], x['Drug']]), axis=1).values"
   ]
  },
  {
   "cell_type": "code",
   "execution_count": null,
   "metadata": {},
   "outputs": [],
   "source": [
    "combs[combs=='DMSO_DMSO'] = 'DMSO'\n",
    "combs = [c.replace(\"_DMSO\", '') for c in combs]\n",
    "combs = [c.replace(\"DMSO_\", '') for c in combs]"
   ]
  },
  {
   "cell_type": "code",
   "execution_count": null,
   "metadata": {},
   "outputs": [],
   "source": [
    "annot_df['comb'] = combs"
   ]
  },
  {
   "cell_type": "code",
   "execution_count": null,
   "metadata": {},
   "outputs": [],
   "source": [
    "annot_df.head()"
   ]
  },
  {
   "cell_type": "code",
   "execution_count": null,
   "metadata": {},
   "outputs": [],
   "source": [
    "data_all = []\n",
    "for plate in plates:\n",
    "    imgdf = pd.read_csv(os.path.join(prof_dir, plate))\n",
    "    annot_plate = annot_df[annot_df['plate']==plate.replace('.csv', '')]\n",
    "    plate_df = pd.merge(imgdf, annot_plate[['well', 'PatientID', 'comb']],on='well')\n",
    "    # take extreme values\n",
    "    plate_df = (plate_df.\n",
    "                groupby(['PatientID', 'comb'],\n",
    "                        as_index=False).\n",
    "                agg(lambda x: np.max(x) if np.abs(np.max(x)) > np.abs(np.min(x)) else np.min(x)))\n",
    "    plate_df.index = plate_df['comb']\n",
    "    plate_df = plate_df.drop('comb', axis=1)\n",
    "    data_all.append(plate_df)"
   ]
  },
  {
   "cell_type": "code",
   "execution_count": null,
   "metadata": {},
   "outputs": [],
   "source": [
    "df_all = pd.concat(data_all)\n",
    "df_wide = pd.pivot_table(df_all, index=df_all.index, columns='PatientID')\n",
    "df_wide.columns = df_wide.columns.map('|'.join)"
   ]
  },
  {
   "cell_type": "code",
   "execution_count": null,
   "metadata": {},
   "outputs": [],
   "source": [
    "df_wide.to_csv('../data/bite_comb_profiles.csv')"
   ]
  }
 ],
 "metadata": {
  "kernelspec": {
   "display_name": "Python 3",
   "language": "python",
   "name": "python3"
  },
  "language_info": {
   "codemirror_mode": {
    "name": "ipython",
    "version": 3
   },
   "file_extension": ".py",
   "mimetype": "text/x-python",
   "name": "python",
   "nbconvert_exporter": "python",
   "pygments_lexer": "ipython3",
   "version": "3.8.3"
  }
 },
 "nbformat": 4,
 "nbformat_minor": 4
}

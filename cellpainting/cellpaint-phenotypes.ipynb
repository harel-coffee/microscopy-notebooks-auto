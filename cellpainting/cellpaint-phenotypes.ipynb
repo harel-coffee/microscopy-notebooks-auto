{
 "cells": [
  {
   "cell_type": "markdown",
   "metadata": {},
   "source": [
    "# Visualizing CellPainting Compound Phenotypes"
   ]
  },
  {
   "cell_type": "code",
   "execution_count": null,
   "metadata": {},
   "outputs": [],
   "source": [
    "# load third-party Python modules\n",
    "import javabridge\n",
    "import bioformats as bf\n",
    "import skimage\n",
    "import numpy as np\n",
    "import matplotlib.pyplot as plt\n",
    "import sys\n",
    "import os\n",
    "import pandas as pd\n",
    "\n",
    "javabridge.start_vm(class_path=bf.JARS)"
   ]
  },
  {
   "cell_type": "code",
   "execution_count": null,
   "metadata": {},
   "outputs": [],
   "source": [
    "path = '/Volumes/gitlab/microscopy-notebooks/data/cytodata/datasets/CDRPBIO-BBBC036-Bray/images/CDRPBIO-BBBC036-Bray'"
   ]
  },
  {
   "cell_type": "code",
   "execution_count": null,
   "metadata": {},
   "outputs": [],
   "source": [
    "chemannot = pd.read_csv(\"../data/Bray-metadata/plate_annot.txt\", sep='\\t')"
   ]
  },
  {
   "cell_type": "markdown",
   "metadata": {},
   "source": [
    "Filter out the bad wells and plot all drugs in the heatmap side-by-side with replicates:"
   ]
  },
  {
   "cell_type": "code",
   "execution_count": null,
   "metadata": {},
   "outputs": [],
   "source": [
    "noisywells = pd.read_csv('../data/Bray-noisywells.csv', index_col=0)\n",
    "noisywells = noisywells[noisywells['count'] > 3].reset_index(drop=True)\n",
    "\n",
    "chemannot = pd.merge(left=chemannot,\n",
    "         right=noisywells[['plateID', 'well_position']],\n",
    "        how='outer', indicator=True)\n",
    "chemannot = (chemannot[chemannot['_merge'] == 'left_only'].\n",
    "             drop(columns='_merge').reset_index(drop=True))"
   ]
  },
  {
   "cell_type": "code",
   "execution_count": null,
   "metadata": {},
   "outputs": [],
   "source": [
    "# compounds with strong phenotypes based\n",
    "# on mean well profiles\n",
    "drugs = ['vinblastine sulfate',\n",
    "         'dorsomorphin',\n",
    "         'amthamine',\n",
    "         'carboxin',\n",
    "         'resveratrol',\n",
    "         'KN-93']"
   ]
  },
  {
   "cell_type": "code",
   "execution_count": null,
   "metadata": {},
   "outputs": [],
   "source": [
    "def load_drug_images(path, chemannot, drug, which=0):\n",
    "    '''Retrun list of CellPainting image file names for the selected drug\n",
    "    '''\n",
    "    cmpd_annot = chemannot[chemannot['CPD_NAME'] == drug].reset_index(drop=True)\n",
    "    plate = cmpd_annot['plateID'][which]\n",
    "    well = cmpd_annot['well_position'][which]\n",
    "    \n",
    "    imgpath = os.path.join(path, str(plate))\n",
    "    imgfiles = os.listdir(imgpath)\n",
    "    cmpd_imgs = [f for f in imgfiles if \"_\" + well + \"_\" in f]\n",
    "    \n",
    "    ctrl_annot = chemannot.loc[np.logical_and(chemannot['broad_sample'] == 'DMSO',\n",
    "                               chemannot['plateID'] == plate),:].reset_index(drop=True)\n",
    "    well = ctrl_annot['well_position'][which]\n",
    "    ctrl_imgs = [f for f in imgfiles if \"_\" + well + \"_\" in f]\n",
    "    \n",
    "    return imgpath, cmpd_imgs, ctrl_imgs"
   ]
  },
  {
   "cell_type": "markdown",
   "metadata": {},
   "source": [
    "## Getting Started\n",
    "First load a couple of control and drug-treated (vinblastine sulfate) images:"
   ]
  },
  {
   "cell_type": "code",
   "execution_count": null,
   "metadata": {},
   "outputs": [],
   "source": [
    "imgpath, cmpd_imgs, ctrl_imgs = load_drug_images(path=path, chemannot=chemannot,\n",
    "                                                drug='vinblastine sulfate',\n",
    "                                                which=0)"
   ]
  },
  {
   "cell_type": "code",
   "execution_count": null,
   "metadata": {},
   "outputs": [],
   "source": [
    "from bioimg import read_image, load_image_series\n",
    "from bioimg import plot_channels, combine_channels\n",
    "imgs = [read_image(fname=os.path.join(imgpath, f)) for f in cmpd_imgs if 's1' in f]"
   ]
  },
  {
   "cell_type": "code",
   "execution_count": null,
   "metadata": {},
   "outputs": [],
   "source": [
    "plot_channels(imgs, nrow=2, ncol=3,\n",
    "              cmap='gray',\n",
    "              scale_x=4, scale_y=3.5,\n",
    "              titles=['Nuclei',\n",
    "                      'ER', 'RNA',\n",
    "                      'F-actin', 'Mito'])"
   ]
  },
  {
   "cell_type": "code",
   "execution_count": null,
   "metadata": {},
   "outputs": [],
   "source": [
    "# save the plotting settings and re-use for\n",
    "# all images in CellPainting assay\n",
    "'''col_params={'colors': ['blue', \n",
    "                       'yellow',\n",
    "                       'green', \n",
    "                       'orange', \n",
    "                       'red'],\n",
    "            'blend': [6, 1, 2, 2, 3],\n",
    "            'gamma': [0.5, 0.8, 0.6, 0.5, 0.7]}'''\n",
    "# new parameters\n",
    "col_params={'colors': ['blue', \n",
    "                       'yellow',\n",
    "                       'green', \n",
    "                       'white', \n",
    "                       'red'],\n",
    "            'blend': [2, 0.5, 1, 0.5, 1],\n",
    "            'gamma': [0.5, 0.8,0.6,0.5,0.7]}"
   ]
  },
  {
   "cell_type": "code",
   "execution_count": null,
   "metadata": {},
   "outputs": [],
   "source": [
    "plt.figure(figsize=(10,8))\n",
    "plt.imshow(combine_channels(imgs, **col_params))\n",
    "plt.axis('off')"
   ]
  },
  {
   "cell_type": "markdown",
   "metadata": {},
   "source": [
    "Load control wells:"
   ]
  },
  {
   "cell_type": "code",
   "execution_count": null,
   "metadata": {},
   "outputs": [],
   "source": [
    "dmso_imgs = [read_image(fname=os.path.join(imgpath, f)) for f in ctrl_imgs if 's1' in f]"
   ]
  },
  {
   "cell_type": "code",
   "execution_count": null,
   "metadata": {},
   "outputs": [],
   "source": [
    "plot_channels(dmso_imgs, nrow=2, ncol=3, cmap='gray',\n",
    "             scale_x=4, scale_y=3.5,\n",
    "              titles=['Nuclei',\n",
    "                      'ER', 'RNA',\n",
    "                      'F-actin', 'Mito'])"
   ]
  },
  {
   "cell_type": "code",
   "execution_count": null,
   "metadata": {},
   "outputs": [],
   "source": [
    "plt.figure(figsize=(10,8))\n",
    "plt.imshow(combine_channels(dmso_imgs, **col_params))\n",
    "plt.axis('off')"
   ]
  },
  {
   "cell_type": "markdown",
   "metadata": {},
   "source": [
    "## Plot drug-treated and control images side by side for a number of drugs:"
   ]
  },
  {
   "cell_type": "markdown",
   "metadata": {},
   "source": [
    "We can loop over the drugs with the strongest effects:"
   ]
  },
  {
   "cell_type": "code",
   "execution_count": null,
   "metadata": {},
   "outputs": [],
   "source": [
    "imglist = []\n",
    "titles = []\n",
    "for d in drugs:\n",
    "    for i in range(3):\n",
    "        imgpath, cmpd_imgs, ctrl_imgs = load_drug_images(path=path, chemannot=chemannot,\n",
    "                                                    drug=d,\n",
    "                                                    which=i)\n",
    "        fview = 's3'\n",
    "        imgs = [read_image(fname=os.path.join(imgpath, f), verbose=False) for f in cmpd_imgs if fview in f]\n",
    "        dmso_imgs = [read_image(fname=os.path.join(imgpath, f), verbose=False) for f in ctrl_imgs if fview in f]\n",
    "\n",
    "        drug_img = combine_channels(imgs, **col_params)\n",
    "        imglist.append(drug_img)\n",
    "        titles.append(d)\n",
    "        ctrl_img = combine_channels(dmso_imgs, **col_params)\n",
    "        titles.append('DMSO')\n",
    "        imglist.append(ctrl_img)"
   ]
  },
  {
   "cell_type": "code",
   "execution_count": null,
   "metadata": {},
   "outputs": [],
   "source": [
    "nrow = len(imglist) / 6"
   ]
  },
  {
   "cell_type": "code",
   "execution_count": null,
   "metadata": {},
   "outputs": [],
   "source": [
    "plot_channels(imglist, titles=titles, nrow=nrow, ncol=6, scale_y=4,\n",
    "             hspace=0.1, wspace=0.05, top=0.65)"
   ]
  },
  {
   "cell_type": "markdown",
   "metadata": {},
   "source": [
    "Visualzie more drugs from the heatmap:"
   ]
  },
  {
   "cell_type": "code",
   "execution_count": null,
   "metadata": {},
   "outputs": [],
   "source": [
    "drugs = ['5-iodotubercidin',\n",
    "         'harmol', 'scoulerine',\n",
    "         'LY-294002',\n",
    "         'VEGF receptor 2 kinase inhibitor IV',\n",
    "         'A-23187']"
   ]
  },
  {
   "cell_type": "code",
   "execution_count": null,
   "metadata": {},
   "outputs": [],
   "source": [
    "imglist = []\n",
    "titles = []\n",
    "for d in drugs:\n",
    "    for i in range(3):\n",
    "        imgpath, cmpd_imgs, ctrl_imgs = load_drug_images(path=path, chemannot=chemannot,\n",
    "                                                    drug=d,\n",
    "                                                    which=i)\n",
    "        fview = 's3'\n",
    "        imgs = [read_image(fname=os.path.join(imgpath, f), verbose=False) for f in cmpd_imgs if fview in f]\n",
    "        dmso_imgs = [read_image(fname=os.path.join(imgpath, f), verbose=False) for f in ctrl_imgs if fview in f]\n",
    "\n",
    "        drug_img = combine_channels(imgs, **col_params)\n",
    "        imglist.append(drug_img)\n",
    "        titles.append(d)\n",
    "        ctrl_img = combine_channels(dmso_imgs, **col_params)\n",
    "        titles.append('DMSO')\n",
    "        imglist.append(ctrl_img)"
   ]
  },
  {
   "cell_type": "code",
   "execution_count": null,
   "metadata": {},
   "outputs": [],
   "source": [
    "nrow = len(imglist) / 6\n",
    "plot_channels(imglist, titles=titles, nrow=nrow, ncol=6, scale_y=4,\n",
    "             hspace=0.1, wspace=0.05, top=0.65)"
   ]
  },
  {
   "cell_type": "markdown",
   "metadata": {},
   "source": [
    "Check more drugs:"
   ]
  },
  {
   "cell_type": "code",
   "execution_count": null,
   "metadata": {},
   "outputs": [],
   "source": [
    "drugs = ['capsazepine', 'crustecdysone',\n",
    "         'butein', 'SB 218078',\n",
    "         'hinokitiol', 'SRC kinase inhibitor II']"
   ]
  },
  {
   "cell_type": "code",
   "execution_count": null,
   "metadata": {},
   "outputs": [],
   "source": [
    "imglist = []\n",
    "titles = []\n",
    "for d in drugs:\n",
    "    for i in range(3):\n",
    "        imgpath, cmpd_imgs, ctrl_imgs = load_drug_images(path=path, chemannot=chemannot,\n",
    "                                                    drug=d,\n",
    "                                                    which=i)\n",
    "        fview = 's3'\n",
    "        imgs = [read_image(fname=os.path.join(imgpath, f), verbose=False) for f in cmpd_imgs if fview in f]\n",
    "        dmso_imgs = [read_image(fname=os.path.join(imgpath, f), verbose=False) for f in ctrl_imgs if fview in f]\n",
    "\n",
    "        drug_img = combine_channels(imgs, **col_params)\n",
    "        imglist.append(drug_img)\n",
    "        titles.append(d)\n",
    "        ctrl_img = combine_channels(dmso_imgs, **col_params)\n",
    "        titles.append('DMSO')\n",
    "        imglist.append(ctrl_img)"
   ]
  },
  {
   "cell_type": "code",
   "execution_count": null,
   "metadata": {},
   "outputs": [],
   "source": [
    "nrow = len(imglist) / 6\n",
    "plot_channels(imglist, titles=titles, nrow=nrow, ncol=6, scale_y=4,\n",
    "             hspace=0.1, wspace=0.05, top=0.65)"
   ]
  },
  {
   "cell_type": "code",
   "execution_count": null,
   "metadata": {},
   "outputs": [],
   "source": []
  }
 ],
 "metadata": {
  "kernelspec": {
   "display_name": "Python 3",
   "language": "python",
   "name": "python3"
  },
  "language_info": {
   "codemirror_mode": {
    "name": "ipython",
    "version": 3
   },
   "file_extension": ".py",
   "mimetype": "text/x-python",
   "name": "python",
   "nbconvert_exporter": "python",
   "pygments_lexer": "ipython3",
   "version": "3.8.3"
  }
 },
 "nbformat": 4,
 "nbformat_minor": 4
}

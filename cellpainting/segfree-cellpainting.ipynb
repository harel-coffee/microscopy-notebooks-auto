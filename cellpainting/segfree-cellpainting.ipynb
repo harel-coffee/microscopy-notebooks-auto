{
 "cells": [
  {
   "cell_type": "markdown",
   "metadata": {},
   "source": [
    "# Introduction: Segmentation-free profiling"
   ]
  },
  {
   "cell_type": "code",
   "execution_count": null,
   "metadata": {},
   "outputs": [],
   "source": [
    "# load third-party Python modules\n",
    "import javabridge\n",
    "import bioformats as bf\n",
    "import skimage\n",
    "import numpy as np\n",
    "import matplotlib.pyplot as plt\n",
    "import sys\n",
    "import os\n",
    "import pandas as pd\n",
    "\n",
    "javabridge.start_vm(class_path=bf.JARS)"
   ]
  },
  {
   "cell_type": "code",
   "execution_count": null,
   "metadata": {},
   "outputs": [],
   "source": [
    "path = '/Volumes/gitlab/microscopy-notebooks/data/cytodata/datasets/CDRPBIO-BBBC036-Bray/images/CDRPBIO-BBBC036-Bray'"
   ]
  },
  {
   "cell_type": "code",
   "execution_count": null,
   "metadata": {},
   "outputs": [],
   "source": [
    "chemannot = pd.read_csv(\"../data/Bray-metadata/plate_annot.txt\", sep='\\t')"
   ]
  },
  {
   "cell_type": "code",
   "execution_count": null,
   "metadata": {},
   "outputs": [],
   "source": [
    "noisywells = pd.read_csv('../data/Bray-noisywells.csv', index_col=0)\n",
    "noisywells = noisywells[noisywells['count'] > 3].reset_index(drop=True)\n",
    "\n",
    "chemannot = pd.merge(left=chemannot,\n",
    "         right=noisywells[['plateID', 'well_position']],\n",
    "        how='outer', indicator=True)\n",
    "chemannot = (chemannot[chemannot['_merge'] == 'left_only'].\n",
    "             drop(columns='_merge').reset_index(drop=True))"
   ]
  },
  {
   "cell_type": "code",
   "execution_count": null,
   "metadata": {},
   "outputs": [],
   "source": [
    "# compounds with strong phenotypes based\n",
    "# on mean well profiles\n",
    "drugs = ['vinblastine sulfate',\n",
    "         'dorsomorphin',\n",
    "         'amthamine',\n",
    "         'carboxin',\n",
    "         'resveratrol',\n",
    "         'KN-93']"
   ]
  },
  {
   "cell_type": "code",
   "execution_count": null,
   "metadata": {},
   "outputs": [],
   "source": [
    "def load_drug_images(path, chemannot, drug, which=0):\n",
    "    '''Retrun list of CellPainting image file names for the selected drug\n",
    "    '''\n",
    "    cmpd_annot = chemannot[chemannot['CPD_NAME'] == drug].reset_index(drop=True)\n",
    "    plate = cmpd_annot['plateID'][which]\n",
    "    well = cmpd_annot['well_position'][which]\n",
    "    \n",
    "    imgpath = os.path.join(path, str(plate))\n",
    "    imgfiles = os.listdir(imgpath)\n",
    "    cmpd_imgs = [f for f in imgfiles if \"_\" + well + \"_\" in f]\n",
    "    \n",
    "    ctrl_annot = chemannot.loc[np.logical_and(chemannot['broad_sample'] == 'DMSO',\n",
    "                               chemannot['plateID'] == plate),:].reset_index(drop=True)\n",
    "    well = ctrl_annot['well_position'][which]\n",
    "    ctrl_imgs = [f for f in imgfiles if \"_\" + well + \"_\" in f]\n",
    "    \n",
    "    return imgpath, cmpd_imgs, ctrl_imgs"
   ]
  },
  {
   "cell_type": "code",
   "execution_count": null,
   "metadata": {},
   "outputs": [],
   "source": [
    "imgpath, cmpd_imgs, ctrl_imgs = load_drug_images(path=path, chemannot=chemannot,\n",
    "                                                drug='vinblastine sulfate',\n",
    "                                                which=0)"
   ]
  },
  {
   "cell_type": "code",
   "execution_count": null,
   "metadata": {},
   "outputs": [],
   "source": [
    "from bioimg import read_image, load_image_series\n",
    "from bioimg import plot_channels, combine_channels\n",
    "imgs = [read_image(fname=os.path.join(imgpath, f)) for f in cmpd_imgs if 's1' in f]"
   ]
  },
  {
   "cell_type": "code",
   "execution_count": null,
   "metadata": {},
   "outputs": [],
   "source": [
    "col_params={'colors': ['blue', \n",
    "                       'yellow',\n",
    "                       'green', \n",
    "                       'white', \n",
    "                       'red'],\n",
    "            'blend': [2, 0.5, 1, 0.5, 1],\n",
    "            'gamma': [0.5, 0.8,0.6,0.5,0.7]}"
   ]
  },
  {
   "cell_type": "code",
   "execution_count": null,
   "metadata": {},
   "outputs": [],
   "source": [
    "plt.figure(figsize=(10,8))\n",
    "plt.imshow(combine_channels(imgs, **col_params))\n",
    "plt.axis('off')"
   ]
  },
  {
   "cell_type": "code",
   "execution_count": null,
   "metadata": {},
   "outputs": [],
   "source": [
    "dmso_imgs = [read_image(fname=os.path.join(imgpath, f)) for f in ctrl_imgs if 's1' in f]"
   ]
  },
  {
   "cell_type": "code",
   "execution_count": null,
   "metadata": {},
   "outputs": [],
   "source": [
    "plt.figure(figsize=(10,8))\n",
    "plt.imshow(combine_channels(dmso_imgs, **col_params))\n",
    "plt.axis('off')"
   ]
  },
  {
   "cell_type": "markdown",
   "metadata": {},
   "source": [
    "## Segmentation-Free profiling"
   ]
  },
  {
   "cell_type": "markdown",
   "metadata": {},
   "source": [
    "**Load images (Hoechst) and run K-means to cluster the blocks, save centroids**"
   ]
  },
  {
   "cell_type": "code",
   "execution_count": null,
   "metadata": {},
   "outputs": [],
   "source": [
    "drugs = ['vinblastine sulfate',\n",
    "         'dorsomorphin',\n",
    "         'amthamine',\n",
    "         'carboxin',\n",
    "         'resveratrol',\n",
    "         'KN-93']"
   ]
  },
  {
   "cell_type": "code",
   "execution_count": null,
   "metadata": {},
   "outputs": [],
   "source": [
    "imglist = []\n",
    "for d in drugs:\n",
    "    for i in range(3):\n",
    "        imgpath, cmpd_imgs, ctrl_imgs = load_drug_images(path=path, chemannot=chemannot,\n",
    "                                                    drug=d,\n",
    "                                                    which=i)\n",
    "        fview = 's3'\n",
    "        imgs = [read_image(fname=os.path.join(imgpath, f), verbose=False) for f in cmpd_imgs if fview in f]\n",
    "        dmso_imgs = [read_image(fname=os.path.join(imgpath, f), verbose=False) for f in ctrl_imgs if fview in f]\n",
    "\n",
    "        imglist.append(np.stack(imgs, axis=-1))\n",
    "        imglist.append(np.stack(dmso_imgs, axis=-1))"
   ]
  },
  {
   "cell_type": "code",
   "execution_count": null,
   "metadata": {},
   "outputs": [],
   "source": [
    "hoechst = [img[:,:,0] for img in imglist]"
   ]
  },
  {
   "cell_type": "code",
   "execution_count": null,
   "metadata": {},
   "outputs": [],
   "source": [
    "from bioimg import threshold_img\n",
    "from skimage.util import img_as_ubyte\n",
    "def preprocess(imgs, thresh=True):\n",
    "    if thresh:\n",
    "        imgs = [threshold_img(img, method='otsu') for img in imgs]\n",
    "    imgs = [img_as_ubyte(img) for img in imgs]\n",
    "    return imgs"
   ]
  },
  {
   "cell_type": "code",
   "execution_count": null,
   "metadata": {},
   "outputs": [],
   "source": [
    "train_imgs = preprocess(imgs=hoechst)"
   ]
  },
  {
   "cell_type": "code",
   "execution_count": null,
   "metadata": {},
   "outputs": [],
   "source": [
    "from bioimg import SegfreeProfiler\n",
    "segf = SegfreeProfiler(tile_size=(10,10),\n",
    "                       n_block_types=20,\n",
    "                       n_supblock_types=20)"
   ]
  },
  {
   "cell_type": "code",
   "execution_count": null,
   "metadata": {},
   "outputs": [],
   "source": [
    "tiles = segf.tile_images(train_imgs)"
   ]
  },
  {
   "cell_type": "code",
   "execution_count": null,
   "metadata": {},
   "outputs": [],
   "source": [
    "'''plot_channels(images=[tiles[1][i] for i in range(tiles[1].shape[0])],\n",
    "              nrow=10, ncol=12, wspace=0.05, hspace=0.05)'''"
   ]
  },
  {
   "cell_type": "code",
   "execution_count": null,
   "metadata": {},
   "outputs": [],
   "source": [
    "#segf = segf.fit(train_imgs)"
   ]
  },
  {
   "cell_type": "code",
   "execution_count": null,
   "metadata": {},
   "outputs": [],
   "source": [
    "segf_prof = segf.fit_transform(train_imgs)"
   ]
  },
  {
   "cell_type": "markdown",
   "metadata": {},
   "source": [
    "Re-run everything above:"
   ]
  },
  {
   "cell_type": "code",
   "execution_count": null,
   "metadata": {},
   "outputs": [],
   "source": [
    "#segf_prof = segf.transform(train_imgs)"
   ]
  },
  {
   "cell_type": "code",
   "execution_count": null,
   "metadata": {},
   "outputs": [],
   "source": [
    "segf_prof.shape"
   ]
  },
  {
   "cell_type": "code",
   "execution_count": null,
   "metadata": {},
   "outputs": [],
   "source": [
    "import seaborn as sn\n",
    "from sklearn.feature_selection import VarianceThreshold\n",
    "sel = VarianceThreshold(threshold=1e-4).fit(segf_prof)\n",
    "sn.clustermap(segf_prof.loc[:,sel.get_support()])"
   ]
  },
  {
   "cell_type": "code",
   "execution_count": null,
   "metadata": {},
   "outputs": [],
   "source": [
    "segf_prof.columns[sel.get_support()]"
   ]
  },
  {
   "cell_type": "markdown",
   "metadata": {},
   "source": [
    "## Aggregate all channels"
   ]
  },
  {
   "cell_type": "code",
   "execution_count": null,
   "metadata": {},
   "outputs": [],
   "source": [
    "#segf = segf.fit(imglist)\n",
    "segf_prof = segf.fit_transform(imglist)"
   ]
  },
  {
   "cell_type": "code",
   "execution_count": null,
   "metadata": {},
   "outputs": [],
   "source": [
    "import seaborn as sn\n",
    "plt.plot(np.cumsum(segf.pca.explained_variance_ratio_), linewidth=3)\n",
    "sn.despine()\n",
    "plt.axhline(y=1, color='black', linestyle=':')\n",
    "plt.xlabel('Number of principal components')\n",
    "plt.ylabel('Cumulative explained variance')"
   ]
  },
  {
   "cell_type": "code",
   "execution_count": null,
   "metadata": {},
   "outputs": [],
   "source": [
    "nchan = 5\n",
    "eigentiles = segf.pca.components_.reshape((segf.n_components, *segf.tile_size, nchan))"
   ]
  },
  {
   "cell_type": "code",
   "execution_count": null,
   "metadata": {},
   "outputs": [],
   "source": [
    "plot_channels([combine_channels([eigentiles[j,:,:,i] for i in range(5)], **col_params) for j in range(50)],\n",
    "              nrow=5, ncol=10, scale_x=2, scale_y=2)\n",
    "plt.show()"
   ]
  },
  {
   "cell_type": "code",
   "execution_count": null,
   "metadata": {},
   "outputs": [],
   "source": [
    "#segf_prof = segf.transform(imglist)"
   ]
  },
  {
   "cell_type": "code",
   "execution_count": null,
   "metadata": {},
   "outputs": [],
   "source": [
    "sel = VarianceThreshold(threshold=1e-4).fit(segf_prof)\n",
    "sn.clustermap(segf_prof.loc[:,sel.get_support()])"
   ]
  },
  {
   "cell_type": "markdown",
   "metadata": {},
   "source": [
    "Normalize each channel before fitting:"
   ]
  },
  {
   "cell_type": "code",
   "execution_count": null,
   "metadata": {},
   "outputs": [],
   "source": [
    "def minmax_scale(a):\n",
    "    return (a - a.min()) / (a.max() - a.min())\n",
    "\n",
    "def normalize_channels(img):\n",
    "    return np.stack([minmax_scale(img[:,:,i]) for i in range(img.shape[-1]) ], axis=-1)"
   ]
  },
  {
   "cell_type": "code",
   "execution_count": null,
   "metadata": {},
   "outputs": [],
   "source": [
    "imgs_norm = [normalize_channels(img) for img in imglist ]"
   ]
  },
  {
   "cell_type": "code",
   "execution_count": null,
   "metadata": {},
   "outputs": [],
   "source": [
    "#segf = segf.fit(imglist)\n",
    "segf_prof = segf.fit_transform(imgs_norm)"
   ]
  },
  {
   "cell_type": "code",
   "execution_count": null,
   "metadata": {},
   "outputs": [],
   "source": [
    "nchan = 5\n",
    "eigentiles = segf.pca.components_.reshape((segf.n_components, *segf.tile_size, nchan))\n",
    "plot_channels([combine_channels([eigentiles[j,:,:,i] for i in range(5)], **col_params) for j in range(50)],\n",
    "              nrow=5, ncol=10, scale_x=2, scale_y=2)\n",
    "plt.show()"
   ]
  },
  {
   "cell_type": "code",
   "execution_count": null,
   "metadata": {},
   "outputs": [],
   "source": [
    "sel = VarianceThreshold(threshold=1e-4).fit(segf_prof)\n",
    "sn.clustermap(segf_prof.loc[:,sel.get_support()])"
   ]
  },
  {
   "cell_type": "code",
   "execution_count": null,
   "metadata": {},
   "outputs": [],
   "source": [
    "segf_prof.loc[:,sel.get_support()].columns"
   ]
  },
  {
   "cell_type": "code",
   "execution_count": null,
   "metadata": {},
   "outputs": [],
   "source": []
  }
 ],
 "metadata": {
  "kernelspec": {
   "display_name": "Python 3",
   "language": "python",
   "name": "python3"
  },
  "language_info": {
   "codemirror_mode": {
    "name": "ipython",
    "version": 3
   },
   "file_extension": ".py",
   "mimetype": "text/x-python",
   "name": "python",
   "nbconvert_exporter": "python",
   "pygments_lexer": "ipython3",
   "version": "3.8.3"
  }
 },
 "nbformat": 4,
 "nbformat_minor": 4
}

{
 "cells": [
  {
   "cell_type": "markdown",
   "metadata": {},
   "source": [
    "# Exploring mean well profiles of Cell Painting Experiment"
   ]
  },
  {
   "cell_type": "code",
   "execution_count": null,
   "metadata": {},
   "outputs": [],
   "source": [
    "import javabridge\n",
    "import bioformats as bf\n",
    "import skimage\n",
    "import numpy as np\n",
    "import matplotlib.pyplot as plt\n",
    "import seaborn as sn\n",
    "import pandas as pd\n",
    "import re\n",
    "import os\n",
    "import sys\n",
    "import h5py\n",
    "import json\n",
    "from sklearn.manifold import TSNE\n",
    "\n",
    "javabridge.start_vm(class_path=bf.JARS)"
   ]
  },
  {
   "cell_type": "code",
   "execution_count": null,
   "metadata": {},
   "outputs": [],
   "source": [
    "datadir = '../data/Bray-wellprofiles/'"
   ]
  },
  {
   "cell_type": "markdown",
   "metadata": {},
   "source": [
    "## Normalized Well Profiles with Selected Features"
   ]
  },
  {
   "cell_type": "code",
   "execution_count": null,
   "metadata": {},
   "outputs": [],
   "source": [
    "# mean well profiles\n",
    "meanprof = [f for f in os.listdir(datadir) if 'variable_selected' in f]"
   ]
  },
  {
   "cell_type": "markdown",
   "metadata": {},
   "source": [
    "Load the first 10 plates and check feature correlation in this data set. The values in these files (`plate_normalized_variable_selected`) are already normalized with respect to DMSO wells and feature selection has already been performed"
   ]
  },
  {
   "cell_type": "code",
   "execution_count": null,
   "metadata": {},
   "outputs": [],
   "source": [
    "imgdata = []\n",
    "annot = []\n",
    "for prof in meanprof[:10]:\n",
    "    plate_df = pd.read_csv(os.path.join(datadir, prof))\n",
    "    annot_df = plate_df.loc[:,plate_df.columns.str.contains('Metadata')]\n",
    "    imgdf = plate_df.loc[:,~plate_df.columns.str.contains('Metadata')]\n",
    "    imgdata.append(imgdf)\n",
    "    annot.append(annot_df)"
   ]
  },
  {
   "cell_type": "code",
   "execution_count": null,
   "metadata": {},
   "outputs": [],
   "source": [
    "imgdata = pd.concat(imgdata)"
   ]
  },
  {
   "cell_type": "code",
   "execution_count": null,
   "metadata": {},
   "outputs": [],
   "source": [
    "annot = pd.concat(annot)"
   ]
  },
  {
   "cell_type": "code",
   "execution_count": null,
   "metadata": {},
   "outputs": [],
   "source": [
    "imgdata = imgdata.dropna(axis=1)"
   ]
  },
  {
   "cell_type": "code",
   "execution_count": null,
   "metadata": {},
   "outputs": [],
   "source": [
    "# feature correlation\n",
    "featcor = pd.DataFrame(np.corrcoef(imgdata.T),\n",
    "                       index=imgdata.columns,\n",
    "                       columns=imgdata.columns )"
   ]
  },
  {
   "cell_type": "code",
   "execution_count": null,
   "metadata": {},
   "outputs": [],
   "source": [
    "from bioimg.singlecell import plot_heatmap\n",
    "plot_heatmap(featcor)"
   ]
  },
  {
   "cell_type": "code",
   "execution_count": null,
   "metadata": {},
   "outputs": [],
   "source": [
    "plot_heatmap(imgdata,\n",
    "            xticklabels=False, size=(10,14),\n",
    "            yticklabels=False, vmin=-5, vmax=5)"
   ]
  },
  {
   "cell_type": "markdown",
   "metadata": {},
   "source": [
    "# Unnormalized Well Profiles\n",
    "Load well profiles with raw features and perform normalization and feature selection:"
   ]
  },
  {
   "cell_type": "code",
   "execution_count": null,
   "metadata": {},
   "outputs": [],
   "source": [
    "chemannot = pd.read_csv(\"../data/Bray-metadata/plate_annot.txt\", sep='\\t')"
   ]
  },
  {
   "cell_type": "code",
   "execution_count": null,
   "metadata": {},
   "outputs": [],
   "source": [
    "chemannot.head(6)"
   ]
  },
  {
   "cell_type": "code",
   "execution_count": null,
   "metadata": {},
   "outputs": [],
   "source": [
    "meanprof = [f for f in os.listdir(datadir) if len(re.findall('[0-9]+\\.csv', f))]"
   ]
  },
  {
   "cell_type": "code",
   "execution_count": null,
   "metadata": {},
   "outputs": [],
   "source": [
    "plate_df = pd.read_csv(os.path.join(datadir, meanprof[0]))\n",
    "annot_df = plate_df.loc[:,plate_df.columns.str.contains('Metadata')]\n",
    "imgdf = plate_df.loc[:,~plate_df.columns.str.contains('Metadata')]"
   ]
  },
  {
   "cell_type": "code",
   "execution_count": null,
   "metadata": {},
   "outputs": [],
   "source": [
    "annot_df = annot_df.rename(columns={'Image_Metadata_Plate': 'plateID',\n",
    "                        'Image_Metadata_Well': 'well_position'})"
   ]
  },
  {
   "cell_type": "code",
   "execution_count": null,
   "metadata": {},
   "outputs": [],
   "source": [
    "annot_df = pd.merge(left=annot_df, right=chemannot, \n",
    "         on=['plateID', 'well_position'],\n",
    "        how='left')"
   ]
  },
  {
   "cell_type": "code",
   "execution_count": null,
   "metadata": {},
   "outputs": [],
   "source": [
    "ctrl_df = imgdf[annot_df['broad_sample'] == 'DMSO']"
   ]
  },
  {
   "cell_type": "code",
   "execution_count": null,
   "metadata": {},
   "outputs": [],
   "source": [
    "from bioimg.singlecell import select_features\n",
    "from sklearn.feature_selection import VarianceThreshold\n",
    "sel = VarianceThreshold(threshold=1e-6).fit(ctrl_df)"
   ]
  },
  {
   "cell_type": "markdown",
   "metadata": {},
   "source": [
    "Remove features with variance < 1e-6 and log-transform the data:"
   ]
  },
  {
   "cell_type": "code",
   "execution_count": null,
   "metadata": {},
   "outputs": [],
   "source": [
    "from bioimg.singlecell import preprocess_data\n",
    "ctrl_df = preprocess_data(df=ctrl_df, sel=sel, glog=True)"
   ]
  },
  {
   "cell_type": "markdown",
   "metadata": {},
   "source": [
    "Scale the data with respect to DMSO controls:"
   ]
  },
  {
   "cell_type": "code",
   "execution_count": null,
   "metadata": {},
   "outputs": [],
   "source": [
    "from sklearn.preprocessing import StandardScaler\n",
    "from bioimg.singlecell import scale_data, check_data\n",
    "scaler = StandardScaler().fit(ctrl_df)\n",
    "ctrl_scaled = scale_data(ctrl_df, scaler=scaler).reset_index(drop=True)"
   ]
  },
  {
   "cell_type": "code",
   "execution_count": null,
   "metadata": {},
   "outputs": [],
   "source": [
    "drugdf = imgdf[annot_df['broad_sample'] != 'DMSO']"
   ]
  },
  {
   "cell_type": "code",
   "execution_count": null,
   "metadata": {},
   "outputs": [],
   "source": [
    "drugdf = preprocess_data(df=drugdf, sel=sel, glog=True)\n",
    "# center and scale by control wells\n",
    "drugdf = scale_data(drugdf, scaler=scaler)"
   ]
  },
  {
   "cell_type": "markdown",
   "metadata": {},
   "source": [
    "Load all unnormalized morphological features, remove features with variance < 1e-6, log-transform the data. Center and scale the data with respect to DMSO controls:"
   ]
  },
  {
   "cell_type": "code",
   "execution_count": null,
   "metadata": {},
   "outputs": [],
   "source": [
    "imgdata = []\n",
    "annot = []\n",
    "for prof in meanprof:\n",
    "    plate_df = pd.read_csv(os.path.join(datadir, prof))\n",
    "    annot_df = plate_df.loc[:,plate_df.columns.str.contains('Metadata')]\n",
    "    imgdf = plate_df.loc[:,~plate_df.columns.str.contains('Metadata')]\n",
    "    annot_df = annot_df.rename(columns={'Image_Metadata_Plate': 'plateID',\n",
    "                        'Image_Metadata_Well': 'well_position'})\n",
    "    annot_df = pd.merge(left=annot_df, right=chemannot, \n",
    "         on=['plateID', 'well_position'],\n",
    "        how='left')\n",
    "    \n",
    "    sel = VarianceThreshold(threshold=1e-8).fit(imgdf)\n",
    "    imgdf = preprocess_data(df=imgdf, sel=sel, glog=True)\n",
    "    scaler = StandardScaler().fit(imgdf[annot_df['broad_sample']=='DMSO'])\n",
    "    imgdf_scaled = scale_data(imgdf, scaler=scaler)\n",
    "    \n",
    "    imgdata.append(imgdf_scaled)\n",
    "    annot.append(annot_df)\n",
    "\n",
    "imgdata = pd.concat(imgdata)\n",
    "annot = pd.concat(annot)"
   ]
  },
  {
   "cell_type": "code",
   "execution_count": null,
   "metadata": {},
   "outputs": [],
   "source": [
    "imgdata = imgdata.dropna(axis=1)"
   ]
  },
  {
   "cell_type": "code",
   "execution_count": null,
   "metadata": {},
   "outputs": [],
   "source": [
    "imgdata.shape"
   ]
  },
  {
   "cell_type": "code",
   "execution_count": null,
   "metadata": {},
   "outputs": [],
   "source": [
    "annot.shape"
   ]
  },
  {
   "cell_type": "code",
   "execution_count": null,
   "metadata": {},
   "outputs": [],
   "source": [
    "annot['CPD_NAME_TYPE'].value_counts()"
   ]
  },
  {
   "cell_type": "markdown",
   "metadata": {},
   "source": [
    "Compute feature correlation matrix:"
   ]
  },
  {
   "cell_type": "code",
   "execution_count": null,
   "metadata": {},
   "outputs": [],
   "source": [
    "# feature correlation\n",
    "featcor = pd.DataFrame(np.corrcoef(imgdata.T),\n",
    "                       index=imgdata.columns,\n",
    "                       columns=imgdata.columns )"
   ]
  },
  {
   "cell_type": "code",
   "execution_count": null,
   "metadata": {},
   "outputs": [],
   "source": [
    "plot_heatmap(featcor)"
   ]
  },
  {
   "cell_type": "code",
   "execution_count": null,
   "metadata": {},
   "outputs": [],
   "source": [
    "drug_df = annot[annot['ASSAY_WELL_ROLE'] == 'treated']"
   ]
  },
  {
   "cell_type": "markdown",
   "metadata": {},
   "source": [
    "Get the replicate pair map, a table that indicates which (plate - well) tuples are replicate measurements based on screen metadata:"
   ]
  },
  {
   "cell_type": "code",
   "execution_count": null,
   "metadata": {},
   "outputs": [],
   "source": [
    "# replicate map\n",
    "repl_map = pd.merge(drug_df, drug_df, on=['ASSAY_WELL_ROLE',\n",
    "                           'broad_sample',\n",
    "                           'mmoles_per_liter',\n",
    "                           'CPD_NAME',\n",
    "                           'CPD_NAME_TYPE',\n",
    "                           'CPD_SMILES'], how='inner')"
   ]
  },
  {
   "cell_type": "code",
   "execution_count": null,
   "metadata": {},
   "outputs": [],
   "source": [
    "repl_map = repl_map[repl_map['plateID_x'] != repl_map['plateID_y']]"
   ]
  },
  {
   "cell_type": "code",
   "execution_count": null,
   "metadata": {},
   "outputs": [],
   "source": [
    "repl_map['repID'] = ['_'.join(sorted(tup)) for tup in zip(repl_map['plateID_x'].astype(str), repl_map['plateID_y'].astype(str))]"
   ]
  },
  {
   "cell_type": "code",
   "execution_count": null,
   "metadata": {},
   "outputs": [],
   "source": [
    "repl_map = repl_map.drop_duplicates(subset=['repID', 'CPD_NAME', 'mmoles_per_liter']).reset_index(drop=True)"
   ]
  },
  {
   "cell_type": "code",
   "execution_count": null,
   "metadata": {},
   "outputs": [],
   "source": [
    "rep_one = repl_map[['plateID_x', 'well_position_x']]"
   ]
  },
  {
   "cell_type": "code",
   "execution_count": null,
   "metadata": {},
   "outputs": [],
   "source": [
    "rep_two = repl_map[['plateID_y', 'well_position_y']]"
   ]
  },
  {
   "cell_type": "code",
   "execution_count": null,
   "metadata": {},
   "outputs": [],
   "source": [
    "imgdata = pd.concat([imgdata, annot[['plateID', 'well_position']]], axis=1)"
   ]
  },
  {
   "cell_type": "code",
   "execution_count": null,
   "metadata": {},
   "outputs": [],
   "source": [
    "rep_one = rep_one.rename(columns={'plateID_x': 'plateID',\n",
    "                        'well_position_x': 'well_position'})\n",
    "rep_one = pd.merge(left=rep_one, right=imgdata, how='left')"
   ]
  },
  {
   "cell_type": "code",
   "execution_count": null,
   "metadata": {},
   "outputs": [],
   "source": [
    "rep_two = rep_two.rename(columns={'plateID_y': 'plateID',\n",
    "                        'well_position_y': 'well_position'})\n",
    "rep_two = pd.merge(left=rep_two, right=imgdata, how='left')"
   ]
  },
  {
   "cell_type": "markdown",
   "metadata": {},
   "source": [
    "Remove replicate pairs that differ in cell count by more than the 75th percentile of absolute difference between replicate cell counts:"
   ]
  },
  {
   "cell_type": "code",
   "execution_count": null,
   "metadata": {},
   "outputs": [],
   "source": [
    "thresh = np.percentile((rep_one['Cells_Number_Object_Number'] - rep_two['Cells_Number_Object_Number']).abs().values, 75)"
   ]
  },
  {
   "cell_type": "code",
   "execution_count": null,
   "metadata": {},
   "outputs": [],
   "source": [
    "good_repl = ((rep_one['Cells_Number_Object_Number'] - rep_two['Cells_Number_Object_Number']).abs() < thresh)\n",
    "# bad replicates\n",
    "bad_repl = ~good_repl\n",
    "badrep_one = rep_one.loc[bad_repl,['plateID', 'well_position']]\n",
    "badrep_two = rep_two.loc[bad_repl,['plateID', 'well_position']]\n",
    "\n",
    "rep_one = rep_one.loc[good_repl,:]\n",
    "rep_two = rep_two.loc[good_repl,:]"
   ]
  },
  {
   "cell_type": "code",
   "execution_count": null,
   "metadata": {},
   "outputs": [],
   "source": [
    "repcor = rep_one.drop(columns=['plateID', 'well_position']).corrwith(rep_two.drop(columns=['plateID', 'well_position']))"
   ]
  },
  {
   "cell_type": "code",
   "execution_count": null,
   "metadata": {},
   "outputs": [],
   "source": [
    "sel_feats = repcor[repcor > 0.5].index.values"
   ]
  },
  {
   "cell_type": "code",
   "execution_count": null,
   "metadata": {},
   "outputs": [],
   "source": [
    "# create a dictionary with various selected feature lists\n",
    "featdict = dict()\n",
    "featdict['repcor'] = sel_feats"
   ]
  },
  {
   "cell_type": "code",
   "execution_count": null,
   "metadata": {},
   "outputs": [],
   "source": [
    "X_subset = imgdata[sel_feats]"
   ]
  },
  {
   "cell_type": "code",
   "execution_count": null,
   "metadata": {},
   "outputs": [],
   "source": [
    "# feature correlation\n",
    "featcor = pd.DataFrame(np.corrcoef(X_subset.T),\n",
    "                       index=X_subset.columns,\n",
    "                       columns=X_subset.columns )\n",
    "plot_heatmap(featcor)"
   ]
  },
  {
   "cell_type": "code",
   "execution_count": null,
   "metadata": {},
   "outputs": [],
   "source": [
    "feat_plot = 'Cells_AreaShape_Eccentricity'\n",
    "scat_df = pd.concat([rep_one[[feat_plot]],\n",
    "          rep_two[[feat_plot]]], axis=1)\n",
    "scat_df.columns = [feat_plot + '_x', feat_plot +'_y']\n",
    "\n",
    "\n",
    "fig, ax = plt.subplots(figsize=(6,6))\n",
    "#plt.plot([-2, 0.5], [-2, 0.5], linewidth=1.5, linestyle='--', color='black')\n",
    "sn.scatterplot(x=feat_plot + '_x', y=feat_plot + '_y',\n",
    "               data=scat_df, ax=ax, alpha=0.5)\n",
    "\n",
    "sn.despine()\n",
    "ax.annotate(\"r = {:.2f}\".format(repcor[feat_plot]),\n",
    "                xy=(.1, .9), xycoords=ax.transAxes)\n",
    "#ax.set_xlim((-2,0.5))\n",
    "#ax.set_ylim((-2,0.5))\n",
    "\n",
    "plt.xlabel(feat_plot + ' (replicate 1)')\n",
    "plt.ylabel(feat_plot + ' (replicate 2)')\n",
    "xticks = ax.xaxis.get_major_ticks() \n",
    "xticks[0].label1.set_visible(False)\n",
    "yticks = ax.yaxis.get_major_ticks() \n",
    "yticks[0].label1.set_visible(False)\n",
    "sn.set(font_scale=1.4, style='white')"
   ]
  },
  {
   "cell_type": "code",
   "execution_count": null,
   "metadata": {},
   "outputs": [],
   "source": [
    "prof_rep1 = rep_one[sel_feats].reset_index(drop=True)\n",
    "prof_rep2 = rep_two[sel_feats].reset_index(drop=True)"
   ]
  },
  {
   "cell_type": "code",
   "execution_count": null,
   "metadata": {},
   "outputs": [],
   "source": [
    "# subset to 2000 replicate pairs to speed up computations\n",
    "np.random.seed(607)\n",
    "subset = np.random.choice(prof_rep1.index, size=2000)"
   ]
  },
  {
   "cell_type": "markdown",
   "metadata": {},
   "source": [
    "Run variable selection:"
   ]
  },
  {
   "cell_type": "code",
   "execution_count": null,
   "metadata": {},
   "outputs": [],
   "source": [
    "from bioimg.singlecell import select_residcor\n",
    "sel_feats = select_residcor(prof1=prof_rep1.loc[subset,:], prof2=prof_rep2.loc[subset,:],\n",
    "                            sel = ['Cells_AreaShape_Eccentricity', \n",
    "                                   'Cells_Intensity_MeanIntensity_Mito'])"
   ]
  },
  {
   "cell_type": "code",
   "execution_count": null,
   "metadata": {},
   "outputs": [],
   "source": [
    "print(\"Number of selected features: %d\" % len(sel_feats))"
   ]
  },
  {
   "cell_type": "code",
   "execution_count": null,
   "metadata": {},
   "outputs": [],
   "source": [
    "sel_feats.sort()\n",
    "featdict['residcor'] = sel_feats"
   ]
  },
  {
   "cell_type": "code",
   "execution_count": null,
   "metadata": {},
   "outputs": [],
   "source": [
    "featdict = {k : v if type(v)==list else v.tolist() for k,v in featdict.items()}\n",
    "\n",
    "with open('featselect.json', 'w') as fp:\n",
    "    json.dump(featdict, fp)"
   ]
  },
  {
   "cell_type": "code",
   "execution_count": null,
   "metadata": {},
   "outputs": [],
   "source": [
    "X_subset = imgdata[sel_feats]\n",
    "# feature correlation\n",
    "featcor = pd.DataFrame(np.corrcoef(X_subset.T),\n",
    "                       index=X_subset.columns,\n",
    "                       columns=X_subset.columns )\n",
    "plot_heatmap(featcor, xticklabels=5, size=(12,14),\n",
    "            vmax=1, vmin=-1)"
   ]
  },
  {
   "cell_type": "markdown",
   "metadata": {},
   "source": [
    "Check out replicates with large absolute deviation in terms of cell count:"
   ]
  },
  {
   "cell_type": "code",
   "execution_count": null,
   "metadata": {},
   "outputs": [],
   "source": [
    "badrep_one.head()"
   ]
  },
  {
   "cell_type": "code",
   "execution_count": null,
   "metadata": {},
   "outputs": [],
   "source": [
    "badrep_one = badrep_one.groupby(['plateID', 'well_position'], as_index=False).size().reset_index(name='count')"
   ]
  },
  {
   "cell_type": "code",
   "execution_count": null,
   "metadata": {},
   "outputs": [],
   "source": [
    "badrep_two = badrep_two.groupby(['plateID', 'well_position'], as_index=False).size().reset_index(name='count')"
   ]
  },
  {
   "cell_type": "code",
   "execution_count": null,
   "metadata": {},
   "outputs": [],
   "source": [
    "badwells = (pd.concat([badrep_one[badrep_one['count'] > 1],\n",
    "          badrep_two[badrep_two['count'] > 1]]).\n",
    "drop_duplicates(['plateID', 'well_position']))"
   ]
  },
  {
   "cell_type": "code",
   "execution_count": null,
   "metadata": {},
   "outputs": [],
   "source": []
  },
  {
   "cell_type": "code",
   "execution_count": null,
   "metadata": {},
   "outputs": [],
   "source": [
    "#badwells.to_csv('../data/Bray-noisywells.csv')"
   ]
  },
  {
   "cell_type": "markdown",
   "metadata": {},
   "source": [
    "Here we observe an edge effect: noisy wells (when cell counts are compared across the replicates) are mostly localized on the edge (close to columns 1-3 and the second peak at the right edge, columns 22-24)"
   ]
  },
  {
   "cell_type": "code",
   "execution_count": null,
   "metadata": {},
   "outputs": [],
   "source": [
    "plt.hist([int(re.findall('[0-9]+', s)[0]) for s in badwells['well_position'].value_counts().index[:100].values])\n",
    "sn.despine()\n",
    "plt.xlabel('Plate column')\n",
    "plt.title('Top noisy well distribution')\n",
    "plt.xlim((1,24))\n",
    "plt.show()"
   ]
  },
  {
   "cell_type": "markdown",
   "metadata": {},
   "source": [
    "Remove wells with large deviations in cell count across multiple replicates:"
   ]
  },
  {
   "cell_type": "code",
   "execution_count": null,
   "metadata": {},
   "outputs": [],
   "source": [
    "imgfilt = pd.merge(left=imgdata[['plateID', 'well_position'] + featdict['residcor'] ],\n",
    "         right=badwells[['plateID', 'well_position']],\n",
    "        how='outer', indicator=True)"
   ]
  },
  {
   "cell_type": "code",
   "execution_count": null,
   "metadata": {},
   "outputs": [],
   "source": [
    "imgfilt = imgfilt[imgfilt['_merge'] == 'left_only'].reset_index(drop=True)"
   ]
  },
  {
   "cell_type": "markdown",
   "metadata": {},
   "source": [
    "Subset only to drugs with common names:"
   ]
  },
  {
   "cell_type": "code",
   "execution_count": null,
   "metadata": {},
   "outputs": [],
   "source": [
    "annot_common = annot[np.isin(annot['CPD_NAME_TYPE'], ['common', 'primary-common'])].reset_index(drop=True)\n",
    "annot_common = annot_common[['plateID', 'well_position', 'CPD_NAME', 'mmoles_per_liter']]"
   ]
  },
  {
   "cell_type": "code",
   "execution_count": null,
   "metadata": {},
   "outputs": [],
   "source": [
    "imgfilt = pd.merge(imgfilt, annot_common)"
   ]
  },
  {
   "cell_type": "code",
   "execution_count": null,
   "metadata": {},
   "outputs": [],
   "source": [
    "# aggregated compound profiles\n",
    "comp_prof = imgfilt.groupby(['CPD_NAME', 'mmoles_per_liter'], as_index=True).agg('mean')"
   ]
  },
  {
   "cell_type": "code",
   "execution_count": null,
   "metadata": {},
   "outputs": [],
   "source": [
    "comp_prof = comp_prof[featdict['residcor']]"
   ]
  },
  {
   "cell_type": "code",
   "execution_count": null,
   "metadata": {},
   "outputs": [],
   "source": [
    "'''\n",
    "thresh = np.percentile(comp_prof.abs().sum(axis=1), 50)\n",
    "comp_prof = comp_prof[comp_prof.abs().sum(axis=1) > thresh]\n",
    "'''"
   ]
  },
  {
   "cell_type": "code",
   "execution_count": null,
   "metadata": {},
   "outputs": [],
   "source": [
    "#comp_prof.to_csv('../data/drugprofiles_Bray.csv')"
   ]
  },
  {
   "cell_type": "code",
   "execution_count": null,
   "metadata": {},
   "outputs": [],
   "source": [
    "thresh = np.percentile(comp_prof.abs().sum(axis=1), 90)\n",
    "comp_prof = comp_prof[comp_prof.abs().sum(axis=1) > thresh]"
   ]
  },
  {
   "cell_type": "code",
   "execution_count": null,
   "metadata": {},
   "outputs": [],
   "source": [
    "plot_heatmap(comp_prof, xticklabels=False,\n",
    "             yticklabels=True,\n",
    "             size=(12,20), vmin=-10, vmax=10)"
   ]
  },
  {
   "cell_type": "code",
   "execution_count": null,
   "metadata": {},
   "outputs": [],
   "source": []
  }
 ],
 "metadata": {
  "kernelspec": {
   "display_name": "Python 3",
   "language": "python",
   "name": "python3"
  },
  "language_info": {
   "codemirror_mode": {
    "name": "ipython",
    "version": 3
   },
   "file_extension": ".py",
   "mimetype": "text/x-python",
   "name": "python",
   "nbconvert_exporter": "python",
   "pygments_lexer": "ipython3",
   "version": "3.8.3"
  }
 },
 "nbformat": 4,
 "nbformat_minor": 4
}

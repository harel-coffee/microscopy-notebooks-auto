{
 "cells": [
  {
   "cell_type": "markdown",
   "metadata": {},
   "source": [
    "# Aggregated Well Profiles"
   ]
  },
  {
   "cell_type": "code",
   "execution_count": null,
   "metadata": {},
   "outputs": [],
   "source": [
    "# load third-party Python modules\n",
    "import javabridge\n",
    "import bioformats as bf\n",
    "import skimage\n",
    "import numpy as np\n",
    "import matplotlib.pyplot as plt\n",
    "import seaborn as sn\n",
    "import pandas as pd\n",
    "import re\n",
    "import os\n",
    "import sys\n",
    "import h5py\n",
    "import json\n",
    "from sklearn.manifold import TSNE\n",
    "\n",
    "javabridge.start_vm(class_path=bf.JARS)"
   ]
  },
  {
   "cell_type": "code",
   "execution_count": null,
   "metadata": {},
   "outputs": [],
   "source": [
    "patannot = pd.read_csv('../data/coculture_metafiles/patannot.txt',\n",
    "                      sep='\\t')"
   ]
  },
  {
   "cell_type": "code",
   "execution_count": null,
   "metadata": {},
   "outputs": [],
   "source": [
    "# load plate annotation\n",
    "annot_df = pd.read_csv('../data/AML_trainset/drugannot.txt',\n",
    "                      sep='\\t')"
   ]
  },
  {
   "cell_type": "code",
   "execution_count": null,
   "metadata": {},
   "outputs": [],
   "source": [
    "hcl_annot = pd.read_csv('../data/coculture_metafiles/HCL_plate_layout.txt',\n",
    "                       sep='\\t')"
   ]
  },
  {
   "cell_type": "code",
   "execution_count": null,
   "metadata": {},
   "outputs": [],
   "source": [
    "hcl_annot.head()"
   ]
  },
  {
   "cell_type": "code",
   "execution_count": null,
   "metadata": {},
   "outputs": [],
   "source": [
    "# load viable cell count data\n",
    "viabcount = pd.read_table('../data/viable-count.tsv')"
   ]
  },
  {
   "cell_type": "code",
   "execution_count": null,
   "metadata": {},
   "outputs": [],
   "source": [
    "viabcount.head()"
   ]
  },
  {
   "cell_type": "code",
   "execution_count": null,
   "metadata": {},
   "outputs": [],
   "source": [
    "with open('featselect.json') as file:\n",
    "    featdict = json.load(file)\n",
    "{k : len(v) for k,v in featdict.items()}"
   ]
  },
  {
   "cell_type": "code",
   "execution_count": null,
   "metadata": {},
   "outputs": [],
   "source": [
    "feat_sel = ['well'] + featdict['residcor']"
   ]
  },
  {
   "cell_type": "code",
   "execution_count": null,
   "metadata": {},
   "outputs": [],
   "source": [
    "prof_dir = '../data/coculture_profiles/'"
   ]
  },
  {
   "cell_type": "code",
   "execution_count": null,
   "metadata": {},
   "outputs": [],
   "source": [
    "plates = os.listdir(prof_dir)"
   ]
  },
  {
   "cell_type": "code",
   "execution_count": null,
   "metadata": {},
   "outputs": [],
   "source": [
    "data_all = []\n",
    "for plate in plates:\n",
    "    imgdf = pd.read_csv(os.path.join(prof_dir, plate))\n",
    "    X_subset = imgdf[feat_sel].copy()\n",
    "    count_df = viabcount[viabcount['plate']==plate.replace('.csv', '')]\n",
    "    count_df = count_df.drop(['plate'], axis=1)\n",
    "    X_subset = pd.merge(X_subset,\n",
    "                        count_df,\n",
    "                        on='well')\n",
    "    \n",
    "    if patannot[patannot['plate']== plate.replace('.csv', '')]['Diagnosis'].values[0] == 'HCL':\n",
    "        plate_df = pd.merge(X_subset, hcl_annot, on='well')\n",
    "    else:\n",
    "        plate_df = pd.merge(X_subset, annot_df,on='well')\n",
    "    mono = plate_df[plate_df['Culture']=='Mono-culture'].drop(['well', 'Culture', 'conc'], axis=1)\n",
    "    co = plate_df[plate_df['Culture']=='Co-culture'].drop(['well', 'Culture', 'conc'], axis=1)\n",
    "\n",
    "    mono = mono.groupby(['Drug'], as_index=False).agg('mean')\n",
    "    co = co.groupby(['Drug'], as_index=False).agg('mean')\n",
    "\n",
    "    plate_df = pd.merge(mono,co, on='Drug', how='inner')\n",
    "    plate_df.index = plate_df['Drug']\n",
    "    plate_df = plate_df.drop(['Drug'], axis=1)\n",
    "    plate_df['plate'] = plate.replace('.csv', '')\n",
    "    data_all.append(plate_df)"
   ]
  },
  {
   "cell_type": "code",
   "execution_count": null,
   "metadata": {},
   "outputs": [],
   "source": [
    "df_all = pd.concat(data_all)"
   ]
  },
  {
   "cell_type": "code",
   "execution_count": null,
   "metadata": {},
   "outputs": [],
   "source": [
    "df_wide = pd.pivot_table(df_all, index=df_all.index, columns='plate')"
   ]
  },
  {
   "cell_type": "code",
   "execution_count": null,
   "metadata": {},
   "outputs": [],
   "source": [
    "df_wide = df_wide[df_wide.index != \"Vemurafenib\"]"
   ]
  },
  {
   "cell_type": "code",
   "execution_count": null,
   "metadata": {},
   "outputs": [],
   "source": [
    "from bioimg.singlecell import plot_heatmap\n",
    "plot_heatmap(df_wide, xticklabels=False, size=(10,14),\n",
    "            yticklabels=True, vmin=-5, vmax=5)"
   ]
  },
  {
   "cell_type": "markdown",
   "metadata": {},
   "source": [
    "Now include drug concentrations:"
   ]
  },
  {
   "cell_type": "code",
   "execution_count": null,
   "metadata": {},
   "outputs": [],
   "source": [
    "data_all = []\n",
    "for plate in plates:\n",
    "    imgdf = pd.read_csv(os.path.join(prof_dir, plate))\n",
    "    X_subset = imgdf[feat_sel].copy()\n",
    "    \n",
    "    count_df = viabcount[viabcount['plate']==plate.replace('.csv', '')]\n",
    "    count_df = count_df.drop(['plate'], axis=1)\n",
    "    X_subset = pd.merge(X_subset,\n",
    "                        count_df,\n",
    "                        on='well')\n",
    "    \n",
    "    plate_df = pd.merge(X_subset, annot_df,on='well')\n",
    "    plate_df['drugconc'] = plate_df['Drug']+\"_\"+plate_df['conc'].astype(str)\n",
    "    mono = plate_df[plate_df['Culture']=='Mono-culture'].drop(['well', 'Culture', 'Drug', 'conc'], axis=1)\n",
    "    co = plate_df[plate_df['Culture']=='Co-culture'].drop(['well', 'Culture', 'Drug', 'conc'], axis=1)\n",
    "\n",
    "    mono = mono.groupby(['drugconc'], as_index=False).agg('mean')\n",
    "    co = co.groupby(['drugconc'], as_index=False).agg('mean')\n",
    "\n",
    "    plate_df = pd.merge(mono,co, on='drugconc', how='inner')\n",
    "    plate_df.index = plate_df['drugconc']\n",
    "    plate_df = plate_df.drop(['drugconc'], axis=1)\n",
    "    plate_df['plate'] = plate.replace('.csv', '')\n",
    "    data_all.append(plate_df)"
   ]
  },
  {
   "cell_type": "code",
   "execution_count": null,
   "metadata": {},
   "outputs": [],
   "source": [
    "df_all = pd.concat(data_all)"
   ]
  },
  {
   "cell_type": "code",
   "execution_count": null,
   "metadata": {},
   "outputs": [],
   "source": [
    "#df_wide[df_wide.isna()] = 0"
   ]
  },
  {
   "cell_type": "code",
   "execution_count": null,
   "metadata": {},
   "outputs": [],
   "source": [
    "'''plot_heatmap(df_wide, xticklabels=False, size=(10,24),\n",
    "            yticklabels=True, vmin=-5, vmax=5)'''"
   ]
  },
  {
   "cell_type": "code",
   "execution_count": null,
   "metadata": {},
   "outputs": [],
   "source": [
    "data_all = []\n",
    "for plate in plates:\n",
    "    imgdf = pd.read_csv(os.path.join(prof_dir, plate))\n",
    "    X_subset = imgdf[feat_sel].copy()\n",
    "    \n",
    "    count_df = viabcount[viabcount['plate']==plate.replace('.csv', '')]\n",
    "    count_df = count_df.drop(['plate'], axis=1)\n",
    "    X_subset = pd.merge(X_subset,\n",
    "                        count_df,\n",
    "                        on='well')\n",
    "    \n",
    "    if patannot[patannot['plate']== plate.replace('.csv', '')]['Diagnosis'].values[0] == 'HCL':\n",
    "        plate_df = pd.merge(X_subset, hcl_annot, on='well')\n",
    "    else:\n",
    "        plate_df = pd.merge(X_subset, annot_df,on='well')\n",
    "    plate_df['drugconc'] = plate_df['Drug']+\"_\"+plate_df['conc'].astype(str)\n",
    "    mono = plate_df[plate_df['Culture']=='Mono-culture'].drop(['well', 'Culture', 'Drug', 'conc'], axis=1)\n",
    "    co = plate_df[plate_df['Culture']=='Co-culture'].drop(['well', 'Culture', 'Drug', 'conc'], axis=1)\n",
    "\n",
    "    mono = mono.groupby(['drugconc'], as_index=False).agg('mean')\n",
    "    mono.columns = mono.columns + \"_M\"\n",
    "    co = co.groupby(['drugconc'], as_index=False).agg('mean')\n",
    "    co.columns = co.columns + \"_C\"\n",
    "    \n",
    "    mono = mono.rename({\"drugconc_M\": \"drugconc\"}, axis=1)\n",
    "    co = co.rename({\"drugconc_C\": \"drugconc\"}, axis=1)\n",
    "\n",
    "    plate_df = pd.merge(mono,co, on='drugconc', how='inner')\n",
    "    plate_df.index = plate_df['drugconc']\n",
    "    plate_df = plate_df.drop(['drugconc'], axis=1)\n",
    "    plate_df['plate'] = plate.replace('.csv', '')\n",
    "    data_all.append(plate_df)"
   ]
  },
  {
   "cell_type": "code",
   "execution_count": null,
   "metadata": {},
   "outputs": [],
   "source": [
    "df_all = pd.concat(data_all)"
   ]
  },
  {
   "cell_type": "code",
   "execution_count": null,
   "metadata": {},
   "outputs": [],
   "source": [
    "df_wide = pd.pivot_table(df_all, index=df_all.index, columns='plate')\n",
    "df_wide.columns = df_wide.columns.map('|'.join)"
   ]
  },
  {
   "cell_type": "code",
   "execution_count": null,
   "metadata": {},
   "outputs": [],
   "source": [
    "df_wide.to_csv('../data/all_profiles_coculture.csv')"
   ]
  },
  {
   "cell_type": "code",
   "execution_count": null,
   "metadata": {},
   "outputs": [],
   "source": []
  }
 ],
 "metadata": {
  "kernelspec": {
   "display_name": "Python 3",
   "language": "python",
   "name": "python3"
  },
  "language_info": {
   "codemirror_mode": {
    "name": "ipython",
    "version": 3
   },
   "file_extension": ".py",
   "mimetype": "text/x-python",
   "name": "python",
   "nbconvert_exporter": "python",
   "pygments_lexer": "ipython3",
   "version": "3.8.5"
  }
 },
 "nbformat": 4,
 "nbformat_minor": 4
}

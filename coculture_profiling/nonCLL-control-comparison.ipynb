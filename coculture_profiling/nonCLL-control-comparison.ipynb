{
 "cells": [
  {
   "cell_type": "markdown",
   "metadata": {},
   "source": [
    "# Comparison of cell subpopulations "
   ]
  },
  {
   "cell_type": "code",
   "execution_count": null,
   "metadata": {},
   "outputs": [],
   "source": [
    "# load third-party Python modules\n",
    "import javabridge\n",
    "import bioformats as bf\n",
    "import skimage\n",
    "import numpy as np\n",
    "import matplotlib.pyplot as plt\n",
    "import seaborn as sn\n",
    "import pandas as pd\n",
    "import re\n",
    "import os\n",
    "import sys\n",
    "import h5py\n",
    "import json\n",
    "from sklearn.manifold import TSNE\n",
    "\n",
    "javabridge.start_vm(class_path=bf.JARS)"
   ]
  },
  {
   "cell_type": "code",
   "execution_count": null,
   "metadata": {},
   "outputs": [],
   "source": [
    "def load_cells(platedir, wells, annot, which=[1,2]):\n",
    "    imgdf = []\n",
    "    for w in wells:\n",
    "        if os.path.exists(os.path.join(platedir, w+'.csv')):\n",
    "            df = pd.read_csv(os.path.join(platedir, w+'.csv'))\n",
    "            imgdf.append(df[np.isin(df['class'], which)])\n",
    "    imgdf = pd.concat(imgdf).reset_index(drop=True)\n",
    "    labels = imgdf[['class', 'file']]\n",
    "    imgdf = imgdf.drop(['class', 'file'], axis=1)\n",
    "    labels['well'] = labels['file'].replace(regex=r'f[0-9].+', value='') \n",
    "    labels = pd.merge(labels, annot, on='well')\n",
    "    return imgdf, labels"
   ]
  },
  {
   "cell_type": "markdown",
   "metadata": {},
   "source": [
    "## Coculture vs Monoculture Subpopulations in 180528_Plate5"
   ]
  },
  {
   "cell_type": "code",
   "execution_count": null,
   "metadata": {},
   "outputs": [],
   "source": [
    "#platedir = '/Volumes/gitlab/microscopy-notebooks/imgdata/180528_Plate5/'\n",
    "platedir = '../data/imgdata/180528_Plate5/'\n",
    "# load plate annotation\n",
    "annot_df = pd.read_csv('../data/AML_trainset/drugannot.txt',\n",
    "                      sep='\\t')\n",
    "hcl_annot = pd.read_csv('../data/coculture_metafiles/HCL_plate_layout.txt',\n",
    "                       sep='\\t')"
   ]
  },
  {
   "cell_type": "code",
   "execution_count": null,
   "metadata": {},
   "outputs": [],
   "source": [
    "patannot = pd.read_csv('../data/coculture_metafiles/patannot.txt',\n",
    "                      sep='\\t')"
   ]
  },
  {
   "cell_type": "code",
   "execution_count": null,
   "metadata": {},
   "outputs": [],
   "source": [
    "dmso = annot_df[annot_df.Drug == 'DMSO'].reset_index(drop=True)\n",
    "dmso_wells = dmso['well'].unique()"
   ]
  },
  {
   "cell_type": "code",
   "execution_count": null,
   "metadata": {},
   "outputs": [],
   "source": [
    "# which=2 selects only 'Viable' cancer cells\n",
    "ctrl_df, ctrl_annot = load_cells(platedir=platedir, wells=dmso_wells, annot=annot_df, which=2)"
   ]
  },
  {
   "cell_type": "code",
   "execution_count": null,
   "metadata": {},
   "outputs": [],
   "source": [
    "def subset_ncells(imgdf, labels, n):\n",
    "    subset = np.random.choice(imgdf.index, size=n)\n",
    "    imgdf_s = imgdf.loc[subset,:].reset_index(drop=True)\n",
    "    labels_s = labels.loc[subset,:].reset_index(drop=True)\n",
    "    return imgdf_s, labels_s"
   ]
  },
  {
   "cell_type": "code",
   "execution_count": null,
   "metadata": {},
   "outputs": [],
   "source": [
    "'''np.random.seed(107)\n",
    "if ctrl_df.shape[0] > 5000:\n",
    "    ctrl_df, ctrl_annot = subset_ncells(imgdf=ctrl_df, labels=ctrl_annot, n=5000)'''"
   ]
  },
  {
   "cell_type": "markdown",
   "metadata": {},
   "source": [
    "Load feature selection dictionary:"
   ]
  },
  {
   "cell_type": "code",
   "execution_count": null,
   "metadata": {},
   "outputs": [],
   "source": [
    "with open('featselect.json') as file:\n",
    "    featdict = json.load(file)\n",
    "{k : len(v) for k,v in featdict.items()}"
   ]
  },
  {
   "cell_type": "code",
   "execution_count": null,
   "metadata": {},
   "outputs": [],
   "source": [
    "from bioimg.singlecell import preprocess_data\n",
    "sel = featdict['repcor'] + ['ch-Lysosomal-area',\n",
    "                            'ch-Lysosomal-extent']\n",
    "ctrl_df = preprocess_data(df=ctrl_df, sel=sel, glog=True)"
   ]
  },
  {
   "cell_type": "code",
   "execution_count": null,
   "metadata": {},
   "outputs": [],
   "source": [
    "from sklearn.preprocessing import StandardScaler\n",
    "from bioimg.singlecell import scale_data, check_data\n",
    "scaler = StandardScaler().fit(X=ctrl_df)\n",
    "ctrl_scaled = scale_data(ctrl_df, scaler=scaler)"
   ]
  },
  {
   "cell_type": "markdown",
   "metadata": {},
   "source": [
    "Run Mann-Whitney-Wilcoxon test:"
   ]
  },
  {
   "cell_type": "code",
   "execution_count": null,
   "metadata": {},
   "outputs": [],
   "source": [
    "#X_ctrl = ctrl_scaled[featdict['residcor']]\n",
    "X_ctrl = ctrl_scaled"
   ]
  },
  {
   "cell_type": "code",
   "execution_count": null,
   "metadata": {},
   "outputs": [],
   "source": [
    "from scipy.stats import mannwhitneyu, ks_2samp\n",
    "from statsmodels.stats.multitest import multipletests\n",
    "pvaldf = pd.DataFrame(X_ctrl.apply(lambda x: mannwhitneyu(x[ctrl_annot.Culture == 'Mono-culture'],\n",
    "                                     x[ctrl_annot.Culture == 'Co-culture'])[1]), columns=['pval'])\n",
    "pvaldf['padj'] = multipletests(pvaldf['pval'], alpha=0.01, method='fdr_bh')[1]"
   ]
  },
  {
   "cell_type": "code",
   "execution_count": null,
   "metadata": {},
   "outputs": [],
   "source": [
    "pvaldf[pvaldf['padj']<0.01].shape"
   ]
  },
  {
   "cell_type": "code",
   "execution_count": null,
   "metadata": {},
   "outputs": [],
   "source": [
    "med_diff = pd.DataFrame(X_ctrl.apply(lambda x: np.median(x[ctrl_annot.Culture == 'Co-culture']) -\\\n",
    "                          np.median(x[ctrl_annot.Culture == 'Mono-culture'])), columns=['diff_medians'])"
   ]
  },
  {
   "cell_type": "code",
   "execution_count": null,
   "metadata": {},
   "outputs": [],
   "source": [
    "pd.concat([pvaldf, med_diff], axis=1)"
   ]
  },
  {
   "cell_type": "markdown",
   "metadata": {},
   "source": [
    "Two-sample Kolmogorov-Smirnov test:"
   ]
  },
  {
   "cell_type": "code",
   "execution_count": null,
   "metadata": {},
   "outputs": [],
   "source": [
    "pvaldf = pd.DataFrame(X_ctrl.apply(lambda x: ks_2samp(x[ctrl_annot.Culture == 'Mono-culture'],\n",
    "                                     x[ctrl_annot.Culture == 'Co-culture'], mode='asymp')[1]), columns=['pval'])\n",
    "pvaldf['padj'] = multipletests(pvaldf['pval'], alpha=0.01, method='fdr_bh')[1]"
   ]
  },
  {
   "cell_type": "code",
   "execution_count": null,
   "metadata": {},
   "outputs": [],
   "source": [
    "pvaldf[pvaldf['padj']<0.01].shape"
   ]
  },
  {
   "cell_type": "code",
   "execution_count": null,
   "metadata": {},
   "outputs": [],
   "source": [
    "feat_subset = ['ch-Hoechst-mean_intensity',\n",
    "               'ch-Lysosomal-mean_intensity',\n",
    "               'ch-Calcein-convex_area',\n",
    "               'ch-Hoechst-SumAverage-d3-0',\n",
    "               'ch-Calcein-eccentricity',\n",
    "               'ch-Lysosomal-InfoMeas1-d7-0',\n",
    "               'ch-Hoechst-weighted_moments-0-1',\n",
    "               'ch-Hoechst-InfoMeas1-d7-3',\n",
    "               'ch-Lysosomal-Contrast-d7-3']\n",
    "X_subset = X_ctrl[feat_subset]"
   ]
  },
  {
   "cell_type": "code",
   "execution_count": null,
   "metadata": {},
   "outputs": [],
   "source": [
    "pvaldf = pd.DataFrame(X_subset.apply(lambda x: mannwhitneyu(x[ctrl_annot.Culture == 'Mono-culture'],\n",
    "                                     x[ctrl_annot.Culture == 'Co-culture'])[1]), columns=['pval'])\n",
    "pvaldf['padj'] = multipletests(pvaldf['pval'], alpha=0.01, method='fdr_bh')[1]"
   ]
  },
  {
   "cell_type": "code",
   "execution_count": null,
   "metadata": {},
   "outputs": [],
   "source": [
    "pvaldf"
   ]
  },
  {
   "cell_type": "code",
   "execution_count": null,
   "metadata": {},
   "outputs": [],
   "source": [
    "pvaldf = pd.DataFrame(X_subset.apply(lambda x: ks_2samp(x[ctrl_annot.Culture == 'Mono-culture'],\n",
    "                                     x[ctrl_annot.Culture == 'Co-culture'], mode='asymp')[1]), columns=['pval'])\n",
    "pvaldf['padj'] = multipletests(pvaldf['pval'], alpha=0.01, method='fdr_bh')[1]"
   ]
  },
  {
   "cell_type": "code",
   "execution_count": null,
   "metadata": {},
   "outputs": [],
   "source": [
    "pvaldf"
   ]
  },
  {
   "cell_type": "code",
   "execution_count": null,
   "metadata": {},
   "outputs": [],
   "source": [
    "feat_subset = feat_subset + [\"ch-Calcein-moments_central-2-2\",\n",
    "                             \"ch-Hoechst-SumAverage-d3-0\",\n",
    "                             \"ch-Calcein-moments_hu-1\",\n",
    "                             \"ch-Lysosomal-InfoMeas1-d7-0\",\n",
    "                             \"ch-Hoechst-InfoMeas1-d7-3\",\n",
    "                             \"ch-Hoechst-InfoMeas1-d5-3\",\n",
    "                             \"ch-Hoechst-SumAverage-d7-1\",\n",
    "                             \"ch-Hoechst-SumAverage-d5-3\",\n",
    "                             'ch-Lysosomal-area',\n",
    "                             'ch-Lysosomal-extent']\n",
    "feat_subset = list(set(feat_subset))"
   ]
  },
  {
   "cell_type": "markdown",
   "metadata": {},
   "source": [
    "## Aggregate All Coculture Wells"
   ]
  },
  {
   "cell_type": "code",
   "execution_count": null,
   "metadata": {},
   "outputs": [],
   "source": [
    "#path = '/Volumes/gitlab/microscopy-notebooks/imgdata/'\n",
    "path = '../data/imgdata/'\n",
    "plates = os.listdir(path)"
   ]
  },
  {
   "cell_type": "code",
   "execution_count": null,
   "metadata": {},
   "outputs": [],
   "source": [
    "np.random.seed(107)\n",
    "X_ctrl = []\n",
    "X_annot = []\n",
    "pvals = []\n",
    "for plate in plates:\n",
    "    platedir = os.path.join(path, plate)\n",
    "    if patannot[patannot['plate']== plate.replace('.csv', '')]['Diagnosis'].values[0] == 'HCL':\n",
    "        ctrl_df, ctrl_annot = load_cells(platedir=platedir, \n",
    "                                     wells=dmso_wells,\n",
    "                                     annot=hcl_annot, which=2)\n",
    "    else:\n",
    "        ctrl_df, ctrl_annot = load_cells(platedir=platedir, \n",
    "                                     wells=dmso_wells,\n",
    "                                     annot=annot_df, which=2)\n",
    "    if ctrl_df.shape[0] > 5000:\n",
    "        ctrl_df, ctrl_annot = subset_ncells(imgdf=ctrl_df,\n",
    "                                            labels=ctrl_annot, \n",
    "                                            n=5000)\n",
    "    ctrl_df = preprocess_data(df=ctrl_df, sel=sel, glog=True)\n",
    "    scaler = StandardScaler().fit(X=ctrl_df)\n",
    "    ctrl_scaled = scale_data(ctrl_df, scaler=scaler)\n",
    "    ctrl_annot['plate'] = plate\n",
    "    \n",
    "    X_subset = ctrl_scaled[feat_subset]\n",
    "    pvaldf = pd.DataFrame(X_subset.apply(lambda x: mannwhitneyu(x[ctrl_annot.Culture == 'Mono-culture'],\n",
    "                                     x[ctrl_annot.Culture == 'Co-culture'])[1]), columns=['pval'])\n",
    "    pvaldf['plate'] = plate\n",
    "    med_diff = pd.DataFrame(X_subset.apply(lambda x: np.median(x[ctrl_annot.Culture == 'Co-culture']) -\\\n",
    "                          np.median(x[ctrl_annot.Culture == 'Mono-culture'])), columns=['diff_medians'])\n",
    "    pvaldf = pd.concat([pvaldf, med_diff], axis=1)\n",
    "    \n",
    "    X_ctrl.append(ctrl_scaled)\n",
    "    X_annot.append(ctrl_annot)\n",
    "    pvals.append(pvaldf)"
   ]
  },
  {
   "cell_type": "code",
   "execution_count": null,
   "metadata": {},
   "outputs": [],
   "source": [
    "pvals = pd.concat(pvals)\n",
    "pvals['padj'] = multipletests(pvals['pval'], alpha=0.01, method='fdr_bh')[1]"
   ]
  },
  {
   "cell_type": "code",
   "execution_count": null,
   "metadata": {},
   "outputs": [],
   "source": [
    "pvals.to_csv('../data/diff_DMSO.csv')"
   ]
  },
  {
   "cell_type": "code",
   "execution_count": null,
   "metadata": {},
   "outputs": [],
   "source": [
    "X_ctrl = pd.concat(X_ctrl)"
   ]
  },
  {
   "cell_type": "code",
   "execution_count": null,
   "metadata": {},
   "outputs": [],
   "source": [
    "X_ctrl = pd.concat([X_ctrl, pd.concat(X_annot)], axis=1)"
   ]
  },
  {
   "cell_type": "code",
   "execution_count": null,
   "metadata": {},
   "outputs": [],
   "source": [
    "colsub = ['Culture'] + feat_subset\n",
    "X_long = pd.melt(X_ctrl[colsub], \n",
    "                 id_vars=['Culture'], \n",
    "                 value_vars=feat_subset,\n",
    "                 var_name='feature', \n",
    "                 value_name='val')"
   ]
  },
  {
   "cell_type": "code",
   "execution_count": null,
   "metadata": {},
   "outputs": [],
   "source": [
    "X_subset = X_ctrl[feat_subset]\n",
    "ctrl_annot = pd.concat(X_annot)\n",
    "pvaldf = pd.DataFrame(X_subset.apply(lambda x: ks_2samp(x[ctrl_annot.Culture == 'Mono-culture'],\n",
    "                                     x[ctrl_annot.Culture == 'Co-culture'], mode='asymp')[1]), columns=['pval'])\n",
    "pvaldf['padj'] = multipletests(pvaldf['pval'], alpha=0.01, method='fdr_bh')[1]"
   ]
  },
  {
   "cell_type": "code",
   "execution_count": null,
   "metadata": {},
   "outputs": [],
   "source": [
    "X_subset.shape"
   ]
  },
  {
   "cell_type": "code",
   "execution_count": null,
   "metadata": {},
   "outputs": [],
   "source": [
    "pvaldf"
   ]
  },
  {
   "cell_type": "code",
   "execution_count": null,
   "metadata": {},
   "outputs": [],
   "source": [
    "from bioimg.singlecell import facet_density\n",
    "sn.set(font_scale=1.3)\n",
    "sn.set_style('white')\n",
    "facet_density(X_long, feat_column='feature',\n",
    "             ncols=3, hue='Culture',\n",
    "             sharey=False, size=(10,8),\n",
    "              hue_order=['Mono-culture', 'Co-culture'],\n",
    "             aspect=1.4)\n",
    "#plt.savefig('../figures/DMSO-allwells-featdist.pdf', bbox_inches='tight')"
   ]
  },
  {
   "cell_type": "code",
   "execution_count": null,
   "metadata": {},
   "outputs": [],
   "source": [
    "plt.figure(figsize=(10,10))\n",
    "sn.set(font_scale=1.3)\n",
    "sn.set_style('white')\n",
    "g = sn.FacetGrid(X_long,\n",
    "                 col='feature',\n",
    "                 hue='Culture',\n",
    "                 hue_order=['Mono-culture', 'Co-culture'],\n",
    "                 col_wrap=3,\n",
    "                 sharex=False,\n",
    "                 aspect=1.3)\n",
    "g.map(sn.distplot, \"val\", hist=False, kde_kws={'cumulative': True, 'lw': 3}).add_legend()\n",
    "feat_subset = X_long['feature'].unique()\n",
    "axes = g.axes.flatten()\n",
    "for i, ax in enumerate(axes):\n",
    "    ax.set_title(feat_subset[i].replace('ch-', ''))\n",
    "    ax.set_xlabel('')"
   ]
  },
  {
   "cell_type": "markdown",
   "metadata": {},
   "source": [
    "## Recursive Feature Elimination"
   ]
  },
  {
   "cell_type": "code",
   "execution_count": null,
   "metadata": {},
   "outputs": [],
   "source": [
    "from bioimg.singlecell import recursive_elim"
   ]
  },
  {
   "cell_type": "code",
   "execution_count": null,
   "metadata": {},
   "outputs": [],
   "source": [
    "y=np.copy(ctrl_annot['Culture'].values)\n",
    "y[y=='Mono-culture'] = 0\n",
    "y[y=='Co-culture'] = 1\n",
    "y = y.astype(int)"
   ]
  },
  {
   "cell_type": "code",
   "execution_count": null,
   "metadata": {},
   "outputs": [],
   "source": [
    "X_subset = X_ctrl[featdict['residcor']]"
   ]
  },
  {
   "cell_type": "code",
   "execution_count": null,
   "metadata": {},
   "outputs": [],
   "source": [
    "rfe = recursive_elim(df=X_subset, y=y, n_feat=9, elim_step=1)"
   ]
  },
  {
   "cell_type": "code",
   "execution_count": null,
   "metadata": {},
   "outputs": [],
   "source": [
    "from bioimg.singlecell import select_features\n",
    "X_rfe = select_features(df=X_subset, sel=rfe)"
   ]
  },
  {
   "cell_type": "code",
   "execution_count": null,
   "metadata": {},
   "outputs": [],
   "source": [
    "colsub = ['Culture'] + X_rfe.columns.values.tolist()\n",
    "X_long = pd.melt(X_ctrl[colsub], \n",
    "                 id_vars=['Culture'], \n",
    "                 value_vars=X_rfe.columns.values,\n",
    "                 var_name='feature', \n",
    "                 value_name='val')"
   ]
  },
  {
   "cell_type": "code",
   "execution_count": null,
   "metadata": {},
   "outputs": [],
   "source": [
    "sn.set(font_scale=1.3)\n",
    "sn.set_style('white')\n",
    "facet_density(X_long, feat_column='feature',\n",
    "             ncols=3, hue='Culture',\n",
    "             sharey=False, size=(10,8),\n",
    "              hue_order=['Mono-culture', 'Co-culture'],\n",
    "             aspect=1.4)\n",
    "plt.savefig('../figures/DMSO-allwells-featdist.pdf', bbox_inches='tight')"
   ]
  },
  {
   "cell_type": "code",
   "execution_count": null,
   "metadata": {},
   "outputs": [],
   "source": [
    "feat_subset = X_rfe.columns.values"
   ]
  },
  {
   "cell_type": "code",
   "execution_count": null,
   "metadata": {},
   "outputs": [],
   "source": [
    "np.random.seed(107)\n",
    "X_ctrl = []\n",
    "X_annot = []\n",
    "pvals = []\n",
    "for plate in plates:\n",
    "    platedir = os.path.join('../imgdata', plate)\n",
    "    ctrl_df, ctrl_annot = load_cells(platedir=platedir, \n",
    "                                     wells=dmso_wells,\n",
    "                                     annot=annot_df, which=2)\n",
    "    if ctrl_df.shape[0] > 5000:\n",
    "        ctrl_df, ctrl_annot = subset_ncells(imgdf=ctrl_df,\n",
    "                                            labels=ctrl_annot, \n",
    "                                            n=5000)\n",
    "    ctrl_df = preprocess_data(df=ctrl_df, sel=sel, glog=True)\n",
    "    scaler = StandardScaler().fit(X=ctrl_df)\n",
    "    ctrl_scaled = scale_data(ctrl_df, scaler=scaler)\n",
    "    ctrl_annot['plate'] = plate\n",
    "    \n",
    "    X_subset = ctrl_scaled[feat_subset]\n",
    "    pvaldf = pd.DataFrame(X_subset.apply(lambda x: mannwhitneyu(x[ctrl_annot.Culture == 'Mono-culture'],\n",
    "                                     x[ctrl_annot.Culture == 'Co-culture'])[1]), columns=['pval'])\n",
    "    pvaldf['plate'] = plate\n",
    "    med_diff = pd.DataFrame(X_subset.apply(lambda x: np.median(x[ctrl_annot.Culture == 'Co-culture']) -\\\n",
    "                          np.median(x[ctrl_annot.Culture == 'Mono-culture'])), columns=['diff_medians'])\n",
    "    pvaldf = pd.concat([pvaldf, med_diff], axis=1)\n",
    "    \n",
    "    X_ctrl.append(ctrl_scaled)\n",
    "    X_annot.append(ctrl_annot)\n",
    "    pvals.append(pvaldf)"
   ]
  },
  {
   "cell_type": "code",
   "execution_count": null,
   "metadata": {},
   "outputs": [],
   "source": [
    "pvals = pd.concat(pvals)\n",
    "pvals['padj'] = multipletests(pvals['pval'], alpha=0.01, method='fdr_bh')[1]"
   ]
  },
  {
   "cell_type": "code",
   "execution_count": null,
   "metadata": {},
   "outputs": [],
   "source": [
    "#pvals.to_csv('../data/diff_DMSO.csv')"
   ]
  },
  {
   "cell_type": "code",
   "execution_count": null,
   "metadata": {},
   "outputs": [],
   "source": []
  }
 ],
 "metadata": {
  "kernelspec": {
   "display_name": "Python 3",
   "language": "python",
   "name": "python3"
  },
  "language_info": {
   "codemirror_mode": {
    "name": "ipython",
    "version": 3
   },
   "file_extension": ".py",
   "mimetype": "text/x-python",
   "name": "python",
   "nbconvert_exporter": "python",
   "pygments_lexer": "ipython3",
   "version": "3.8.5"
  }
 },
 "nbformat": 4,
 "nbformat_minor": 4
}

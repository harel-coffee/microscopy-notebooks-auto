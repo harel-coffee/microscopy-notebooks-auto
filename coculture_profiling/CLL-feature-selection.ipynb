{
 "cells": [
  {
   "cell_type": "markdown",
   "metadata": {},
   "source": [
    "# CLL Morphology Analysis and Feature Selection\n",
    "August 14, 2020\n",
    "\n",
    "**Vladislav Kim**\n",
    "\n",
    "Here we perform basic feature selection based on replicate correlation. Multiple replicates exist.\n",
    "\n",
    "+ These plates are the same patient, screened in different plates on the same day:\n",
    "    180306 Plate 5 and 180306 Plate 1\n",
    "+ These plates are the same patient, but different aliquots, screened on different days:\n",
    "    180306 Plate 3 and 180424 Plate 6\n",
    "+ These plates are the same patient, screened in different plates on the same day:\n",
    "    180213_Plate1 and 180213_Plate4\n",
    "+ **Excluded due to low replicate correlation in terms of cell count (possibly segmentation errors)** These plates are the same patient, but different aliquots, screened on the same day:\n",
    "    180504 Plate 6 and 180504 Plate 10"
   ]
  },
  {
   "cell_type": "code",
   "execution_count": null,
   "metadata": {},
   "outputs": [],
   "source": [
    "import javabridge\n",
    "import bioformats as bf\n",
    "import skimage\n",
    "import numpy as np\n",
    "import matplotlib.pyplot as plt\n",
    "import seaborn as sn\n",
    "import pandas as pd\n",
    "import os\n",
    "import re\n",
    "import sys\n",
    "import h5py\n",
    "\n",
    "javabridge.start_vm(class_path=bf.JARS)"
   ]
  },
  {
   "cell_type": "code",
   "execution_count": null,
   "metadata": {},
   "outputs": [],
   "source": [
    "from bioimg import load_imgstack, load_image_series, read_bbox\n",
    "from sklearn.preprocessing import label_binarize\n",
    "\n",
    "def get_train_instance(path, fname, columns=['ymin','xmin','ymax','xmax'], pad=0):\n",
    "    imgstack = load_imgstack(fname=os.path.join(path, fname + \".png\"),\n",
    "                            verbose=False)\n",
    "    img = np.squeeze(imgstack)\n",
    "    df = pd.read_csv(os.path.join(path, fname + \".csv\"))\n",
    "    rmax, cmax, _ = img.shape\n",
    "    bbox = read_bbox(df=df, rmax=rmax,\n",
    "                     cmax=cmax, columns=columns,\n",
    "                     pad=pad)\n",
    "    return img, bbox"
   ]
  },
  {
   "cell_type": "markdown",
   "metadata": {},
   "source": [
    "## Check Bounding Boxes of CLL Nuclei"
   ]
  },
  {
   "cell_type": "code",
   "execution_count": null,
   "metadata": {},
   "outputs": [],
   "source": [
    "path = '/Volumes/gitlab/microscopy/data/Sophie/Evaluations/'\n",
    "plate = '180306_Plate1'"
   ]
  },
  {
   "cell_type": "code",
   "execution_count": null,
   "metadata": {},
   "outputs": [],
   "source": [
    "for f in os.listdir(path):\n",
    "    if re.search(plate, f):\n",
    "        screen_id = f\n",
    "\n",
    "path = path + screen_id"
   ]
  },
  {
   "cell_type": "code",
   "execution_count": null,
   "metadata": {},
   "outputs": [],
   "source": [
    "df = pd.read_table(os.path.join(path, 'Evaluation5', 'Objects_Population - CLL cell nuclei.txt'), skiprows=9)"
   ]
  },
  {
   "cell_type": "code",
   "execution_count": null,
   "metadata": {},
   "outputs": [],
   "source": [
    "# remove objects with area less than 10 um^2\n",
    "df = df[df['CLL cell nuclei - CLL Nuclei Area [µm²]'] > 10].reset_index(drop=True)"
   ]
  },
  {
   "cell_type": "code",
   "execution_count": null,
   "metadata": {},
   "outputs": [],
   "source": [
    "df['Row'] = df['Row'].astype(str)\n",
    "df['Column'] = df['Column'].astype(str)\n",
    "df['Field'] = df['Field'].astype(str)"
   ]
  },
  {
   "cell_type": "code",
   "execution_count": null,
   "metadata": {},
   "outputs": [],
   "source": [
    "df = df.assign(well=lambda x: 'r' + x['Row'].str.zfill(2) + 'c' + x['Column'].str.zfill(2))"
   ]
  },
  {
   "cell_type": "code",
   "execution_count": null,
   "metadata": {},
   "outputs": [],
   "source": [
    "df = df.assign(wellpos=lambda x: x['well'] + 'f' + x['Field'].str.zfill(2))"
   ]
  },
  {
   "cell_type": "code",
   "execution_count": null,
   "metadata": {},
   "outputs": [],
   "source": [
    "df = df[['well','wellpos', 'Bounding Box', 'X', 'Y']]"
   ]
  },
  {
   "cell_type": "code",
   "execution_count": null,
   "metadata": {},
   "outputs": [],
   "source": [
    "from ast import literal_eval\n",
    "df[['xmin','ymin','xmax','ymax']] = pd.DataFrame(df['Bounding Box'].apply(lambda x: list(literal_eval(x))).tolist())"
   ]
  },
  {
   "cell_type": "code",
   "execution_count": null,
   "metadata": {},
   "outputs": [],
   "source": [
    "df.head()"
   ]
  },
  {
   "cell_type": "code",
   "execution_count": null,
   "metadata": {},
   "outputs": [],
   "source": [
    "all_wells = df['well'].unique()"
   ]
  },
  {
   "cell_type": "code",
   "execution_count": null,
   "metadata": {},
   "outputs": [],
   "source": [
    "imgdir = '/Volumes/gitlab/microscopy/data/Sophie/CLL/'\n",
    "imgdir = os.path.join(imgdir, screen_id, 'Images')"
   ]
  },
  {
   "cell_type": "code",
   "execution_count": null,
   "metadata": {},
   "outputs": [],
   "source": [
    "fnames = [f for f in os.listdir(imgdir) if '.tiff' in f]\n",
    "wfiles = [f for f in fnames if 'r01c02f01' in f and '(2)' not in f]"
   ]
  },
  {
   "cell_type": "code",
   "execution_count": null,
   "metadata": {},
   "outputs": [],
   "source": [
    "imgstack = load_image_series(path=imgdir, imgfiles=[w for w in wfiles if 'ch1' in w])\n",
    "hoechst = np.max(imgstack, axis=0)\n",
    "imgstack = load_image_series(path=imgdir, imgfiles=[w for w in wfiles if 'ch2' in w])\n",
    "ly = np.max(imgstack, axis=0)"
   ]
  },
  {
   "cell_type": "code",
   "execution_count": null,
   "metadata": {},
   "outputs": [],
   "source": [
    "from bioimg import plot_channels\n",
    "plot_channels([hoechst**0.5, ly**0.5],\n",
    "              nrow=1, ncol=2,\n",
    "              titles=['Nuclei', 'Lysosomes'])"
   ]
  },
  {
   "cell_type": "code",
   "execution_count": null,
   "metadata": {},
   "outputs": [],
   "source": [
    "from bioimg import combine_channels\n",
    "col_params = dict(colors=['blue', 'white'],\n",
    "                               blend = [1.5, 0.7],\n",
    "                               gamma=[0.5, 0.4])\n",
    "img_overlay = combine_channels([hoechst, ly],\n",
    "                               **col_params)"
   ]
  },
  {
   "cell_type": "code",
   "execution_count": null,
   "metadata": {},
   "outputs": [],
   "source": [
    "well_df = df[df['wellpos']=='r01c02f01']"
   ]
  },
  {
   "cell_type": "code",
   "execution_count": null,
   "metadata": {},
   "outputs": [],
   "source": [
    "gamma = 0.3\n",
    "hoechst = hoechst**gamma\n",
    "ly = ly**gamma"
   ]
  },
  {
   "cell_type": "code",
   "execution_count": null,
   "metadata": {},
   "outputs": [],
   "source": [
    "rmax, cmax = hoechst.shape\n",
    "bbox = read_bbox(df=well_df, rmax=rmax,\n",
    "                 cmax=cmax, columns=['ymin','xmin','ymax','xmax'],\n",
    "                 pad=5)"
   ]
  },
  {
   "cell_type": "code",
   "execution_count": null,
   "metadata": {},
   "outputs": [],
   "source": [
    "from bioimg import show_bbox\n",
    "show_bbox(img=img_overlay, bbox=bbox)"
   ]
  },
  {
   "cell_type": "code",
   "execution_count": null,
   "metadata": {},
   "outputs": [],
   "source": [
    "from bioimg import ImgX\n",
    "# initialize 'ImgX' class\n",
    "imgx = ImgX(img=np.stack([hoechst, ly], axis=-1), \n",
    "            bbox=bbox,\n",
    "            n_chan=['Hoechst', 'Lysosomal'])"
   ]
  },
  {
   "cell_type": "code",
   "execution_count": null,
   "metadata": {},
   "outputs": [],
   "source": [
    "imgx.compute_props()\n",
    "img_df = imgx.get_df().copy()"
   ]
  },
  {
   "cell_type": "code",
   "execution_count": null,
   "metadata": {},
   "outputs": [],
   "source": [
    "img_df.shape"
   ]
  },
  {
   "cell_type": "markdown",
   "metadata": {},
   "source": [
    "## Explore DMSO Wells of 180306_Plate1"
   ]
  },
  {
   "cell_type": "code",
   "execution_count": null,
   "metadata": {},
   "outputs": [],
   "source": [
    "def load_CLL_cells(platedir, wells, annot, which=[1,2]):\n",
    "    imgdf = []\n",
    "    for w in wells:\n",
    "        if os.path.isfile(os.path.join(platedir, w+'.csv')):\n",
    "            df = pd.read_csv(os.path.join(platedir, w+'.csv'))\n",
    "            df['well'] = w\n",
    "            imgdf.append(df[np.isin(df['class'], which)])\n",
    "    imgdf = pd.concat(imgdf).reset_index(drop=True)\n",
    "    labels = imgdf[['class', 'well']]\n",
    "    imgdf = imgdf.drop(['class', 'well'], axis=1)\n",
    "    labels['class'] = labels['class'].apply(lambda x: 'Viable' if x == 2 else 'Apoptotic')    \n",
    "    labels = pd.merge(labels, annot, on='well')\n",
    "    return imgdf, labels"
   ]
  },
  {
   "cell_type": "code",
   "execution_count": null,
   "metadata": {},
   "outputs": [],
   "source": [
    "# load plate annotation\n",
    "annot_df = pd.read_csv('../data/AML_trainset/drugannot.txt',\n",
    "                      sep='\\t')"
   ]
  },
  {
   "cell_type": "code",
   "execution_count": null,
   "metadata": {},
   "outputs": [],
   "source": [
    "annot_df.head()"
   ]
  },
  {
   "cell_type": "code",
   "execution_count": null,
   "metadata": {},
   "outputs": [],
   "source": [
    "dmso = annot_df[annot_df.Drug == 'DMSO'].reset_index(drop=True)\n",
    "dmso_wells = dmso['well'].unique()"
   ]
  },
  {
   "cell_type": "code",
   "execution_count": null,
   "metadata": {},
   "outputs": [],
   "source": [
    "prefix = '../data/CLLdata/'"
   ]
  },
  {
   "cell_type": "code",
   "execution_count": null,
   "metadata": {},
   "outputs": [],
   "source": [
    "ctrl_df, ctrl_annot = load_CLL_cells(platedir=os.path.join(prefix,'180306_Plate1'),\n",
    "                            wells=dmso_wells, annot=dmso)"
   ]
  },
  {
   "cell_type": "code",
   "execution_count": null,
   "metadata": {},
   "outputs": [],
   "source": [
    "ctrl_df.head()"
   ]
  },
  {
   "cell_type": "code",
   "execution_count": null,
   "metadata": {},
   "outputs": [],
   "source": [
    "from bioimg.singlecell import select_features, preprocess_data\n",
    "from sklearn.feature_selection import VarianceThreshold\n",
    "sel = VarianceThreshold(threshold=1e-8).fit(ctrl_df)"
   ]
  },
  {
   "cell_type": "code",
   "execution_count": null,
   "metadata": {},
   "outputs": [],
   "source": [
    "imgdf = preprocess_data(df=ctrl_df, sel=sel, glog=True)"
   ]
  },
  {
   "cell_type": "code",
   "execution_count": null,
   "metadata": {},
   "outputs": [],
   "source": [
    "from sklearn.preprocessing import StandardScaler\n",
    "from bioimg.singlecell import scale_data, check_data\n",
    "scaler = StandardScaler().fit(X=imgdf)\n",
    "imgdf_scaled = scale_data(imgdf, scaler=scaler)"
   ]
  },
  {
   "cell_type": "code",
   "execution_count": null,
   "metadata": {},
   "outputs": [],
   "source": [
    "check_data(imgdf_scaled)"
   ]
  },
  {
   "cell_type": "code",
   "execution_count": null,
   "metadata": {},
   "outputs": [],
   "source": [
    "from sklearn.decomposition import PCA\n",
    "from sklearn.manifold import TSNE\n",
    "pcs = PCA(n_components=20).fit_transform(imgdf_scaled)\n",
    "X_tsne = TSNE(n_components=2, random_state=21, perplexity=50).fit_transform(pcs)"
   ]
  },
  {
   "cell_type": "code",
   "execution_count": null,
   "metadata": {},
   "outputs": [],
   "source": [
    "from bioimg.singlecell import plot_dimred\n",
    "X_df = pd.concat([pd.DataFrame(X_tsne, columns=['tsne1', 'tsne2']), ctrl_annot], axis=1)\n",
    "\n",
    "plot_dimred(X_df, \n",
    "            hue='Culture',\n",
    "            style='class',\n",
    "            style_order=['Viable', 'Apoptotic'],\n",
    "            title='DMSO control wells')\n",
    "plt.legend(loc='lower right',\n",
    "           bbox_to_anchor=(1.3,0.3))"
   ]
  },
  {
   "cell_type": "code",
   "execution_count": null,
   "metadata": {},
   "outputs": [],
   "source": [
    "feat_subset = ['ch-Hoechst-area', \n",
    "               'ch-Hoechst-mean_intensity',\n",
    "               'ch-Hoechst-perimeter',\n",
    "               'ch-Hoechst-eccentricity',\n",
    "               'ch-Hoechst-solidity',\n",
    "               'ch-Lysosomal-mean_intensity']\n",
    "Xfeat = imgdf_scaled.loc[:,feat_subset]\n",
    "X_df = pd.concat([X_df, Xfeat], axis=1)"
   ]
  },
  {
   "cell_type": "code",
   "execution_count": null,
   "metadata": {},
   "outputs": [],
   "source": [
    "from bioimg.singlecell import facet_dimred\n",
    "facet_dimred(X_df, feat_subset=feat_subset,\n",
    "            nrows=2, ncols=3)"
   ]
  },
  {
   "cell_type": "markdown",
   "metadata": {},
   "source": [
    "## Replicate Plates Screened on the same Day\n",
    "For feature selection load only viable nuclei:"
   ]
  },
  {
   "cell_type": "code",
   "execution_count": null,
   "metadata": {},
   "outputs": [],
   "source": [
    "all_wells = annot_df['well'].values"
   ]
  },
  {
   "cell_type": "code",
   "execution_count": null,
   "metadata": {},
   "outputs": [],
   "source": [
    "rep1_df, rep1_annot = load_CLL_cells(platedir=os.path.join(prefix,'180306_Plate1'),\n",
    "                            wells=all_wells, annot=annot_df, which=2)"
   ]
  },
  {
   "cell_type": "code",
   "execution_count": null,
   "metadata": {},
   "outputs": [],
   "source": [
    "rep1_df = preprocess_data(df=rep1_df, sel=sel, glog=True)\n",
    "# center and scale by control wells\n",
    "scaler = StandardScaler().fit(rep1_df[rep1_annot['Drug']=='DMSO'])\n",
    "rep1_scaled = scale_data(rep1_df, scaler=scaler)"
   ]
  },
  {
   "cell_type": "code",
   "execution_count": null,
   "metadata": {},
   "outputs": [],
   "source": [
    "rep2_df, rep2_annot = load_CLL_cells(platedir=os.path.join(prefix,'180306_Plate5'),\n",
    "                            wells=all_wells, annot=annot_df, which=2)"
   ]
  },
  {
   "cell_type": "code",
   "execution_count": null,
   "metadata": {},
   "outputs": [],
   "source": [
    "rep2_df = preprocess_data(df=rep2_df, sel=sel, glog=True)\n",
    "# center and scale by control wells\n",
    "scaler = StandardScaler().fit(rep2_df[rep2_annot['Drug']=='DMSO'])\n",
    "rep2_scaled = scale_data(rep2_df, scaler=scaler)"
   ]
  },
  {
   "cell_type": "code",
   "execution_count": null,
   "metadata": {},
   "outputs": [],
   "source": [
    "rep1_df.shape[1] == rep2_df.shape[1]"
   ]
  },
  {
   "cell_type": "code",
   "execution_count": null,
   "metadata": {},
   "outputs": [],
   "source": [
    "rep1_scaled.shape[1] == rep2_scaled.shape[1]"
   ]
  },
  {
   "cell_type": "code",
   "execution_count": null,
   "metadata": {},
   "outputs": [],
   "source": [
    "from bioimg.singlecell import aggregate_profiles\n",
    "prof_rep1 = aggregate_profiles(rep1_scaled, rep1_annot)\n",
    "prof_rep2 = aggregate_profiles(rep2_scaled, rep2_annot)"
   ]
  },
  {
   "cell_type": "code",
   "execution_count": null,
   "metadata": {},
   "outputs": [],
   "source": [
    "# Make sure that the same wells are present in both replicates\n",
    "prof_rep1 = prof_rep1[np.isin(prof_rep1['well'], prof_rep2['well'])]\n",
    "prof_rep2 = prof_rep2[np.isin(prof_rep2['well'], prof_rep1['well'])]"
   ]
  },
  {
   "cell_type": "code",
   "execution_count": null,
   "metadata": {},
   "outputs": [],
   "source": [
    "def get_repcor(prof1, prof2):\n",
    "    repcor = prof1.sort_values(by='well').corrwith(prof2.sort_values(by='well'))\n",
    "    return repcor"
   ]
  },
  {
   "cell_type": "code",
   "execution_count": null,
   "metadata": {},
   "outputs": [],
   "source": [
    "repcor = get_repcor(prof_rep1, prof_rep2)"
   ]
  },
  {
   "cell_type": "code",
   "execution_count": null,
   "metadata": {},
   "outputs": [],
   "source": [
    "biol_rep1 = []\n",
    "biol_rep2 = []\n",
    "\n",
    "biol_rep1.append(prof_rep1)\n",
    "biol_rep2.append(prof_rep2)"
   ]
  },
  {
   "cell_type": "markdown",
   "metadata": {},
   "source": [
    "## Replicate Plates Screened on Different Days\n",
    "For feature selection load only viable nuclei:"
   ]
  },
  {
   "cell_type": "code",
   "execution_count": null,
   "metadata": {},
   "outputs": [],
   "source": [
    "rep1_df, rep1_annot = load_CLL_cells(platedir=os.path.join(prefix,'180306_Plate3'),\n",
    "                            wells=all_wells, annot=annot_df, which=2)"
   ]
  },
  {
   "cell_type": "code",
   "execution_count": null,
   "metadata": {},
   "outputs": [],
   "source": [
    "rep1_df = preprocess_data(df=rep1_df, sel=sel, glog=True)\n",
    "# center and scale by control wells\n",
    "scaler = StandardScaler().fit(rep1_df[rep1_annot['Drug']=='DMSO'])\n",
    "rep1_scaled = scale_data(rep1_df, scaler=scaler)"
   ]
  },
  {
   "cell_type": "code",
   "execution_count": null,
   "metadata": {},
   "outputs": [],
   "source": [
    "rep2_df, rep2_annot = load_CLL_cells(platedir=os.path.join(prefix,'180424_Plate6'),\n",
    "                            wells=all_wells, annot=annot_df, which=2)"
   ]
  },
  {
   "cell_type": "code",
   "execution_count": null,
   "metadata": {},
   "outputs": [],
   "source": [
    "rep2_df = preprocess_data(df=rep2_df, sel=sel, glog=True)\n",
    "# center and scale by control wells\n",
    "scaler = StandardScaler().fit(rep2_df[rep2_annot['Drug']=='DMSO'])\n",
    "rep2_scaled = scale_data(rep2_df, scaler=scaler)"
   ]
  },
  {
   "cell_type": "code",
   "execution_count": null,
   "metadata": {},
   "outputs": [],
   "source": [
    "rep1_df.shape[1] == rep2_df.shape[1]"
   ]
  },
  {
   "cell_type": "code",
   "execution_count": null,
   "metadata": {},
   "outputs": [],
   "source": [
    "rep1_scaled.shape[1] == rep2_scaled.shape[1]"
   ]
  },
  {
   "cell_type": "code",
   "execution_count": null,
   "metadata": {},
   "outputs": [],
   "source": [
    "prof_rep1 = aggregate_profiles(rep1_scaled, rep1_annot)\n",
    "prof_rep2 = aggregate_profiles(rep2_scaled, rep2_annot)"
   ]
  },
  {
   "cell_type": "code",
   "execution_count": null,
   "metadata": {},
   "outputs": [],
   "source": [
    "# Make sure that the same wells are present in both replicates\n",
    "prof_rep1 = prof_rep1[np.isin(prof_rep1['well'], prof_rep2['well'])]\n",
    "prof_rep2 = prof_rep2[np.isin(prof_rep2['well'], prof_rep1['well'])]"
   ]
  },
  {
   "cell_type": "code",
   "execution_count": null,
   "metadata": {},
   "outputs": [],
   "source": [
    "repcor = get_repcor(prof_rep1, prof_rep2)"
   ]
  },
  {
   "cell_type": "code",
   "execution_count": null,
   "metadata": {},
   "outputs": [],
   "source": [
    "biol_rep1.append(prof_rep1)\n",
    "biol_rep2.append(prof_rep2)"
   ]
  },
  {
   "cell_type": "markdown",
   "metadata": {},
   "source": [
    "## Replicate Plates Screened on the Same Day (sample with low viability)\n",
    "For feature selection load only viable nuclei:"
   ]
  },
  {
   "cell_type": "code",
   "execution_count": null,
   "metadata": {},
   "outputs": [],
   "source": [
    "rep1_df, rep1_annot = load_CLL_cells(platedir=os.path.join(prefix,'180213_Plate1'),\n",
    "                            wells=all_wells, annot=annot_df, which=2)"
   ]
  },
  {
   "cell_type": "code",
   "execution_count": null,
   "metadata": {},
   "outputs": [],
   "source": [
    "rep1_df = preprocess_data(df=rep1_df, sel=sel, glog=True)\n",
    "# center and scale by control wells\n",
    "scaler = StandardScaler().fit(rep1_df[rep1_annot['Drug']=='DMSO'])\n",
    "rep1_scaled = scale_data(rep1_df, scaler=scaler)"
   ]
  },
  {
   "cell_type": "code",
   "execution_count": null,
   "metadata": {},
   "outputs": [],
   "source": [
    "rep2_df, rep2_annot = load_CLL_cells(platedir=os.path.join(prefix,'180213_Plate4'),\n",
    "                            wells=all_wells, annot=annot_df, which=2)"
   ]
  },
  {
   "cell_type": "code",
   "execution_count": null,
   "metadata": {},
   "outputs": [],
   "source": [
    "rep2_df = preprocess_data(df=rep2_df, sel=sel, glog=True)\n",
    "# center and scale by control wells\n",
    "scaler = StandardScaler().fit(rep2_df[rep2_annot['Drug']=='DMSO'])\n",
    "rep2_scaled = scale_data(rep2_df, scaler=scaler)"
   ]
  },
  {
   "cell_type": "code",
   "execution_count": null,
   "metadata": {},
   "outputs": [],
   "source": [
    "rep1_df.shape[1] == rep2_df.shape[1]"
   ]
  },
  {
   "cell_type": "code",
   "execution_count": null,
   "metadata": {},
   "outputs": [],
   "source": [
    "rep1_scaled.shape[1] == rep2_scaled.shape[1]"
   ]
  },
  {
   "cell_type": "code",
   "execution_count": null,
   "metadata": {},
   "outputs": [],
   "source": [
    "prof_rep1 = aggregate_profiles(rep1_scaled, rep1_annot)\n",
    "prof_rep2 = aggregate_profiles(rep2_scaled, rep2_annot)"
   ]
  },
  {
   "cell_type": "code",
   "execution_count": null,
   "metadata": {},
   "outputs": [],
   "source": [
    "# Make sure that the same wells are present in both replicates\n",
    "prof_rep1 = prof_rep1[np.isin(prof_rep1['well'], prof_rep2['well'])]\n",
    "prof_rep2 = prof_rep2[np.isin(prof_rep2['well'], prof_rep1['well'])]"
   ]
  },
  {
   "cell_type": "code",
   "execution_count": null,
   "metadata": {},
   "outputs": [],
   "source": [
    "repcor = get_repcor(prof_rep1, prof_rep2)"
   ]
  },
  {
   "cell_type": "code",
   "execution_count": null,
   "metadata": {},
   "outputs": [],
   "source": [
    "biol_rep1.append(prof_rep1)\n",
    "biol_rep2.append(prof_rep2)"
   ]
  },
  {
   "cell_type": "code",
   "execution_count": null,
   "metadata": {},
   "outputs": [],
   "source": [
    "repcor = get_repcor(pd.concat(biol_rep1).reset_index(drop=True), \n",
    "                    pd.concat(biol_rep2).reset_index(drop=True))"
   ]
  },
  {
   "cell_type": "code",
   "execution_count": null,
   "metadata": {},
   "outputs": [],
   "source": [
    "highcor = repcor[repcor > 0.5]\n",
    "highcor_df = pd.DataFrame({'feature': highcor.index, 'repcor': highcor.values})\n",
    "highcor_df['channel'] = np.NaN\n",
    "highcor_df.loc[highcor_df['feature'].str.contains('Lysosomal'),'channel'] = 'Lysosomal'\n",
    "highcor_df.loc[highcor_df['feature'].str.contains('Hoechst'),'channel'] = 'Hoechst'"
   ]
  },
  {
   "cell_type": "code",
   "execution_count": null,
   "metadata": {},
   "outputs": [],
   "source": [
    "def cm2inch(*tupl):\n",
    "    inch = 2.54\n",
    "    if isinstance(tupl[0], tuple):\n",
    "        return tuple(i/inch for i in tupl[0])\n",
    "    else:\n",
    "        return tuple(i/inch for i in tupl)"
   ]
  },
  {
   "cell_type": "code",
   "execution_count": null,
   "metadata": {},
   "outputs": [],
   "source": [
    "import matplotlib\n",
    "font = {'family' : 'normal',\n",
    "        'size'   : 9}\n",
    "\n",
    "matplotlib.rc('font', **font)"
   ]
  },
  {
   "cell_type": "code",
   "execution_count": null,
   "metadata": {},
   "outputs": [],
   "source": [
    "colors = [\"denim blue\", \"magenta\"]\n",
    "pal = sn.xkcd_palette(colors)\n",
    "\n",
    "plt.figure(figsize=cm2inch(5,4))\n",
    "sn.barplot(data=highcor_df.groupby('channel', \n",
    "                                   as_index=False).agg('count'), \n",
    "           y='channel', x='feature', palette=pal)\n",
    "plt.xlabel('Number of features ($r>0.5$)')\n",
    "plt.ylabel('')\n",
    "sn.set(style='white')\n",
    "sn.despine()\n",
    "#plt.savefig('../figures/CLL-repcor-features.pdf', bbox_inches='tight')"
   ]
  },
  {
   "cell_type": "code",
   "execution_count": null,
   "metadata": {},
   "outputs": [],
   "source": [
    "biol_rep1[0]['sample'] = biol_rep2[0]['sample'] = 'P0042'\n",
    "biol_rep1[1]['sample'] = biol_rep2[1]['sample'] = 'P0487'\n",
    "biol_rep1[2]['sample'] = biol_rep2[2]['sample'] = 'OMZP0134'"
   ]
  },
  {
   "cell_type": "code",
   "execution_count": null,
   "metadata": {},
   "outputs": [],
   "source": [
    "fig, ax = plt.subplots(figsize=(6,6))\n",
    "plt.plot([-3, 3], [-3, 3], linewidth=1.5, linestyle='--', color='black')\n",
    "sn.scatterplot(x='ch-Lysosomal-area_x', y='ch-Lysosomal-area_y',\n",
    "               data=pd.merge(pd.concat(biol_rep1)[['well', 'sample', 'ch-Lysosomal-area']],\n",
    "                             pd.concat(biol_rep2)[['well', 'sample', 'ch-Lysosomal-area']],\n",
    "                             on=['well', 'sample']), ax=ax,\n",
    "              facecolor='#c20078')\n",
    "sn.despine()\n",
    "ax.annotate(\"r = {:.2f}\".format(repcor['ch-Lysosomal-area']),\n",
    "            xy=(.1, .9), xycoords=ax.transAxes)\n",
    "ax.set_xlim((-2,3.5))\n",
    "ax.set_ylim((-2,3.5))\n",
    "plt.xlabel('Lysosomal area (rep 1)')\n",
    "plt.ylabel('Lysosomal area (rep 2)')\n",
    "xticks = ax.xaxis.get_major_ticks() \n",
    "xticks[0].label1.set_visible(False)\n",
    "yticks = ax.yaxis.get_major_ticks() \n",
    "yticks[0].label1.set_visible(False)\n",
    "sn.set(font_scale=1.4, style='white')"
   ]
  },
  {
   "cell_type": "code",
   "execution_count": null,
   "metadata": {},
   "outputs": [],
   "source": [
    "fig, ax = plt.subplots(figsize=(6,6))\n",
    "plt.plot([-3, 3], [-3, 3], linewidth=1.5, linestyle='--', color='black')\n",
    "sn.scatterplot(x='ch-Lysosomal-contrast-3_x', y='ch-Lysosomal-contrast-3_y',\n",
    "               data=pd.merge(pd.concat(biol_rep1)[['well', 'sample', 'ch-Lysosomal-contrast-3']],\n",
    "                             pd.concat(biol_rep2)[['well', 'sample', 'ch-Lysosomal-contrast-3']],\n",
    "                             on=['well', 'sample']), ax=ax,\n",
    "              facecolor='#c20078')\n",
    "sn.despine()\n",
    "ax.annotate(\"r = {:.2f}\".format(repcor['ch-Lysosomal-contrast-3']),\n",
    "            xy=(.1, .9), xycoords=ax.transAxes)\n",
    "ax.set_xlim((-3,3.5))\n",
    "ax.set_ylim((-3,3.5))\n",
    "plt.xlabel('Lysosomal contrast (rep 1)')\n",
    "plt.ylabel('Lysosomal contrast (rep 2)')\n",
    "xticks = ax.xaxis.get_major_ticks() \n",
    "xticks[0].label1.set_visible(False)\n",
    "yticks = ax.yaxis.get_major_ticks() \n",
    "yticks[0].label1.set_visible(False)\n",
    "sn.set(font_scale=1.4, style='white')"
   ]
  },
  {
   "cell_type": "code",
   "execution_count": null,
   "metadata": {},
   "outputs": [],
   "source": [
    "fig, ax = plt.subplots(figsize=(6,6))\n",
    "plt.plot([-3, 3], [-3, 3], linewidth=1.5, linestyle='--', color='black')\n",
    "sn.scatterplot(x='ch-Lysosomal-mean_intensity_x', y='ch-Lysosomal-mean_intensity_y',\n",
    "               data=pd.merge(pd.concat(biol_rep1)[['well', 'sample', 'ch-Lysosomal-mean_intensity']],\n",
    "                             pd.concat(biol_rep2)[['well', 'sample', 'ch-Lysosomal-mean_intensity']],\n",
    "                             on=['well', 'sample']), ax=ax,\n",
    "              facecolor='#c20078')\n",
    "sn.despine()\n",
    "ax.annotate(\"r = {:.2f}\".format(repcor['ch-Lysosomal-mean_intensity']),\n",
    "            xy=(.1, .9), xycoords=ax.transAxes)\n",
    "ax.set_xlim((-2,3.5))\n",
    "ax.set_ylim((-2,3.5))\n",
    "plt.xlabel('Lysosomal mean intensity (rep 1)')\n",
    "plt.ylabel('Lysosomal mean intensity (rep 2)')\n",
    "xticks = ax.xaxis.get_major_ticks() \n",
    "xticks[0].label1.set_visible(False)\n",
    "yticks = ax.yaxis.get_major_ticks() \n",
    "yticks[0].label1.set_visible(False)\n",
    "sn.set(font_scale=1.4, style='white')"
   ]
  },
  {
   "cell_type": "code",
   "execution_count": null,
   "metadata": {},
   "outputs": [],
   "source": [
    "fig, ax = plt.subplots(figsize=(6,6))\n",
    "plt.plot([-2, 2], [-2, 2], linewidth=1.5, linestyle='--', color='black')\n",
    "sn.scatterplot(x='ch-Hoechst-eccentricity_x', y='ch-Hoechst-eccentricity_y',\n",
    "               data=pd.merge(pd.concat(biol_rep1)[['well', 'sample', 'ch-Hoechst-eccentricity']],\n",
    "                             pd.concat(biol_rep2)[['well', 'sample', 'ch-Hoechst-eccentricity']], \n",
    "                             on=['well', 'sample']), ax=ax)\n",
    "sn.despine()\n",
    "ax.annotate(\"r = {:.2f}\".format(repcor['ch-Hoechst-eccentricity']),\n",
    "            xy=(.1, .9), xycoords=ax.transAxes)\n",
    "ax.set_xlim((-2.1,2))\n",
    "ax.set_ylim((-2.1,2))\n",
    "plt.xlabel('Hoechst eccentricity (rep 1)')\n",
    "plt.ylabel('Hoechst eccentricity (rep 2)')\n",
    "xticks = ax.xaxis.get_major_ticks() \n",
    "xticks[0].label1.set_visible(False)\n",
    "yticks = ax.yaxis.get_major_ticks() \n",
    "yticks[0].label1.set_visible(False)\n",
    "sn.set(font_scale=1.4, style='white')"
   ]
  },
  {
   "cell_type": "code",
   "execution_count": null,
   "metadata": {},
   "outputs": [],
   "source": [
    "prof_rep1 = pd.concat(biol_rep1)\n",
    "prof_rep2 = pd.concat(biol_rep2)"
   ]
  },
  {
   "cell_type": "code",
   "execution_count": null,
   "metadata": {},
   "outputs": [],
   "source": [
    "sel_feats = repcor[repcor > 0.5].index.values"
   ]
  },
  {
   "cell_type": "code",
   "execution_count": null,
   "metadata": {},
   "outputs": [],
   "source": [
    "# create a dictionary with various selected feature lists\n",
    "featdict = dict()\n",
    "featdict['repcor'] = sel_feats"
   ]
  },
  {
   "cell_type": "code",
   "execution_count": null,
   "metadata": {},
   "outputs": [],
   "source": [
    "X_subset = imgdf_scaled[sel_feats]"
   ]
  },
  {
   "cell_type": "code",
   "execution_count": null,
   "metadata": {},
   "outputs": [],
   "source": [
    "pcs = PCA(n_components=20).fit_transform(X_subset)\n",
    "X_tsne = TSNE(n_components=2, random_state=21, perplexity=50).fit_transform(pcs)"
   ]
  },
  {
   "cell_type": "code",
   "execution_count": null,
   "metadata": {},
   "outputs": [],
   "source": [
    "X_df = pd.concat([pd.DataFrame(X_tsne, columns=['tsne1', 'tsne2']), ctrl_annot], axis=1)\n",
    "\n",
    "plot_dimred(X_df, \n",
    "            hue='Culture',\n",
    "            style='class',\n",
    "            style_order=['Viable', 'Apoptotic'],\n",
    "            title='DMSO control wells')\n",
    "plt.legend(loc='lower right',\n",
    "           bbox_to_anchor=(1.3,0.3))"
   ]
  },
  {
   "cell_type": "code",
   "execution_count": null,
   "metadata": {},
   "outputs": [],
   "source": [
    "prof_rep1 = prof_rep1[sel_feats]\n",
    "prof_rep2 = prof_rep2[sel_feats]"
   ]
  },
  {
   "cell_type": "code",
   "execution_count": null,
   "metadata": {},
   "outputs": [],
   "source": [
    "from bioimg.singlecell import select_residcor\n",
    "sel_feats = select_residcor(prof1=prof_rep1, prof2=prof_rep2,\n",
    "                            sel = ['ch-Hoechst-eccentricity', \n",
    "                                   'ch-Lysosomal-contrast-3'])"
   ]
  },
  {
   "cell_type": "code",
   "execution_count": null,
   "metadata": {},
   "outputs": [],
   "source": [
    "print(\"Number of selected features: %d\" % len(sel_feats))"
   ]
  },
  {
   "cell_type": "code",
   "execution_count": null,
   "metadata": {},
   "outputs": [],
   "source": [
    "featdict['residcor'] = sel_feats"
   ]
  },
  {
   "cell_type": "code",
   "execution_count": null,
   "metadata": {},
   "outputs": [],
   "source": [
    "from bioimg.singlecell import plot_heatmap\n",
    "X_subset = imgdf_scaled[sel_feats]\n",
    "featnames = [f.replace('ch-', '') for f in X_subset.columns]\n",
    "# feature correlation\n",
    "featcor = pd.DataFrame(np.corrcoef(X_subset.T),\n",
    "                       index=featnames,\n",
    "                       columns=featnames )\n",
    "plot_heatmap(featcor, xticklabels=True, size=(12,14))\n",
    "plt.show()"
   ]
  },
  {
   "cell_type": "code",
   "execution_count": null,
   "metadata": {},
   "outputs": [],
   "source": [
    "feat_subset = ['ch-Hoechst-eccentricity', \n",
    "               'ch-Lysosomal-moments_hu-1',\n",
    "               'ch-Hoechst-moments_hu-3',\n",
    "               'ch-Hoechst-solidity',\n",
    "               'ch-Hoechst-zernike-r20-1',\n",
    "               'ch-Hoechst-InfoMeas1-d5-1',\n",
    "               'ch-Lysosomal-zernike-r20-24',\n",
    "               'ch-Lysosomal-area',\n",
    "               'ch-Lysosomal-extent']\n",
    "Xfeat = imgdf_scaled.loc[:,feat_subset]\n",
    "X_df = pd.concat([X_df, Xfeat], axis=1)"
   ]
  },
  {
   "cell_type": "code",
   "execution_count": null,
   "metadata": {},
   "outputs": [],
   "source": [
    "from bioimg.singlecell import facet_dimred\n",
    "facet_dimred(X_df, feat_subset=feat_subset,\n",
    "            nrows=3, ncols=3)"
   ]
  },
  {
   "cell_type": "code",
   "execution_count": null,
   "metadata": {},
   "outputs": [],
   "source": [
    "featdict = {k : v if type(v)==list else v.tolist() for k,v in featdict.items()}"
   ]
  },
  {
   "cell_type": "code",
   "execution_count": null,
   "metadata": {},
   "outputs": [],
   "source": [
    "import json\n",
    "with open('CLL-featselect.json', 'w') as fp:\n",
    "    json.dump(featdict, fp)"
   ]
  },
  {
   "cell_type": "code",
   "execution_count": null,
   "metadata": {},
   "outputs": [],
   "source": []
  }
 ],
 "metadata": {
  "kernelspec": {
   "display_name": "Python 3",
   "language": "python",
   "name": "python3"
  },
  "language_info": {
   "codemirror_mode": {
    "name": "ipython",
    "version": 3
   },
   "file_extension": ".py",
   "mimetype": "text/x-python",
   "name": "python",
   "nbconvert_exporter": "python",
   "pygments_lexer": "ipython3",
   "version": "3.8.5"
  }
 },
 "nbformat": 4,
 "nbformat_minor": 4
}

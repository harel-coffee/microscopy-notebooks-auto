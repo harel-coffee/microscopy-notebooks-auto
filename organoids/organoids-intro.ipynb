{
 "cells": [
  {
   "cell_type": "markdown",
   "metadata": {},
   "source": [
    "# Explore Organoid Screen Data"
   ]
  },
  {
   "cell_type": "code",
   "execution_count": null,
   "metadata": {},
   "outputs": [],
   "source": [
    "# load third-party Python modules\n",
    "import javabridge\n",
    "import bioformats as bf\n",
    "import skimage\n",
    "import numpy as np\n",
    "import matplotlib.pyplot as plt\n",
    "import sys\n",
    "import os\n",
    "import seaborn as sn\n",
    "import pandas as pd\n",
    "\n",
    "javabridge.start_vm(class_path=bf.JARS)"
   ]
  },
  {
   "cell_type": "code",
   "execution_count": null,
   "metadata": {},
   "outputs": [],
   "source": [
    "path = '../data/BortenMA_OrganoSeg_FileS3/Breast Raw Images/'"
   ]
  },
  {
   "cell_type": "code",
   "execution_count": null,
   "metadata": {},
   "outputs": [],
   "source": [
    "imgpath = os.path.join(path, 'BT549')\n",
    "fnames = [f for f in os.listdir(imgpath) if 'tiff' in f]\n",
    "fnames.sort()"
   ]
  },
  {
   "cell_type": "code",
   "execution_count": null,
   "metadata": {},
   "outputs": [],
   "source": [
    "from bioimg import read_image, plot_channels"
   ]
  },
  {
   "cell_type": "code",
   "execution_count": null,
   "metadata": {},
   "outputs": [],
   "source": [
    "imgs = [read_image(os.path.join(imgpath, f), verbose=False) for f in fnames]"
   ]
  },
  {
   "cell_type": "code",
   "execution_count": null,
   "metadata": {},
   "outputs": [],
   "source": [
    "imgs[0].shape"
   ]
  },
  {
   "cell_type": "code",
   "execution_count": null,
   "metadata": {},
   "outputs": [],
   "source": [
    "plot_channels([imgs[0][:,:,i] for i in range(img.shape[-1])],\n",
    "              scale_x=6, scale_y=6,\n",
    "              nrow=1, ncol=3, cmap='gray')\n",
    "plt.show()"
   ]
  },
  {
   "cell_type": "code",
   "execution_count": null,
   "metadata": {},
   "outputs": [],
   "source": [
    "imgpath = os.path.join(path, 'DCIS.CoM')\n",
    "fnames = [f for f in os.listdir(imgpath) if 'tiff' in f]\n",
    "fnames.sort()"
   ]
  },
  {
   "cell_type": "code",
   "execution_count": null,
   "metadata": {},
   "outputs": [],
   "source": [
    "imgs = [read_image(os.path.join(imgpath, f), verbose=False) for f in fnames]"
   ]
  },
  {
   "cell_type": "code",
   "execution_count": null,
   "metadata": {},
   "outputs": [],
   "source": [
    "plot_channels([imgs[1][:,:,i] for i in range(img.shape[-1])],\n",
    "              scale_x=6, scale_y=6,\n",
    "              nrow=1, ncol=3, cmap='gray')\n",
    "plt.show()"
   ]
  },
  {
   "cell_type": "markdown",
   "metadata": {},
   "source": [
    "## Train an Unsupervised Segmentation-Free Model\n",
    "Load 3 images of each breast cancer cell line organoid"
   ]
  },
  {
   "cell_type": "code",
   "execution_count": null,
   "metadata": {},
   "outputs": [],
   "source": [
    "cell_lines = [f for f in os.listdir(path) if not f.startswith('.')]"
   ]
  },
  {
   "cell_type": "code",
   "execution_count": null,
   "metadata": {},
   "outputs": [],
   "source": [
    "import random"
   ]
  },
  {
   "cell_type": "code",
   "execution_count": null,
   "metadata": {},
   "outputs": [],
   "source": [
    "def load_cell_line(cell_line):\n",
    "    imgpath = os.path.join(path, cell_line)\n",
    "    fnames = [f for f in os.listdir(imgpath) if 'tiff' in f]\n",
    "    # sample randomly 3 files\n",
    "    random.sample(fnames, 3)"
   ]
  },
  {
   "cell_type": "code",
   "execution_count": null,
   "metadata": {},
   "outputs": [],
   "source": [
    "random.seed(2207)\n",
    "imgs_br = []\n",
    "titles = []\n",
    "for cl in cell_lines:\n",
    "    imgpath = os.path.join(path, cl)\n",
    "    fnames = [f for f in os.listdir(imgpath) if 'tiff' in f]\n",
    "    # sample randomly 3 files\n",
    "    fnames = random.sample(fnames, 3)\n",
    "    imgs = [read_image(os.path.join(imgpath, f), verbose=False) for f in fnames]\n",
    "    imgs_br += imgs\n",
    "    titles += fnames"
   ]
  },
  {
   "cell_type": "code",
   "execution_count": null,
   "metadata": {},
   "outputs": [],
   "source": [
    "from skimage.filters import gaussian"
   ]
  },
  {
   "cell_type": "code",
   "execution_count": null,
   "metadata": {},
   "outputs": [],
   "source": [
    "def subtract_background(img, sigma):\n",
    "    return img - gaussian(img, sigma=sigma)"
   ]
  },
  {
   "cell_type": "code",
   "execution_count": null,
   "metadata": {},
   "outputs": [],
   "source": [
    "img_bgsub = [np.stack([subtract_background(img[:,:,i], sigma=50) for i in range(img.shape[-1])], axis=-1) for img in imgs_br]"
   ]
  },
  {
   "cell_type": "code",
   "execution_count": null,
   "metadata": {},
   "outputs": [],
   "source": [
    "def minmax_scale(a):\n",
    "    return (a - a.min()) / (a.max() - a.min())\n",
    "\n",
    "def normalize_channels(img):\n",
    "    return np.stack([minmax_scale(img[:,:,i]) for i in range(img.shape[-1]) ], axis=-1)"
   ]
  },
  {
   "cell_type": "code",
   "execution_count": null,
   "metadata": {},
   "outputs": [],
   "source": [
    "imgs_norm = [normalize_channels(img) for img in img_bgsub ]"
   ]
  },
  {
   "cell_type": "code",
   "execution_count": null,
   "metadata": {},
   "outputs": [],
   "source": [
    "from bioimg import SegfreeProfiler\n",
    "segf = SegfreeProfiler(tile_size=(30,30),\n",
    "                       n_block_types=20,\n",
    "                       n_supblock_types=20,\n",
    "                       n_components=50)"
   ]
  },
  {
   "cell_type": "code",
   "execution_count": null,
   "metadata": {},
   "outputs": [],
   "source": [
    "tiles = segf.tile_color_images(imgs_norm)"
   ]
  },
  {
   "cell_type": "code",
   "execution_count": null,
   "metadata": {},
   "outputs": [],
   "source": [
    "plot_channels([tiles[0][i] for i in range(tiles[0].shape[0])], \n",
    "              ncol=34, nrow=25, wspace=0.05, hspace=0.05)\n",
    "plt.show()"
   ]
  },
  {
   "cell_type": "code",
   "execution_count": null,
   "metadata": {},
   "outputs": [],
   "source": [
    "segf_prof30 = segf.fit_transform(imgs_norm)"
   ]
  },
  {
   "cell_type": "code",
   "execution_count": null,
   "metadata": {},
   "outputs": [],
   "source": [
    "plt.plot(np.cumsum(segf.pca.explained_variance_ratio_), linewidth=3)\n",
    "sn.despine()\n",
    "plt.axhline(y=1, color='black', linestyle=':')\n",
    "plt.xlabel('Number of principal components')\n",
    "plt.ylabel('Cumulative explained variance')"
   ]
  },
  {
   "cell_type": "code",
   "execution_count": null,
   "metadata": {},
   "outputs": [],
   "source": [
    "# numpber of optical sections: 3\n",
    "nstacks = 3\n",
    "eigentiles = segf.pca.components_.reshape((segf.n_components, *segf.tile_size, nstacks))"
   ]
  },
  {
   "cell_type": "code",
   "execution_count": null,
   "metadata": {},
   "outputs": [],
   "source": [
    "plot_channels([np.max(eigentiles[i], axis=-1) for i in range(segf.n_components)],\n",
    "              nrow=5, ncol=10, scale_x=2, scale_y=2)\n",
    "plt.show()"
   ]
  },
  {
   "cell_type": "code",
   "execution_count": null,
   "metadata": {},
   "outputs": [],
   "source": [
    "# run at different scales and concatenate\n",
    "segf = SegfreeProfiler(tile_size=(60,60),\n",
    "                       n_block_types=20,\n",
    "                       n_supblock_types=20,\n",
    "                       n_components=50)\n",
    "segf_prof60 = segf.fit_transform(imgs_norm)"
   ]
  },
  {
   "cell_type": "code",
   "execution_count": null,
   "metadata": {},
   "outputs": [],
   "source": [
    "# run at different scales and concatenate\n",
    "segf = SegfreeProfiler(tile_size=(15,15),\n",
    "                       n_block_types=20,\n",
    "                       n_supblock_types=20,\n",
    "                       n_components=50)\n",
    "segf_prof15 = segf.fit_transform(imgs_norm)"
   ]
  },
  {
   "cell_type": "code",
   "execution_count": null,
   "metadata": {},
   "outputs": [],
   "source": [
    "segf_prof = pd.concat([segf_prof15, segf_prof30, segf_prof60], axis=1)"
   ]
  },
  {
   "cell_type": "code",
   "execution_count": null,
   "metadata": {},
   "outputs": [],
   "source": [
    "segf_prof.index = [t.replace('.tiff', '') for t in titles]"
   ]
  },
  {
   "cell_type": "code",
   "execution_count": null,
   "metadata": {},
   "outputs": [],
   "source": [
    "from sklearn.feature_selection import VarianceThreshold\n",
    "sel = VarianceThreshold(threshold=1e-4).fit(segf_prof)\n",
    "hmap = sn.clustermap(segf_prof.loc[:,sel.get_support()], metric='euclidean')"
   ]
  },
  {
   "cell_type": "code",
   "execution_count": null,
   "metadata": {},
   "outputs": [],
   "source": [
    "segf_prof.index[hmap.dendrogram_row.reordered_ind]"
   ]
  },
  {
   "cell_type": "code",
   "execution_count": null,
   "metadata": {},
   "outputs": [],
   "source": [
    "np.array(hmap.dendrogram_row.reordered_ind)"
   ]
  },
  {
   "cell_type": "code",
   "execution_count": null,
   "metadata": {},
   "outputs": [],
   "source": [
    "from bioimg import threshold_img"
   ]
  },
  {
   "cell_type": "code",
   "execution_count": null,
   "metadata": {},
   "outputs": [],
   "source": [
    "'''plot_channels([threshold_img(1-imgs_norm[21][:,:,i], method='otsu') for i in range(imgs_norm[0].shape[-1])],\n",
    "              scale_x=6, scale_y=6,\n",
    "              nrow=1, ncol=3, cmap='gray')\n",
    "plt.show()'''"
   ]
  },
  {
   "cell_type": "code",
   "execution_count": null,
   "metadata": {},
   "outputs": [],
   "source": [
    "'''plot_channels([1-imgs_norm[0][:,:,i] for i in range(imgs_norm[0].shape[-1])],\n",
    "              scale_x=6, scale_y=6,\n",
    "              nrow=1, ncol=3, cmap='gray')\n",
    "plt.show()'''"
   ]
  },
  {
   "cell_type": "markdown",
   "metadata": {},
   "source": [
    "## Colorectal Cancer Organoids in 3 Patients"
   ]
  },
  {
   "cell_type": "code",
   "execution_count": null,
   "metadata": {},
   "outputs": [],
   "source": [
    "path = '../data/BortenMA_OrganoSeg_FileS3/Colon Raw Images/'"
   ]
  },
  {
   "cell_type": "code",
   "execution_count": null,
   "metadata": {},
   "outputs": [],
   "source": [
    "patients = [f for f in os.listdir(path) if not f.startswith('.')]"
   ]
  },
  {
   "cell_type": "code",
   "execution_count": null,
   "metadata": {},
   "outputs": [],
   "source": [
    "random.seed(2207)\n",
    "imgs_crc = []\n",
    "titles = []\n",
    "for pat in patients:\n",
    "    imgpath = os.path.join(path, pat)\n",
    "    fnames = [f for f in os.listdir(imgpath) if 'tif' in f]\n",
    "    imgs = [read_image(os.path.join(imgpath, f), verbose=False) for f in fnames]\n",
    "    imgs_crc += imgs\n",
    "    titles += fnames"
   ]
  },
  {
   "cell_type": "code",
   "execution_count": null,
   "metadata": {},
   "outputs": [],
   "source": [
    "# only 3D data with 3 optical sections\n",
    "titles = [t for t, img in zip(titles, imgs_crc) if img.shape[-1] == 3]\n",
    "imgs_crc = [img for img in imgs_crc if img.shape[-1] == 3]"
   ]
  },
  {
   "cell_type": "code",
   "execution_count": null,
   "metadata": {},
   "outputs": [],
   "source": [
    "len(imgs_crc)"
   ]
  },
  {
   "cell_type": "code",
   "execution_count": null,
   "metadata": {},
   "outputs": [],
   "source": [
    "img_bgsub = [np.stack([subtract_background(img[:,:,i], sigma=50) for i in range(img.shape[-1])], axis=-1) for img in imgs_crc]"
   ]
  },
  {
   "cell_type": "code",
   "execution_count": null,
   "metadata": {},
   "outputs": [],
   "source": [
    "imgs_norm = [normalize_channels(img) for img in img_bgsub ]"
   ]
  },
  {
   "cell_type": "code",
   "execution_count": null,
   "metadata": {},
   "outputs": [],
   "source": [
    "segf = SegfreeProfiler(tile_size=(30,30),\n",
    "                       n_block_types=50,\n",
    "                       n_supblock_types=30,\n",
    "                       n_components=50)"
   ]
  },
  {
   "cell_type": "code",
   "execution_count": null,
   "metadata": {},
   "outputs": [],
   "source": [
    "tiles = segf.tile_color_images(imgs_norm)"
   ]
  },
  {
   "cell_type": "code",
   "execution_count": null,
   "metadata": {},
   "outputs": [],
   "source": [
    "plot_channels([tiles[0][i] for i in range(tiles[0].shape[0])], \n",
    "              ncol=28, nrow=21, wspace=0.05, hspace=0.05)\n",
    "plt.show()"
   ]
  },
  {
   "cell_type": "code",
   "execution_count": null,
   "metadata": {},
   "outputs": [],
   "source": [
    "segf_prof30 = segf.fit_transform(imgs_norm)"
   ]
  },
  {
   "cell_type": "code",
   "execution_count": null,
   "metadata": {},
   "outputs": [],
   "source": [
    "plt.plot(np.cumsum(segf.pca.explained_variance_ratio_), linewidth=3)\n",
    "sn.despine()\n",
    "plt.axhline(y=1, color='black', linestyle=':')\n",
    "plt.xlabel('Number of principal components')\n",
    "plt.ylabel('Cumulative explained variance')"
   ]
  },
  {
   "cell_type": "code",
   "execution_count": null,
   "metadata": {},
   "outputs": [],
   "source": [
    "# numpber of optical sections: 3\n",
    "nstacks = 3\n",
    "eigentiles = segf.pca.components_.reshape((segf.n_components, *segf.tile_size, nstacks))"
   ]
  },
  {
   "cell_type": "code",
   "execution_count": null,
   "metadata": {},
   "outputs": [],
   "source": [
    "plot_channels([np.max(eigentiles[i], axis=-1) for i in range(segf.n_components)],\n",
    "              nrow=5, ncol=10, scale_x=2, scale_y=2)\n",
    "plt.show()"
   ]
  },
  {
   "cell_type": "code",
   "execution_count": null,
   "metadata": {},
   "outputs": [],
   "source": [
    "# run at different scales and concatenate\n",
    "segf = SegfreeProfiler(tile_size=(60,60),\n",
    "                       n_block_types=50,\n",
    "                       n_supblock_types=30,\n",
    "                       n_components=50)\n",
    "segf_prof60 = segf.fit_transform(imgs_norm)"
   ]
  },
  {
   "cell_type": "code",
   "execution_count": null,
   "metadata": {},
   "outputs": [],
   "source": [
    "'''# run at different scales and concatenate\n",
    "segf = SegfreeProfiler(tile_size=(15,15),\n",
    "                       n_block_types=20,\n",
    "                       n_supblock_types=20,\n",
    "                       n_components=50)\n",
    "segf_prof15 = segf.fit_transform(imgs_norm)'''"
   ]
  },
  {
   "cell_type": "code",
   "execution_count": null,
   "metadata": {},
   "outputs": [],
   "source": [
    "segf_prof = pd.concat([segf_prof30, segf_prof60], axis=1)"
   ]
  },
  {
   "cell_type": "code",
   "execution_count": null,
   "metadata": {},
   "outputs": [],
   "source": [
    "segf_prof.index = [t.replace('.tif', '') for t in titles]"
   ]
  },
  {
   "cell_type": "code",
   "execution_count": null,
   "metadata": {},
   "outputs": [],
   "source": [
    "sel = VarianceThreshold(threshold=1e-4).fit(segf_prof)\n",
    "hmap = sn.clustermap(segf_prof.loc[:,sel.get_support()], metric='euclidean')"
   ]
  },
  {
   "cell_type": "code",
   "execution_count": null,
   "metadata": {},
   "outputs": [],
   "source": [
    "segf_prof.index[hmap.dendrogram_row.reordered_ind]"
   ]
  },
  {
   "cell_type": "code",
   "execution_count": null,
   "metadata": {},
   "outputs": [],
   "source": [
    "np.array(hmap.dendrogram_row.reordered_ind)"
   ]
  },
  {
   "cell_type": "code",
   "execution_count": null,
   "metadata": {},
   "outputs": [],
   "source": [
    "ind = 23\n",
    "plot_channels([imgs_norm[ind][:,:,i] for i in range(imgs_norm[0].shape[-1])],\n",
    "              titles=[titles[ind].replace('.tif', '')]*3,\n",
    "              scale_x=8, scale_y=8,\n",
    "              nrow=3, ncol=1, cmap='gray')\n",
    "plt.show()"
   ]
  },
  {
   "cell_type": "code",
   "execution_count": null,
   "metadata": {},
   "outputs": [],
   "source": []
  }
 ],
 "metadata": {
  "kernelspec": {
   "display_name": "Python 3",
   "language": "python",
   "name": "python3"
  },
  "language_info": {
   "codemirror_mode": {
    "name": "ipython",
    "version": 3
   },
   "file_extension": ".py",
   "mimetype": "text/x-python",
   "name": "python",
   "nbconvert_exporter": "python",
   "pygments_lexer": "ipython3",
   "version": "3.8.3"
  }
 },
 "nbformat": 4,
 "nbformat_minor": 4
}

{
 "cells": [
  {
   "cell_type": "markdown",
   "metadata": {},
   "source": [
    "## Segmentation-free profiling of organoid screens"
   ]
  },
  {
   "cell_type": "code",
   "execution_count": null,
   "metadata": {},
   "outputs": [],
   "source": [
    "import javabridge\n",
    "import bioformats as bf\n",
    "import skimage\n",
    "import numpy as np\n",
    "import matplotlib.pyplot as plt\n",
    "import sys\n",
    "import os\n",
    "import seaborn as sn\n",
    "import pandas as pd\n",
    "\n",
    "javabridge.start_vm(class_path=bf.JARS)"
   ]
  },
  {
   "cell_type": "code",
   "execution_count": null,
   "metadata": {},
   "outputs": [],
   "source": [
    "path = '../data/BortenMA_OrganoSeg_FileS3/Breast Raw Images/'"
   ]
  },
  {
   "cell_type": "code",
   "execution_count": null,
   "metadata": {},
   "outputs": [],
   "source": [
    "imgpath = os.path.join(path, 'BT549')\n",
    "fnames = [f for f in os.listdir(imgpath) if 'tiff' in f]\n",
    "fnames.sort()"
   ]
  },
  {
   "cell_type": "code",
   "execution_count": null,
   "metadata": {},
   "outputs": [],
   "source": [
    "from bioimg import read_image, plot_channels"
   ]
  },
  {
   "cell_type": "code",
   "execution_count": null,
   "metadata": {},
   "outputs": [],
   "source": [
    "imgs = [read_image(os.path.join(imgpath, f), verbose=False) for f in fnames]"
   ]
  },
  {
   "cell_type": "code",
   "execution_count": null,
   "metadata": {},
   "outputs": [],
   "source": [
    "imgs[0].shape"
   ]
  },
  {
   "cell_type": "code",
   "execution_count": null,
   "metadata": {},
   "outputs": [],
   "source": [
    "plot_channels([imgs[0][:,:,i] for i in range(imgs[0].shape[-1])],\n",
    "              scale_x=6, scale_y=6,\n",
    "              nrow=1, ncol=3, cmap='gray')\n",
    "plt.show()"
   ]
  },
  {
   "cell_type": "code",
   "execution_count": null,
   "metadata": {},
   "outputs": [],
   "source": [
    "imgpath = os.path.join(path, 'DCIS.CoM')\n",
    "fnames = [f for f in os.listdir(imgpath) if 'tiff' in f]\n",
    "fnames.sort()"
   ]
  },
  {
   "cell_type": "code",
   "execution_count": null,
   "metadata": {},
   "outputs": [],
   "source": [
    "imgs = [read_image(os.path.join(imgpath, f), verbose=False) for f in fnames]"
   ]
  },
  {
   "cell_type": "code",
   "execution_count": null,
   "metadata": {},
   "outputs": [],
   "source": [
    "plot_channels([imgs[1][:,:,i] for i in range(imgs[0].shape[-1])],\n",
    "              scale_x=6, scale_y=6,\n",
    "              nrow=1, ncol=3, cmap='gray')\n",
    "plt.show()"
   ]
  },
  {
   "cell_type": "markdown",
   "metadata": {},
   "source": [
    "## Train an Unsupervised Segmentation-Free Model\n",
    "Load 3 images of each breast cancer cell line organoid"
   ]
  },
  {
   "cell_type": "code",
   "execution_count": null,
   "metadata": {},
   "outputs": [],
   "source": [
    "cell_lines = [f for f in os.listdir(path) if not f.startswith('.')]"
   ]
  },
  {
   "cell_type": "code",
   "execution_count": null,
   "metadata": {},
   "outputs": [],
   "source": [
    "import random"
   ]
  },
  {
   "cell_type": "code",
   "execution_count": null,
   "metadata": {},
   "outputs": [],
   "source": [
    "def load_cell_line(cell_line):\n",
    "    imgpath = os.path.join(path, cell_line)\n",
    "    fnames = [f for f in os.listdir(imgpath) if 'tiff' in f]\n",
    "    # sample randomly 3 files\n",
    "    random.sample(fnames, 3)"
   ]
  },
  {
   "cell_type": "code",
   "execution_count": null,
   "metadata": {},
   "outputs": [],
   "source": [
    "random.seed(2207)\n",
    "imgs_br = []\n",
    "titles = []\n",
    "for cl in cell_lines:\n",
    "    imgpath = os.path.join(path, cl)\n",
    "    fnames = [f for f in os.listdir(imgpath) if 'tiff' in f]\n",
    "    # sample randomly 3 files\n",
    "    fnames = random.sample(fnames, 3)\n",
    "    imgs = [read_image(os.path.join(imgpath, f), verbose=False) for f in fnames]\n",
    "    imgs_br += imgs\n",
    "    titles += fnames"
   ]
  },
  {
   "cell_type": "code",
   "execution_count": null,
   "metadata": {},
   "outputs": [],
   "source": [
    "from skimage.filters import gaussian"
   ]
  },
  {
   "cell_type": "code",
   "execution_count": null,
   "metadata": {},
   "outputs": [],
   "source": [
    "def subtract_background(img, sigma):\n",
    "    return img - gaussian(img, sigma=sigma)"
   ]
  },
  {
   "cell_type": "code",
   "execution_count": null,
   "metadata": {},
   "outputs": [],
   "source": [
    "img_bgsub = [np.stack([subtract_background(img[:,:,i], sigma=50) for i in range(img.shape[-1])], axis=-1) for img in imgs_br]"
   ]
  },
  {
   "cell_type": "code",
   "execution_count": null,
   "metadata": {},
   "outputs": [],
   "source": [
    "def minmax_scale(a):\n",
    "    return (a - a.min()) / (a.max() - a.min())\n",
    "\n",
    "def normalize_channels(img):\n",
    "    return np.stack([minmax_scale(img[:,:,i]) for i in range(img.shape[-1]) ], axis=-1)"
   ]
  },
  {
   "cell_type": "code",
   "execution_count": null,
   "metadata": {},
   "outputs": [],
   "source": [
    "imgs_norm = [normalize_channels(img) for img in img_bgsub ]"
   ]
  },
  {
   "cell_type": "code",
   "execution_count": null,
   "metadata": {},
   "outputs": [],
   "source": [
    "from bioimg import SegfreeProfiler\n",
    "segf = SegfreeProfiler(tile_size=(30,30),\n",
    "                       n_block_types=20,\n",
    "                       n_supblock_types=20,\n",
    "                       n_components=50)"
   ]
  },
  {
   "cell_type": "code",
   "execution_count": null,
   "metadata": {},
   "outputs": [],
   "source": [
    "tiles = segf.tile_color_images(imgs_norm)"
   ]
  },
  {
   "cell_type": "code",
   "execution_count": null,
   "metadata": {},
   "outputs": [],
   "source": [
    "plot_channels([tiles[0][i] for i in range(tiles[0].shape[0])], \n",
    "              ncol=34, nrow=25, wspace=0.05, hspace=0.05)\n",
    "plt.show()"
   ]
  },
  {
   "cell_type": "code",
   "execution_count": null,
   "metadata": {},
   "outputs": [],
   "source": [
    "segf_prof = segf.fit_transform(imgs_norm)"
   ]
  },
  {
   "cell_type": "code",
   "execution_count": null,
   "metadata": {},
   "outputs": [],
   "source": [
    "plt.plot(np.cumsum(segf.pca.explained_variance_ratio_), linewidth=3)\n",
    "sn.despine()\n",
    "plt.axhline(y=1, color='black', linestyle=':')\n",
    "plt.xlabel('Number of principal components')\n",
    "plt.ylabel('Cumulative explained variance')"
   ]
  },
  {
   "cell_type": "code",
   "execution_count": null,
   "metadata": {},
   "outputs": [],
   "source": [
    "# numpber of optical sections: 3\n",
    "nstacks = 3\n",
    "eigentiles = segf.pca.components_.reshape((segf.n_components, *segf.tile_size, nstacks))"
   ]
  },
  {
   "cell_type": "code",
   "execution_count": null,
   "metadata": {},
   "outputs": [],
   "source": [
    "plot_channels([np.max(eigentiles[i], axis=-1) for i in range(segf.n_components)],\n",
    "              nrow=5, ncol=10, scale_x=2, scale_y=2)\n",
    "plt.show()"
   ]
  },
  {
   "cell_type": "code",
   "execution_count": null,
   "metadata": {},
   "outputs": [],
   "source": [
    "segf_prof.index = [t.replace('.tiff', '') for t in titles]"
   ]
  },
  {
   "cell_type": "code",
   "execution_count": null,
   "metadata": {},
   "outputs": [],
   "source": [
    "'''from sklearn.feature_selection import VarianceThreshold\n",
    "sel = VarianceThreshold(threshold=1e-4).fit(segf_prof)\n",
    "hmap = sn.clustermap(segf_prof.loc[:,sel.get_support()], metric='euclidean')'''"
   ]
  },
  {
   "cell_type": "markdown",
   "metadata": {},
   "source": [
    "## Feature Selection by Replicate Correlation"
   ]
  },
  {
   "cell_type": "code",
   "execution_count": null,
   "metadata": {},
   "outputs": [],
   "source": [
    "def load_replicate(path, cell_lines, random_state):\n",
    "    random.seed(random_state)\n",
    "    imgs = []\n",
    "    for cl in cell_lines:\n",
    "        imgpath = os.path.join(path, cl)\n",
    "        fnames = [f for f in os.listdir(imgpath) if 'tiff' in f]\n",
    "        imgs.append(read_image(os.path.join(imgpath, random.choice(fnames)), verbose=False))\n",
    "    return imgs"
   ]
  },
  {
   "cell_type": "code",
   "execution_count": null,
   "metadata": {},
   "outputs": [],
   "source": [
    "rep1 = load_replicate(path=path, cell_lines=cell_lines, random_state=2407)\n",
    "rep2 = load_replicate(path=path, cell_lines=cell_lines, random_state=7042)\n",
    "rep3 = load_replicate(path=path, cell_lines=cell_lines, random_state=2020)"
   ]
  },
  {
   "cell_type": "code",
   "execution_count": null,
   "metadata": {},
   "outputs": [],
   "source": [
    "rep1_df = segf.transform(rep1)\n",
    "rep2_df = segf.transform(rep2)\n",
    "rep3_df = segf.transform(rep3)"
   ]
  },
  {
   "cell_type": "code",
   "execution_count": null,
   "metadata": {},
   "outputs": [],
   "source": [
    "df1 = pd.concat([rep1_df, rep1_df, rep2_df],axis=0)\n",
    "df2 = pd.concat([rep2_df, rep3_df, rep3_df], axis=0)\n",
    "repcor = df1.corrwith(df2)"
   ]
  },
  {
   "cell_type": "code",
   "execution_count": null,
   "metadata": {},
   "outputs": [],
   "source": [
    "repcor[repcor > 0.6]"
   ]
  },
  {
   "cell_type": "code",
   "execution_count": null,
   "metadata": {},
   "outputs": [],
   "source": [
    "from sklearn.preprocessing import StandardScaler\n",
    "from bioimg.singlecell import scale_data, check_data\n",
    "segf_prof = segf_prof[repcor[repcor > 0.6].index]\n",
    "scaler = StandardScaler().fit(X=segf_prof)\n",
    "segf_scaled = scale_data(segf_prof, scaler=scaler)\n",
    "segf_scaled.index = segf_prof.index\n",
    "hmap = sn.clustermap(segf_scaled, metric='euclidean')"
   ]
  },
  {
   "cell_type": "code",
   "execution_count": null,
   "metadata": {},
   "outputs": [],
   "source": [
    "segf_scaled.index[hmap.dendrogram_row.reordered_ind]"
   ]
  },
  {
   "cell_type": "code",
   "execution_count": null,
   "metadata": {},
   "outputs": [],
   "source": [
    "np.array(hmap.dendrogram_row.reordered_ind)"
   ]
  },
  {
   "cell_type": "code",
   "execution_count": null,
   "metadata": {},
   "outputs": [],
   "source": [
    "plot_channels([imgs_norm[18][:,:,i] for i in range(imgs_norm[0].shape[-1])],\n",
    "              scale_x=6, scale_y=6,\n",
    "              nrow=1, ncol=3, cmap='gray')\n",
    "plt.show()"
   ]
  },
  {
   "cell_type": "markdown",
   "metadata": {},
   "source": [
    "## Colorectal Cancer Organoids in 3 Patients"
   ]
  },
  {
   "cell_type": "code",
   "execution_count": null,
   "metadata": {},
   "outputs": [],
   "source": [
    "path = '../data/BortenMA_OrganoSeg_FileS3/Colon Raw Images/'"
   ]
  },
  {
   "cell_type": "code",
   "execution_count": null,
   "metadata": {},
   "outputs": [],
   "source": [
    "patients = [f for f in os.listdir(path) if not f.startswith('.')]"
   ]
  },
  {
   "cell_type": "code",
   "execution_count": null,
   "metadata": {},
   "outputs": [],
   "source": [
    "random.seed(2207)\n",
    "imgs_crc = []\n",
    "titles = []\n",
    "for pat in patients:\n",
    "    imgpath = os.path.join(path, pat)\n",
    "    fnames = [f for f in os.listdir(imgpath) if 'tif' in f]\n",
    "    imgs = [read_image(os.path.join(imgpath, f), verbose=False) for f in fnames]\n",
    "    imgs_crc += imgs\n",
    "    titles += fnames"
   ]
  },
  {
   "cell_type": "code",
   "execution_count": null,
   "metadata": {},
   "outputs": [],
   "source": [
    "# only 3D data with 3 optical sections\n",
    "titles = [t for t, img in zip(titles, imgs_crc) if img.shape[-1] == 3]\n",
    "imgs_crc = [img for img in imgs_crc if img.shape[-1] == 3]"
   ]
  },
  {
   "cell_type": "code",
   "execution_count": null,
   "metadata": {},
   "outputs": [],
   "source": [
    "len(imgs_crc)"
   ]
  },
  {
   "cell_type": "code",
   "execution_count": null,
   "metadata": {},
   "outputs": [],
   "source": [
    "img_bgsub = [np.stack([subtract_background(img[:,:,i], sigma=50) for i in range(img.shape[-1])], axis=-1) for img in imgs_crc]"
   ]
  },
  {
   "cell_type": "code",
   "execution_count": null,
   "metadata": {},
   "outputs": [],
   "source": [
    "imgs_norm = [normalize_channels(img) for img in img_bgsub ]"
   ]
  },
  {
   "cell_type": "code",
   "execution_count": null,
   "metadata": {},
   "outputs": [],
   "source": [
    "segf = SegfreeProfiler(tile_size=(20,20),\n",
    "                       n_block_types=10,\n",
    "                       n_supblock_types=20,\n",
    "                       n_components=50)"
   ]
  },
  {
   "cell_type": "code",
   "execution_count": null,
   "metadata": {},
   "outputs": [],
   "source": [
    "tiles = segf.tile_color_images(imgs_norm)"
   ]
  },
  {
   "cell_type": "code",
   "execution_count": null,
   "metadata": {},
   "outputs": [],
   "source": [
    "'''plot_channels([tiles[0][i] for i in range(tiles[0].shape[0])], \n",
    "              ncol=43, nrow=32, wspace=0.05, hspace=0.05)\n",
    "plt.show()'''"
   ]
  },
  {
   "cell_type": "code",
   "execution_count": null,
   "metadata": {},
   "outputs": [],
   "source": [
    "segf_prof = segf.fit_transform(imgs_norm)"
   ]
  },
  {
   "cell_type": "code",
   "execution_count": null,
   "metadata": {},
   "outputs": [],
   "source": [
    "plt.plot(np.cumsum(segf.pca.explained_variance_ratio_), linewidth=3)\n",
    "sn.despine()\n",
    "plt.axhline(y=1, color='black', linestyle=':')\n",
    "plt.xlabel('Number of principal components')\n",
    "plt.ylabel('Cumulative explained variance')"
   ]
  },
  {
   "cell_type": "code",
   "execution_count": null,
   "metadata": {},
   "outputs": [],
   "source": [
    "# numpber of optical sections: 3\n",
    "nstacks = 3\n",
    "eigentiles = segf.pca.components_.reshape((segf.n_components, *segf.tile_size, nstacks))"
   ]
  },
  {
   "cell_type": "code",
   "execution_count": null,
   "metadata": {},
   "outputs": [],
   "source": [
    "plot_channels([np.max(eigentiles[i], axis=-1) for i in range(segf.n_components)],\n",
    "              nrow=5, ncol=10, scale_x=2, scale_y=2)\n",
    "plt.show()"
   ]
  },
  {
   "cell_type": "code",
   "execution_count": null,
   "metadata": {},
   "outputs": [],
   "source": [
    "segf_prof.index = [t.replace('.tif', '') for t in titles]\n",
    "#segf_prof = segf_prof[[col for col in segf_prof.columns.values if 'superblock' in col]]"
   ]
  },
  {
   "cell_type": "markdown",
   "metadata": {},
   "source": [
    "Path to colon cancer organoid morphological profiles:"
   ]
  },
  {
   "cell_type": "code",
   "execution_count": null,
   "metadata": {},
   "outputs": [],
   "source": [
    "datadir = '../data/BortenMA_OrganoSeg_FileS3/Colon Excel Sheets/'"
   ]
  },
  {
   "cell_type": "code",
   "execution_count": null,
   "metadata": {},
   "outputs": [],
   "source": [
    "def parse_xls(fname):\n",
    "    df = pd.read_excel(fname, None)\n",
    "    df = pd.concat(df).droplevel(-1).drop(columns=['Spheroid #'])\n",
    "    return df.groupby(df.index).agg('mean')"
   ]
  },
  {
   "cell_type": "code",
   "execution_count": null,
   "metadata": {},
   "outputs": [],
   "source": [
    "morph_data = []\n",
    "for pat in patients:\n",
    "    patdir = os.path.join(datadir, pat)\n",
    "    xls_files = os.listdir(patdir)\n",
    "    morph_data += [parse_xls(os.path.join(patdir, f)) for f in xls_files]"
   ]
  },
  {
   "cell_type": "code",
   "execution_count": null,
   "metadata": {},
   "outputs": [],
   "source": [
    "morph_df = pd.concat(morph_data)"
   ]
  },
  {
   "cell_type": "code",
   "execution_count": null,
   "metadata": {},
   "outputs": [],
   "source": [
    "morph_df = morph_df[np.isin(morph_df.index, segf_prof.index)]"
   ]
  },
  {
   "cell_type": "code",
   "execution_count": null,
   "metadata": {},
   "outputs": [],
   "source": [
    "scaler = StandardScaler().fit(X=morph_df)\n",
    "morphdf_scaled = scale_data(morph_df, scaler=scaler)"
   ]
  },
  {
   "cell_type": "code",
   "execution_count": null,
   "metadata": {},
   "outputs": [],
   "source": [
    "from sklearn.feature_selection import VarianceThreshold\n",
    "sel = VarianceThreshold(threshold=1e-4).fit(segf_prof)\n",
    "scaler = StandardScaler().fit(X=segf_prof.loc[:,sel.get_support()])\n",
    "segf_scaled = scale_data(segf_prof.loc[:,sel.get_support()], scaler=scaler)"
   ]
  },
  {
   "cell_type": "code",
   "execution_count": null,
   "metadata": {},
   "outputs": [],
   "source": [
    "morphdf_scaled.index = morph_df.index"
   ]
  },
  {
   "cell_type": "code",
   "execution_count": null,
   "metadata": {},
   "outputs": [],
   "source": [
    "segf_scaled.index = segf_prof.index"
   ]
  },
  {
   "cell_type": "code",
   "execution_count": null,
   "metadata": {},
   "outputs": [],
   "source": [
    "cormap = pd.concat([segf_scaled, morphdf_scaled], axis=1, keys=['segf', 'morph']).corr().loc['segf', 'morph']"
   ]
  },
  {
   "cell_type": "code",
   "execution_count": null,
   "metadata": {},
   "outputs": [],
   "source": [
    "maxcor = cormap.abs().max()"
   ]
  },
  {
   "cell_type": "code",
   "execution_count": null,
   "metadata": {},
   "outputs": [],
   "source": [
    "maxcor[maxcor > 0.5]"
   ]
  },
  {
   "cell_type": "code",
   "execution_count": null,
   "metadata": {},
   "outputs": [],
   "source": [
    "cormap.max().max()"
   ]
  },
  {
   "cell_type": "code",
   "execution_count": null,
   "metadata": {},
   "outputs": [],
   "source": [
    "from bioimg.singlecell import plot_heatmap\n",
    "plot_heatmap(cormap, \n",
    "             xticklabels=True,\n",
    "             yticklabels=True,\n",
    "             size=(12.5,12))"
   ]
  },
  {
   "cell_type": "markdown",
   "metadata": {},
   "source": [
    "## Feature Selection by Replicate Correlation\n",
    "Create \"virtual\" replicates by cutting images in two:"
   ]
  },
  {
   "cell_type": "code",
   "execution_count": null,
   "metadata": {},
   "outputs": [],
   "source": [
    "rep1 = [img[:,:432,:] for img in imgs_norm]\n",
    "rep2 = [img[:,432:,:] for img in imgs_norm]"
   ]
  },
  {
   "cell_type": "code",
   "execution_count": null,
   "metadata": {},
   "outputs": [],
   "source": [
    "assert(len(rep1) == len(rep2))"
   ]
  },
  {
   "cell_type": "code",
   "execution_count": null,
   "metadata": {},
   "outputs": [],
   "source": [
    "rep1_df = segf.transform(rep1)"
   ]
  },
  {
   "cell_type": "code",
   "execution_count": null,
   "metadata": {},
   "outputs": [],
   "source": [
    "rep2_df = segf.transform(rep2)"
   ]
  },
  {
   "cell_type": "code",
   "execution_count": null,
   "metadata": {},
   "outputs": [],
   "source": [
    "repcor = rep1_df.corrwith(rep2_df)"
   ]
  },
  {
   "cell_type": "code",
   "execution_count": null,
   "metadata": {},
   "outputs": [],
   "source": [
    "repcor[repcor > 0.7]"
   ]
  },
  {
   "cell_type": "code",
   "execution_count": null,
   "metadata": {},
   "outputs": [],
   "source": [
    "hmap = sn.clustermap(segf_scaled[repcor[repcor > 0.7].index], metric='euclidean')"
   ]
  },
  {
   "cell_type": "code",
   "execution_count": null,
   "metadata": {},
   "outputs": [],
   "source": [
    "#segf_scaled[repcor[repcor > 0.6].index].to_csv('colorectal_organoids.csv')"
   ]
  },
  {
   "cell_type": "code",
   "execution_count": null,
   "metadata": {},
   "outputs": [],
   "source": [
    "segf_scaled.index[hmap.dendrogram_row.reordered_ind]"
   ]
  },
  {
   "cell_type": "code",
   "execution_count": null,
   "metadata": {},
   "outputs": [],
   "source": [
    "np.array(hmap.dendrogram_row.reordered_ind)"
   ]
  },
  {
   "cell_type": "code",
   "execution_count": null,
   "metadata": {},
   "outputs": [],
   "source": [
    "ind = 27\n",
    "plt.figure(figsize=(10,8))\n",
    "plt.imshow(np.max(imgs_norm[ind], axis=-1), cmap='gray')\n",
    "plt.title(titles[ind].replace('.tif', ''))\n",
    "plt.axis('off')"
   ]
  },
  {
   "cell_type": "code",
   "execution_count": null,
   "metadata": {},
   "outputs": [],
   "source": []
  }
 ],
 "metadata": {
  "kernelspec": {
   "display_name": "Python 3",
   "language": "python",
   "name": "python3"
  },
  "language_info": {
   "codemirror_mode": {
    "name": "ipython",
    "version": 3
   },
   "file_extension": ".py",
   "mimetype": "text/x-python",
   "name": "python",
   "nbconvert_exporter": "python",
   "pygments_lexer": "ipython3",
   "version": "3.8.3"
  }
 },
 "nbformat": 4,
 "nbformat_minor": 4
}

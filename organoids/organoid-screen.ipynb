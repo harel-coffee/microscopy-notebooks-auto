{
 "cells": [
  {
   "cell_type": "markdown",
   "metadata": {},
   "source": [
    "## Segmentation-free profiling of compound screen in breast cancer organoids"
   ]
  },
  {
   "cell_type": "code",
   "execution_count": null,
   "metadata": {},
   "outputs": [],
   "source": [
    "import javabridge\n",
    "import bioformats as bf\n",
    "import skimage\n",
    "import numpy as np\n",
    "import matplotlib.pyplot as plt\n",
    "import sys\n",
    "import os\n",
    "import re\n",
    "import random\n",
    "import seaborn as sn\n",
    "import pandas as pd\n",
    "\n",
    "javabridge.start_vm(class_path=bf.JARS)"
   ]
  },
  {
   "cell_type": "code",
   "execution_count": null,
   "metadata": {},
   "outputs": [],
   "source": [
    "datadir = '/Volumes/gitlab/microscopy-notebooks/data/organoids-sylwia/CL34/'\n",
    "\n",
    "paths = [os.path.join(datadir, 'CL34A_4x_2p1mm_100umsteps_day0_001/data'),\n",
    "         os.path.join(datadir, 'CL34B_4x_2p1mm_100umsteps_day0_001/data'),\n",
    "         os.path.join(datadir, 'CL34A_4x_2p1mm_100umsteps_day3_001/data'),\n",
    "         os.path.join(datadir, 'CL34B_4x_2p1mm_100umsteps_day3_001/data')]"
   ]
  },
  {
   "cell_type": "code",
   "execution_count": null,
   "metadata": {},
   "outputs": [],
   "source": [
    "from bioimg import load_image_series, plot_channels\n",
    "\n",
    "def get_all_wells(path):\n",
    "    fnames = [f for f in os.listdir(path) if 'tif' in f]\n",
    "    fnames.sort()\n",
    "    all_wells = list(set([re.search('--(W[0-9]+)--(.+)', f).group(1) for f in fnames]))\n",
    "    return fnames, all_wells"
   ]
  },
  {
   "cell_type": "code",
   "execution_count": null,
   "metadata": {},
   "outputs": [],
   "source": [
    "random.seed(1108)\n",
    "\n",
    "imglist = []\n",
    "titles = []\n",
    "for path in paths:\n",
    "    fnames, all_wells = get_all_wells(path=path)\n",
    "    # randomly sample 10 wells\n",
    "    sel_wells = random.sample(all_wells, k=4)\n",
    "    for w in sel_wells:\n",
    "        well_files = [f for f in fnames if w in f]\n",
    "        imgstack = load_image_series(path=path, imgfiles=[w for w in well_files if 'P00001' in w])\n",
    "        imgstack = imgstack.swapaxes(0,-1)\n",
    "        imglist.append(imgstack)\n",
    "        titles.append(re.search('(.+)(--W[0-9]+)', well_files[0]).group(1))"
   ]
  },
  {
   "cell_type": "code",
   "execution_count": null,
   "metadata": {},
   "outputs": [],
   "source": [
    "imglist[0].shape"
   ]
  },
  {
   "cell_type": "code",
   "execution_count": null,
   "metadata": {},
   "outputs": [],
   "source": [
    "plot_channels([imglist[0][:,:,i] for i in range(imglist[0].shape[-1])], \n",
    "              nrow=3, ncol=7, cmap='gray')\n",
    "plt.show()"
   ]
  },
  {
   "cell_type": "code",
   "execution_count": null,
   "metadata": {},
   "outputs": [],
   "source": [
    "plt.figure(figsize=(10,10))\n",
    "plt.imshow(imglist[0][500:,500:,11], cmap='gray')\n",
    "plt.axis('off')"
   ]
  },
  {
   "cell_type": "code",
   "execution_count": null,
   "metadata": {},
   "outputs": [],
   "source": [
    "from bioimg import SegfreeProfiler\n",
    "segf = SegfreeProfiler(tile_size=(20,20),\n",
    "                       n_block_types=50,\n",
    "                       n_supblock_types=50,\n",
    "                       n_components=50)"
   ]
  },
  {
   "cell_type": "code",
   "execution_count": null,
   "metadata": {},
   "outputs": [],
   "source": [
    "tiles = segf.tile_color_images(imglist)"
   ]
  },
  {
   "cell_type": "code",
   "execution_count": null,
   "metadata": {},
   "outputs": [],
   "source": [
    "tiles[0].shape"
   ]
  },
  {
   "cell_type": "code",
   "execution_count": null,
   "metadata": {},
   "outputs": [],
   "source": [
    "'''ncol, nrow = tuple(int(x / y) for x,y in zip(imglist[0].shape, segf.tile_size))\n",
    "plot_channels([np.min(tiles[0][i],axis=-1) for i in range(tiles[0].shape[0])], \n",
    "              ncol=ncol, nrow=nrow, wspace=0.05, hspace=0.05)\n",
    "plt.show()'''"
   ]
  },
  {
   "cell_type": "code",
   "execution_count": null,
   "metadata": {},
   "outputs": [],
   "source": [
    "segf_prof = segf.fit_transform(imglist)"
   ]
  },
  {
   "cell_type": "code",
   "execution_count": null,
   "metadata": {},
   "outputs": [],
   "source": [
    "plt.plot(np.cumsum(segf.pca.explained_variance_ratio_), linewidth=3)\n",
    "sn.despine()\n",
    "plt.axhline(y=1, color='black', linestyle=':')\n",
    "plt.xlabel('Number of principal components')\n",
    "plt.ylabel('Cumulative explained variance')"
   ]
  },
  {
   "cell_type": "code",
   "execution_count": null,
   "metadata": {},
   "outputs": [],
   "source": [
    "# numpber of optical sections\n",
    "nstacks = imglist[0].shape[-1]\n",
    "eigentiles = segf.pca.components_.reshape((segf.n_components, *segf.tile_size, nstacks))"
   ]
  },
  {
   "cell_type": "code",
   "execution_count": null,
   "metadata": {},
   "outputs": [],
   "source": [
    "plot_channels([np.max(eigentiles[i], axis=-1) for i in range(segf.n_components)],\n",
    "              nrow=5, ncol=10, scale_x=2, scale_y=2)\n",
    "plt.show()"
   ]
  },
  {
   "cell_type": "code",
   "execution_count": null,
   "metadata": {},
   "outputs": [],
   "source": [
    "from sklearn.feature_selection import VarianceThreshold\n",
    "segf_prof.index = titles\n",
    "sel = VarianceThreshold(threshold=1e-4).fit(segf_prof)\n",
    "hmap = sn.clustermap(segf_prof.loc[:,sel.get_support()], metric='euclidean')"
   ]
  },
  {
   "cell_type": "code",
   "execution_count": null,
   "metadata": {},
   "outputs": [],
   "source": []
  }
 ],
 "metadata": {
  "kernelspec": {
   "display_name": "Python 3",
   "language": "python",
   "name": "python3"
  },
  "language_info": {
   "codemirror_mode": {
    "name": "ipython",
    "version": 3
   },
   "file_extension": ".py",
   "mimetype": "text/x-python",
   "name": "python",
   "nbconvert_exporter": "python",
   "pygments_lexer": "ipython3",
   "version": "3.8.3"
  }
 },
 "nbformat": 4,
 "nbformat_minor": 4
}
